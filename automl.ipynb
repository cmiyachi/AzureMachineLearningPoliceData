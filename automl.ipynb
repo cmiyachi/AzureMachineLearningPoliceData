{
  "cells": [
    {
      "cell_type": "markdown",
      "source": [
        "# Automated ML\n",
        "\n",
        "Import Dependencies. In the cell below, import all the dependencies."
      ],
      "metadata": {}
    },
    {
      "cell_type": "code",
      "source": [
        "# from the examples done in the class - eliminated things by trial and error\n",
        "from azureml.core import Dataset, Environment, Experiment, Workspace\n",
        "from azureml.core.conda_dependencies import CondaDependencies\n",
        "from azureml.core.model import InferenceConfig\n",
        "from azureml.core.webservice import AciWebservice\n",
        "from azureml.train.automl import AutoMLConfig\n",
        "from azureml.widgets import RunDetails\n",
        "\n",
        "# needed for the logging\n",
        "import sklearn"
      ],
      "outputs": [],
      "execution_count": 53,
      "metadata": {
        "gather": {
          "logged": 1611524466649
        },
        "jupyter": {
          "outputs_hidden": false,
          "source_hidden": false
        },
        "nteract": {
          "transient": {
            "deleting": false
          }
        }
      }
    },
    {
      "cell_type": "markdown",
      "source": [
        "## Dataset\n",
        "\n",
        "### Overview\n",
        "The data set the Standford Policing Project - data about traffic stops and the result of those stops. From the Kaggle web site:   https://www.kaggle.com/faressayah/stanford-open-policing-project.\n",
        "\n",
        "The model will look to predice whether a stop will result in finding drug and thus a drug arrest. \n",
        "\n",
        "This cell below will load the data.  "
      ],
      "metadata": {}
    },
    {
      "cell_type": "code",
      "source": [
        "ws = Workspace.from_config()\n",
        "\n",
        "# choose a name for experiment\n",
        "experiment_name = 'automlExperiment'\n",
        "\n",
        "experiment=Experiment(ws, experiment_name)"
      ],
      "outputs": [],
      "execution_count": 54,
      "metadata": {
        "gather": {
          "logged": 1611524469035
        },
        "jupyter": {
          "outputs_hidden": false,
          "source_hidden": false
        },
        "nteract": {
          "transient": {
            "deleting": false
          }
        }
      }
    },
    {
      "source": [
        "Make sure the data is correct by printing it out to the screen. "
      ],
      "cell_type": "markdown",
      "metadata": {}
    },
    {
      "cell_type": "code",
      "source": [
        "# create a TabularDataset from a dataset\n",
        "\n",
        "dataset = Dataset.get_by_name(ws, name='police_project')\n",
        "police_records = dataset.to_pandas_dataframe()\n",
        "\n",
        "# preview the first 3 rows of the dataset\n",
        "police_records.head(10)"
      ],
      "outputs": [
        {
          "output_type": "execute_result",
          "execution_count": 55,
          "data": {
            "text/plain": "   stop_date stop_time county_name driver_gender driver_age driver_race  \\\n0   1/2/2005      1:55          NA             1         20       White   \n1  1/18/2005      8:15          NA             1         40       White   \n2  1/23/2005     23:15          NA             1         33       White   \n3  2/20/2005     17:15          NA             1         19       White   \n4  3/14/2005     10:00          NA             0         21       White   \n5  3/23/2005      9:45          NA             1         23       Black   \n6   4/1/2005     17:30          NA             1         36       White   \n7   6/6/2005     13:20          NA             0         19       White   \n8  7/13/2005     10:15          NA             1         35       Black   \n9  7/13/2005     15:45          NA             1         35       White   \n\n   violation search_conducted search_type   stop_outcome is_arrested  \\\n0   Speeding            FALSE          NA       Citation       FALSE   \n1   Speeding            FALSE          NA       Citation       FALSE   \n2   Speeding            FALSE          NA       Citation       FALSE   \n3      Other            FALSE          NA  Arrest Driver        TRUE   \n4   Speeding            FALSE          NA       Citation       FALSE   \n5  Equipment            FALSE          NA       Citation       FALSE   \n6   Speeding            FALSE          NA       Citation       FALSE   \n7   Speeding            FALSE          NA       Citation       FALSE   \n8   Speeding            FALSE          NA       Citation       FALSE   \n9   Speeding            FALSE          NA       Citation       FALSE   \n\n  stop_duration drugs_related_stop  \n0      0-15 Min              FALSE  \n1      0-15 Min              FALSE  \n2      0-15 Min              FALSE  \n3     16-30 Min              FALSE  \n4      0-15 Min              FALSE  \n5      0-15 Min              FALSE  \n6      0-15 Min              FALSE  \n7      0-15 Min              FALSE  \n8      0-15 Min              FALSE  \n9      0-15 Min              FALSE  ",
            "text/html": "<div>\n<style scoped>\n    .dataframe tbody tr th:only-of-type {\n        vertical-align: middle;\n    }\n\n    .dataframe tbody tr th {\n        vertical-align: top;\n    }\n\n    .dataframe thead th {\n        text-align: right;\n    }\n</style>\n<table border=\"1\" class=\"dataframe\">\n  <thead>\n    <tr style=\"text-align: right;\">\n      <th></th>\n      <th>stop_date</th>\n      <th>stop_time</th>\n      <th>county_name</th>\n      <th>driver_gender</th>\n      <th>driver_age</th>\n      <th>driver_race</th>\n      <th>violation</th>\n      <th>search_conducted</th>\n      <th>search_type</th>\n      <th>stop_outcome</th>\n      <th>is_arrested</th>\n      <th>stop_duration</th>\n      <th>drugs_related_stop</th>\n    </tr>\n  </thead>\n  <tbody>\n    <tr>\n      <th>0</th>\n      <td>1/2/2005</td>\n      <td>1:55</td>\n      <td>NA</td>\n      <td>1</td>\n      <td>20</td>\n      <td>White</td>\n      <td>Speeding</td>\n      <td>FALSE</td>\n      <td>NA</td>\n      <td>Citation</td>\n      <td>FALSE</td>\n      <td>0-15 Min</td>\n      <td>FALSE</td>\n    </tr>\n    <tr>\n      <th>1</th>\n      <td>1/18/2005</td>\n      <td>8:15</td>\n      <td>NA</td>\n      <td>1</td>\n      <td>40</td>\n      <td>White</td>\n      <td>Speeding</td>\n      <td>FALSE</td>\n      <td>NA</td>\n      <td>Citation</td>\n      <td>FALSE</td>\n      <td>0-15 Min</td>\n      <td>FALSE</td>\n    </tr>\n    <tr>\n      <th>2</th>\n      <td>1/23/2005</td>\n      <td>23:15</td>\n      <td>NA</td>\n      <td>1</td>\n      <td>33</td>\n      <td>White</td>\n      <td>Speeding</td>\n      <td>FALSE</td>\n      <td>NA</td>\n      <td>Citation</td>\n      <td>FALSE</td>\n      <td>0-15 Min</td>\n      <td>FALSE</td>\n    </tr>\n    <tr>\n      <th>3</th>\n      <td>2/20/2005</td>\n      <td>17:15</td>\n      <td>NA</td>\n      <td>1</td>\n      <td>19</td>\n      <td>White</td>\n      <td>Other</td>\n      <td>FALSE</td>\n      <td>NA</td>\n      <td>Arrest Driver</td>\n      <td>TRUE</td>\n      <td>16-30 Min</td>\n      <td>FALSE</td>\n    </tr>\n    <tr>\n      <th>4</th>\n      <td>3/14/2005</td>\n      <td>10:00</td>\n      <td>NA</td>\n      <td>0</td>\n      <td>21</td>\n      <td>White</td>\n      <td>Speeding</td>\n      <td>FALSE</td>\n      <td>NA</td>\n      <td>Citation</td>\n      <td>FALSE</td>\n      <td>0-15 Min</td>\n      <td>FALSE</td>\n    </tr>\n    <tr>\n      <th>5</th>\n      <td>3/23/2005</td>\n      <td>9:45</td>\n      <td>NA</td>\n      <td>1</td>\n      <td>23</td>\n      <td>Black</td>\n      <td>Equipment</td>\n      <td>FALSE</td>\n      <td>NA</td>\n      <td>Citation</td>\n      <td>FALSE</td>\n      <td>0-15 Min</td>\n      <td>FALSE</td>\n    </tr>\n    <tr>\n      <th>6</th>\n      <td>4/1/2005</td>\n      <td>17:30</td>\n      <td>NA</td>\n      <td>1</td>\n      <td>36</td>\n      <td>White</td>\n      <td>Speeding</td>\n      <td>FALSE</td>\n      <td>NA</td>\n      <td>Citation</td>\n      <td>FALSE</td>\n      <td>0-15 Min</td>\n      <td>FALSE</td>\n    </tr>\n    <tr>\n      <th>7</th>\n      <td>6/6/2005</td>\n      <td>13:20</td>\n      <td>NA</td>\n      <td>0</td>\n      <td>19</td>\n      <td>White</td>\n      <td>Speeding</td>\n      <td>FALSE</td>\n      <td>NA</td>\n      <td>Citation</td>\n      <td>FALSE</td>\n      <td>0-15 Min</td>\n      <td>FALSE</td>\n    </tr>\n    <tr>\n      <th>8</th>\n      <td>7/13/2005</td>\n      <td>10:15</td>\n      <td>NA</td>\n      <td>1</td>\n      <td>35</td>\n      <td>Black</td>\n      <td>Speeding</td>\n      <td>FALSE</td>\n      <td>NA</td>\n      <td>Citation</td>\n      <td>FALSE</td>\n      <td>0-15 Min</td>\n      <td>FALSE</td>\n    </tr>\n    <tr>\n      <th>9</th>\n      <td>7/13/2005</td>\n      <td>15:45</td>\n      <td>NA</td>\n      <td>1</td>\n      <td>35</td>\n      <td>White</td>\n      <td>Speeding</td>\n      <td>FALSE</td>\n      <td>NA</td>\n      <td>Citation</td>\n      <td>FALSE</td>\n      <td>0-15 Min</td>\n      <td>FALSE</td>\n    </tr>\n  </tbody>\n</table>\n</div>"
          },
          "metadata": {}
        }
      ],
      "execution_count": 55,
      "metadata": {
        "collapsed": true,
        "jupyter": {
          "source_hidden": false,
          "outputs_hidden": false
        },
        "nteract": {
          "transient": {
            "deleting": false
          }
        },
        "gather": {
          "logged": 1611524475699
        }
      }
    },
    {
      "cell_type": "markdown",
      "source": [
        "## AutoML Configuration\n",
        "\n",
        "AutoML using many machine learning methods to determine the best mode. The settings set up AutoML to find the best classification model based on accuracy. \n",
        "\n"
      ],
      "metadata": {}
    },
    {
      "cell_type": "code",
      "source": [
        "automl_settings = {\n",
        "    \"task\": 'classification',\n",
        "    \"iterations\": 30,\n",
        "    \"experiment_timeout_minutes\": 15,\n",
        "    \"primary_metric\": 'accuracy',\n",
        "    \"training_data\": dataset,\n",
        "    \"label_column_name\": 'drugs_related_stop',\n",
        "    \"n_cross_validations\": 3,\n",
        "    \"max_concurrent_iterations\": 8,\n",
        "    \"max_cores_per_iteration\": -1,\n",
        "    \"debug_log\" : \"automl_errors.log\"\n",
        "}\n",
        "\n",
        "# TODO: Put your automl config here\n",
        "automl_config = AutoMLConfig(**automl_settings)"
      ],
      "outputs": [],
      "execution_count": 56,
      "metadata": {
        "gather": {
          "logged": 1611524482206
        },
        "jupyter": {
          "outputs_hidden": false,
          "source_hidden": false
        },
        "nteract": {
          "transient": {
            "deleting": false
          }
        }
      }
    },
    {
      "cell_type": "markdown",
      "source": [
        "## Run Details\n",
        "\n",
        "\n",
        "Use the `RunDetails` widget to show the different experiments."
      ],
      "metadata": {}
    },
    {
      "cell_type": "code",
      "source": [
        "#  Submit your experiment\n",
        "experiment_run = experiment.submit(automl_config)\n",
        "RunDetails(experiment_run).show()\n",
        "experiment_run.wait_for_completion(show_output=True)"
      ],
      "outputs": [
        {
          "output_type": "stream",
          "name": "stderr",
          "text": [
            "WARNING:root:Running on local machine. Note that local runs always run synchronously even if you use the parameter 'show_output=False'\n"
          ]
        },
        {
          "output_type": "display_data",
          "data": {
            "text/plain": "_AutoMLWidget(widget_settings={'childWidgetDisplay': 'popup', 'send_telemetry': False, 'log_level': 'INFO', 's…",
            "application/vnd.jupyter.widget-view+json": {
              "version_major": 2,
              "version_minor": 0,
              "model_id": "39b432e36abb4073aab89e2f55742f7a"
            }
          },
          "metadata": {}
        },
        {
          "output_type": "display_data",
          "data": {
            "application/aml.mini.widget.v1": "{\"status\": \"Completed\", \"workbench_run_details_uri\": \"https://ml.azure.com/experiments/automlExperiment/runs/AutoML_abd00848-58b1-4ed8-8a29-507e5ea4e8bb?wsid=/subscriptions/b968fb36-f06a-4c76-a15f-afab68ae7667/resourcegroups/aml-quickstarts-135919/workspaces/quick-starts-ws-135919\", \"run_id\": \"AutoML_abd00848-58b1-4ed8-8a29-507e5ea4e8bb\", \"run_properties\": {\"run_id\": \"AutoML_abd00848-58b1-4ed8-8a29-507e5ea4e8bb\", \"created_utc\": \"2021-01-24T21:41:33.667389Z\", \"properties\": {\"num_iterations\": \"30\", \"training_type\": \"TrainFull\", \"acquisition_function\": \"EI\", \"primary_metric\": \"accuracy\", \"train_split\": \"0\", \"acquisition_parameter\": \"0\", \"num_cross_validation\": \"3\", \"target\": \"local\", \"AMLSettingsJsonString\": \"{\\\"path\\\":null,\\\"name\\\":\\\"automlExperiment\\\",\\\"subscription_id\\\":\\\"b968fb36-f06a-4c76-a15f-afab68ae7667\\\",\\\"resource_group\\\":\\\"aml-quickstarts-135919\\\",\\\"workspace_name\\\":\\\"quick-starts-ws-135919\\\",\\\"region\\\":\\\"southcentralus\\\",\\\"compute_target\\\":\\\"local\\\",\\\"spark_service\\\":null,\\\"azure_service\\\":\\\"Microsoft.AzureNotebookVM\\\",\\\"many_models\\\":false,\\\"pipeline_fetch_max_batch_size\\\":1,\\\"iterations\\\":30,\\\"primary_metric\\\":\\\"accuracy\\\",\\\"task_type\\\":\\\"classification\\\",\\\"data_script\\\":null,\\\"validation_size\\\":0.0,\\\"n_cross_validations\\\":3,\\\"y_min\\\":null,\\\"y_max\\\":null,\\\"num_classes\\\":2,\\\"featurization\\\":\\\"auto\\\",\\\"_ignore_package_version_incompatibilities\\\":false,\\\"is_timeseries\\\":false,\\\"max_cores_per_iteration\\\":-1,\\\"max_concurrent_iterations\\\":8,\\\"iteration_timeout_minutes\\\":null,\\\"mem_in_mb\\\":null,\\\"enforce_time_on_windows\\\":false,\\\"experiment_timeout_minutes\\\":15,\\\"experiment_exit_score\\\":null,\\\"whitelist_models\\\":null,\\\"blacklist_algos\\\":[\\\"TensorFlowLinearClassifier\\\",\\\"TensorFlowDNN\\\"],\\\"supported_models\\\":[\\\"RandomForest\\\",\\\"BernoulliNaiveBayes\\\",\\\"LogisticRegression\\\",\\\"MultinomialNaiveBayes\\\",\\\"GradientBoosting\\\",\\\"XGBoostClassifier\\\",\\\"LinearSVM\\\",\\\"AveragedPerceptronClassifier\\\",\\\"LightGBM\\\",\\\"ExtremeRandomTrees\\\",\\\"TensorFlowDNN\\\",\\\"TensorFlowLinearClassifier\\\",\\\"SVM\\\",\\\"DecisionTree\\\",\\\"KNN\\\",\\\"SGD\\\"],\\\"auto_blacklist\\\":true,\\\"blacklist_samples_reached\\\":false,\\\"exclude_nan_labels\\\":true,\\\"verbosity\\\":20,\\\"_debug_log\\\":\\\"automl.log\\\",\\\"show_warnings\\\":false,\\\"model_explainability\\\":true,\\\"service_url\\\":null,\\\"sdk_url\\\":null,\\\"sdk_packages\\\":null,\\\"enable_onnx_compatible_models\\\":false,\\\"enable_split_onnx_featurizer_estimator_models\\\":false,\\\"vm_type\\\":null,\\\"telemetry_verbosity\\\":20,\\\"send_telemetry\\\":true,\\\"enable_dnn\\\":false,\\\"scenario\\\":\\\"SDK-1.13.0\\\",\\\"environment_label\\\":null,\\\"force_text_dnn\\\":false,\\\"enable_feature_sweeping\\\":true,\\\"enable_early_stopping\\\":false,\\\"early_stopping_n_iters\\\":10,\\\"metrics\\\":null,\\\"enable_ensembling\\\":true,\\\"enable_stack_ensembling\\\":true,\\\"ensemble_iterations\\\":15,\\\"enable_tf\\\":false,\\\"enable_subsampling\\\":false,\\\"subsample_seed\\\":null,\\\"enable_nimbusml\\\":false,\\\"enable_streaming\\\":false,\\\"force_streaming\\\":false,\\\"track_child_runs\\\":true,\\\"allowed_private_models\\\":[],\\\"label_column_name\\\":\\\"drugs_related_stop\\\",\\\"weight_column_name\\\":null,\\\"cv_split_column_names\\\":null,\\\"enable_local_managed\\\":false,\\\"_local_managed_run_id\\\":null,\\\"cost_mode\\\":1,\\\"lag_length\\\":0,\\\"metric_operation\\\":\\\"maximize\\\",\\\"preprocess\\\":true}\", \"DataPrepJsonString\": \"{\\\\\\\"training_data\\\\\\\": \\\\\\\"{\\\\\\\\\\\\\\\"blocks\\\\\\\\\\\\\\\": [{\\\\\\\\\\\\\\\"id\\\\\\\\\\\\\\\": \\\\\\\\\\\\\\\"1a8ede1d-82ec-4732-ac46-6ce3ebf1d7ab\\\\\\\\\\\\\\\", \\\\\\\\\\\\\\\"type\\\\\\\\\\\\\\\": \\\\\\\\\\\\\\\"Microsoft.DPrep.GetDatastoreFilesBlock\\\\\\\\\\\\\\\", \\\\\\\\\\\\\\\"arguments\\\\\\\\\\\\\\\": {\\\\\\\\\\\\\\\"datastores\\\\\\\\\\\\\\\": [{\\\\\\\\\\\\\\\"datastoreName\\\\\\\\\\\\\\\": \\\\\\\\\\\\\\\"workspaceblobstore\\\\\\\\\\\\\\\", \\\\\\\\\\\\\\\"path\\\\\\\\\\\\\\\": \\\\\\\\\\\\\\\"UI/01-24-2021_094011_UTC/police_project.csv\\\\\\\\\\\\\\\", \\\\\\\\\\\\\\\"resourceGroup\\\\\\\\\\\\\\\": \\\\\\\\\\\\\\\"aml-quickstarts-135919\\\\\\\\\\\\\\\", \\\\\\\\\\\\\\\"subscription\\\\\\\\\\\\\\\": \\\\\\\\\\\\\\\"b968fb36-f06a-4c76-a15f-afab68ae7667\\\\\\\\\\\\\\\", \\\\\\\\\\\\\\\"workspaceName\\\\\\\\\\\\\\\": \\\\\\\\\\\\\\\"quick-starts-ws-135919\\\\\\\\\\\\\\\"}]}, \\\\\\\\\\\\\\\"localData\\\\\\\\\\\\\\\": {}, \\\\\\\\\\\\\\\"isEnabled\\\\\\\\\\\\\\\": true, \\\\\\\\\\\\\\\"name\\\\\\\\\\\\\\\": null, \\\\\\\\\\\\\\\"annotation\\\\\\\\\\\\\\\": null}, {\\\\\\\\\\\\\\\"id\\\\\\\\\\\\\\\": \\\\\\\\\\\\\\\"17e00eee-a700-4fe1-b4df-0589d1c22c17\\\\\\\\\\\\\\\", \\\\\\\\\\\\\\\"type\\\\\\\\\\\\\\\": \\\\\\\\\\\\\\\"Microsoft.DPrep.ParseDelimitedBlock\\\\\\\\\\\\\\\", \\\\\\\\\\\\\\\"arguments\\\\\\\\\\\\\\\": {\\\\\\\\\\\\\\\"columnHeadersMode\\\\\\\\\\\\\\\": 1, \\\\\\\\\\\\\\\"fileEncoding\\\\\\\\\\\\\\\": 0, \\\\\\\\\\\\\\\"handleQuotedLineBreaks\\\\\\\\\\\\\\\": false, \\\\\\\\\\\\\\\"preview\\\\\\\\\\\\\\\": false, \\\\\\\\\\\\\\\"separator\\\\\\\\\\\\\\\": \\\\\\\\\\\\\\\",\\\\\\\\\\\\\\\", \\\\\\\\\\\\\\\"skipRows\\\\\\\\\\\\\\\": 0, \\\\\\\\\\\\\\\"skipRowsMode\\\\\\\\\\\\\\\": 0}, \\\\\\\\\\\\\\\"localData\\\\\\\\\\\\\\\": {}, \\\\\\\\\\\\\\\"isEnabled\\\\\\\\\\\\\\\": true, \\\\\\\\\\\\\\\"name\\\\\\\\\\\\\\\": null, \\\\\\\\\\\\\\\"annotation\\\\\\\\\\\\\\\": null}, {\\\\\\\\\\\\\\\"id\\\\\\\\\\\\\\\": \\\\\\\\\\\\\\\"f98e9d9b-097c-4e8c-9959-a465ac4f2b8d\\\\\\\\\\\\\\\", \\\\\\\\\\\\\\\"type\\\\\\\\\\\\\\\": \\\\\\\\\\\\\\\"Microsoft.DPrep.DropColumnsBlock\\\\\\\\\\\\\\\", \\\\\\\\\\\\\\\"arguments\\\\\\\\\\\\\\\": {\\\\\\\\\\\\\\\"columns\\\\\\\\\\\\\\\": {\\\\\\\\\\\\\\\"type\\\\\\\\\\\\\\\": 0, \\\\\\\\\\\\\\\"details\\\\\\\\\\\\\\\": {\\\\\\\\\\\\\\\"selectedColumns\\\\\\\\\\\\\\\": [\\\\\\\\\\\\\\\"Path\\\\\\\\\\\\\\\"]}}}, \\\\\\\\\\\\\\\"localData\\\\\\\\\\\\\\\": {}, \\\\\\\\\\\\\\\"isEnabled\\\\\\\\\\\\\\\": true, \\\\\\\\\\\\\\\"name\\\\\\\\\\\\\\\": null, \\\\\\\\\\\\\\\"annotation\\\\\\\\\\\\\\\": null}, {\\\\\\\\\\\\\\\"id\\\\\\\\\\\\\\\": \\\\\\\\\\\\\\\"7b6331eb-391f-4e46-b77d-c05e015f7c07\\\\\\\\\\\\\\\", \\\\\\\\\\\\\\\"type\\\\\\\\\\\\\\\": \\\\\\\\\\\\\\\"Microsoft.DPrep.SetColumnTypesBlock\\\\\\\\\\\\\\\", \\\\\\\\\\\\\\\"arguments\\\\\\\\\\\\\\\": {\\\\\\\\\\\\\\\"columnConversion\\\\\\\\\\\\\\\": [{\\\\\\\\\\\\\\\"column\\\\\\\\\\\\\\\": {\\\\\\\\\\\\\\\"type\\\\\\\\\\\\\\\": 2, \\\\\\\\\\\\\\\"details\\\\\\\\\\\\\\\": {\\\\\\\\\\\\\\\"selectedColumn\\\\\\\\\\\\\\\": \\\\\\\\\\\\\\\"Path\\\\\\\\\\\\\\\"}}, \\\\\\\\\\\\\\\"typeProperty\\\\\\\\\\\\\\\": 0}, {\\\\\\\\\\\\\\\"column\\\\\\\\\\\\\\\": {\\\\\\\\\\\\\\\"type\\\\\\\\\\\\\\\": 2, \\\\\\\\\\\\\\\"details\\\\\\\\\\\\\\\": {\\\\\\\\\\\\\\\"selectedColumn\\\\\\\\\\\\\\\": \\\\\\\\\\\\\\\"stop_date\\\\\\\\\\\\\\\"}}, \\\\\\\\\\\\\\\"typeArguments\\\\\\\\\\\\\\\": {\\\\\\\\\\\\\\\"dateTimeFormats\\\\\\\\\\\\\\\": [\\\\\\\\\\\\\\\"%m/%d/%Y\\\\\\\\\\\\\\\"]}, \\\\\\\\\\\\\\\"typeProperty\\\\\\\\\\\\\\\": 0}, {\\\\\\\\\\\\\\\"column\\\\\\\\\\\\\\\": {\\\\\\\\\\\\\\\"type\\\\\\\\\\\\\\\": 2, \\\\\\\\\\\\\\\"details\\\\\\\\\\\\\\\": {\\\\\\\\\\\\\\\"selectedColumn\\\\\\\\\\\\\\\": \\\\\\\\\\\\\\\"stop_time\\\\\\\\\\\\\\\"}}, \\\\\\\\\\\\\\\"typeProperty\\\\\\\\\\\\\\\": 0}, {\\\\\\\\\\\\\\\"column\\\\\\\\\\\\\\\": {\\\\\\\\\\\\\\\"type\\\\\\\\\\\\\\\": 2, \\\\\\\\\\\\\\\"details\\\\\\\\\\\\\\\": {\\\\\\\\\\\\\\\"selectedColumn\\\\\\\\\\\\\\\": \\\\\\\\\\\\\\\"county_name\\\\\\\\\\\\\\\"}}, \\\\\\\\\\\\\\\"typeProperty\\\\\\\\\\\\\\\": 0}, {\\\\\\\\\\\\\\\"column\\\\\\\\\\\\\\\": {\\\\\\\\\\\\\\\"type\\\\\\\\\\\\\\\": 2, \\\\\\\\\\\\\\\"details\\\\\\\\\\\\\\\": {\\\\\\\\\\\\\\\"selectedColumn\\\\\\\\\\\\\\\": \\\\\\\\\\\\\\\"driver_gender\\\\\\\\\\\\\\\"}}, \\\\\\\\\\\\\\\"typeProperty\\\\\\\\\\\\\\\": 0}, {\\\\\\\\\\\\\\\"column\\\\\\\\\\\\\\\": {\\\\\\\\\\\\\\\"type\\\\\\\\\\\\\\\": 2, \\\\\\\\\\\\\\\"details\\\\\\\\\\\\\\\": {\\\\\\\\\\\\\\\"selectedColumn\\\\\\\\\\\\\\\": \\\\\\\\\\\\\\\"driver_age\\\\\\\\\\\\\\\"}}, \\\\\\\\\\\\\\\"typeProperty\\\\\\\\\\\\\\\": 0}, {\\\\\\\\\\\\\\\"column\\\\\\\\\\\\\\\": {\\\\\\\\\\\\\\\"type\\\\\\\\\\\\\\\": 2, \\\\\\\\\\\\\\\"details\\\\\\\\\\\\\\\": {\\\\\\\\\\\\\\\"selectedColumn\\\\\\\\\\\\\\\": \\\\\\\\\\\\\\\"driver_race\\\\\\\\\\\\\\\"}}, \\\\\\\\\\\\\\\"typeProperty\\\\\\\\\\\\\\\": 0}, {\\\\\\\\\\\\\\\"column\\\\\\\\\\\\\\\": {\\\\\\\\\\\\\\\"type\\\\\\\\\\\\\\\": 2, \\\\\\\\\\\\\\\"details\\\\\\\\\\\\\\\": {\\\\\\\\\\\\\\\"selectedColumn\\\\\\\\\\\\\\\": \\\\\\\\\\\\\\\"violation\\\\\\\\\\\\\\\"}}, \\\\\\\\\\\\\\\"typeProperty\\\\\\\\\\\\\\\": 0}, {\\\\\\\\\\\\\\\"column\\\\\\\\\\\\\\\": {\\\\\\\\\\\\\\\"type\\\\\\\\\\\\\\\": 2, \\\\\\\\\\\\\\\"details\\\\\\\\\\\\\\\": {\\\\\\\\\\\\\\\"selectedColumn\\\\\\\\\\\\\\\": \\\\\\\\\\\\\\\"search_conducted\\\\\\\\\\\\\\\"}}, \\\\\\\\\\\\\\\"typeProperty\\\\\\\\\\\\\\\": 0}, {\\\\\\\\\\\\\\\"column\\\\\\\\\\\\\\\": {\\\\\\\\\\\\\\\"type\\\\\\\\\\\\\\\": 2, \\\\\\\\\\\\\\\"details\\\\\\\\\\\\\\\": {\\\\\\\\\\\\\\\"selectedColumn\\\\\\\\\\\\\\\": \\\\\\\\\\\\\\\"search_type\\\\\\\\\\\\\\\"}}, \\\\\\\\\\\\\\\"typeProperty\\\\\\\\\\\\\\\": 0}, {\\\\\\\\\\\\\\\"column\\\\\\\\\\\\\\\": {\\\\\\\\\\\\\\\"type\\\\\\\\\\\\\\\": 2, \\\\\\\\\\\\\\\"details\\\\\\\\\\\\\\\": {\\\\\\\\\\\\\\\"selectedColumn\\\\\\\\\\\\\\\": \\\\\\\\\\\\\\\"stop_outcome\\\\\\\\\\\\\\\"}}, \\\\\\\\\\\\\\\"typeProperty\\\\\\\\\\\\\\\": 0}, {\\\\\\\\\\\\\\\"column\\\\\\\\\\\\\\\": {\\\\\\\\\\\\\\\"type\\\\\\\\\\\\\\\": 2, \\\\\\\\\\\\\\\"details\\\\\\\\\\\\\\\": {\\\\\\\\\\\\\\\"selectedColumn\\\\\\\\\\\\\\\": \\\\\\\\\\\\\\\"is_arrested\\\\\\\\\\\\\\\"}}, \\\\\\\\\\\\\\\"typeProperty\\\\\\\\\\\\\\\": 0}, {\\\\\\\\\\\\\\\"column\\\\\\\\\\\\\\\": {\\\\\\\\\\\\\\\"type\\\\\\\\\\\\\\\": 2, \\\\\\\\\\\\\\\"details\\\\\\\\\\\\\\\": {\\\\\\\\\\\\\\\"selectedColumn\\\\\\\\\\\\\\\": \\\\\\\\\\\\\\\"stop_duration\\\\\\\\\\\\\\\"}}, \\\\\\\\\\\\\\\"typeProperty\\\\\\\\\\\\\\\": 0}, {\\\\\\\\\\\\\\\"column\\\\\\\\\\\\\\\": {\\\\\\\\\\\\\\\"type\\\\\\\\\\\\\\\": 2, \\\\\\\\\\\\\\\"details\\\\\\\\\\\\\\\": {\\\\\\\\\\\\\\\"selectedColumn\\\\\\\\\\\\\\\": \\\\\\\\\\\\\\\"drugs_related_stop\\\\\\\\\\\\\\\"}}, \\\\\\\\\\\\\\\"typeProperty\\\\\\\\\\\\\\\": 0}]}, \\\\\\\\\\\\\\\"localData\\\\\\\\\\\\\\\": {}, \\\\\\\\\\\\\\\"isEnabled\\\\\\\\\\\\\\\": true, \\\\\\\\\\\\\\\"name\\\\\\\\\\\\\\\": null, \\\\\\\\\\\\\\\"annotation\\\\\\\\\\\\\\\": null}], \\\\\\\\\\\\\\\"inspectors\\\\\\\\\\\\\\\": [], \\\\\\\\\\\\\\\"meta\\\\\\\\\\\\\\\": {\\\\\\\\\\\\\\\"savedDatasetId\\\\\\\\\\\\\\\": \\\\\\\\\\\\\\\"96daab59-24cf-48e5-970b-92ecf027bded\\\\\\\\\\\\\\\", \\\\\\\\\\\\\\\"datasetType\\\\\\\\\\\\\\\": \\\\\\\\\\\\\\\"tabular\\\\\\\\\\\\\\\", \\\\\\\\\\\\\\\"subscriptionId\\\\\\\\\\\\\\\": \\\\\\\\\\\\\\\"b968fb36-f06a-4c76-a15f-afab68ae7667\\\\\\\\\\\\\\\", \\\\\\\\\\\\\\\"workspaceId\\\\\\\\\\\\\\\": \\\\\\\\\\\\\\\"645ccff9-ff48-49ea-a721-3d87cfdf001b\\\\\\\\\\\\\\\", \\\\\\\\\\\\\\\"workspaceLocation\\\\\\\\\\\\\\\": \\\\\\\\\\\\\\\"southcentralus\\\\\\\\\\\\\\\"}}\\\\\\\", \\\\\\\"activities\\\\\\\": 0}\", \"EnableSubsampling\": \"False\", \"runTemplate\": \"AutoML\", \"azureml.runsource\": \"automl\", \"display_task_type\": \"classification\", \"dependencies_versions\": \"{\\\"azureml-widgets\\\": \\\"1.19.0\\\", \\\"azureml-train\\\": \\\"1.19.0\\\", \\\"azureml-train-restclients-hyperdrive\\\": \\\"1.19.0\\\", \\\"azureml-train-core\\\": \\\"1.19.0\\\", \\\"azureml-train-automl\\\": \\\"1.19.0\\\", \\\"azureml-train-automl-runtime\\\": \\\"1.19.0\\\", \\\"azureml-train-automl-client\\\": \\\"1.19.0\\\", \\\"azureml-tensorboard\\\": \\\"1.19.0\\\", \\\"azureml-telemetry\\\": \\\"1.19.0\\\", \\\"azureml-sdk\\\": \\\"1.19.0\\\", \\\"azureml-samples\\\": \\\"0+unknown\\\", \\\"azureml-pipeline\\\": \\\"1.19.0\\\", \\\"azureml-pipeline-steps\\\": \\\"1.19.0\\\", \\\"azureml-pipeline-core\\\": \\\"1.19.0\\\", \\\"azureml-opendatasets\\\": \\\"1.19.0\\\", \\\"azureml-model-management-sdk\\\": \\\"1.0.1b6.post1\\\", \\\"azureml-mlflow\\\": \\\"1.19.0\\\", \\\"azureml-interpret\\\": \\\"1.19.0\\\", \\\"azureml-explain-model\\\": \\\"1.19.0\\\", \\\"azureml-defaults\\\": \\\"1.19.0\\\", \\\"azureml-dataset-runtime\\\": \\\"1.19.0.post1\\\", \\\"azureml-dataprep\\\": \\\"2.6.1\\\", \\\"azureml-dataprep-rslex\\\": \\\"1.4.0\\\", \\\"azureml-dataprep-native\\\": \\\"26.0.0\\\", \\\"azureml-datadrift\\\": \\\"1.19.0\\\", \\\"azureml-core\\\": \\\"1.19.0\\\", \\\"azureml-contrib-services\\\": \\\"1.19.0\\\", \\\"azureml-contrib-server\\\": \\\"1.19.0\\\", \\\"azureml-contrib-reinforcementlearning\\\": \\\"1.19.0\\\", \\\"azureml-contrib-pipeline-steps\\\": \\\"1.19.0\\\", \\\"azureml-contrib-notebook\\\": \\\"1.19.0\\\", \\\"azureml-contrib-interpret\\\": \\\"1.19.0\\\", \\\"azureml-contrib-gbdt\\\": \\\"1.19.0\\\", \\\"azureml-contrib-fairness\\\": \\\"1.19.0\\\", \\\"azureml-contrib-dataset\\\": \\\"1.19.0\\\", \\\"azureml-cli-common\\\": \\\"1.19.0\\\", \\\"azureml-automl-runtime\\\": \\\"1.19.0\\\", \\\"azureml-automl-core\\\": \\\"1.19.0\\\", \\\"azureml-accel-models\\\": \\\"1.19.0\\\"}\", \"_aml_system_scenario_identification\": \"Local.Parent\", \"ClientSdkVersion\": \"1.19.0\", \"ClientType\": \"SDK\", \"environment_cpu_name\": \"AzureML-AutoML\", \"environment_cpu_label\": \"prod\", \"environment_gpu_name\": \"AzureML-AutoML-GPU\", \"environment_gpu_label\": \"prod\", \"root_attribution\": \"automl\", \"attribution\": \"AutoML\", \"Orchestrator\": \"AutoML\", \"_azureml.ComputeTargetType\": \"local\", \"ProblemInfoJsonString\": \"{\\\"dataset_num_categorical\\\": 0, \\\"is_sparse\\\": true, \\\"subsampling\\\": false, \\\"dataset_classes\\\": 2, \\\"dataset_features\\\": 1171, \\\"dataset_samples\\\": 91741, \\\"single_frequency_class_detected\\\": false}\", \"feature_skus\": \"automatedml_sdk_guardrails\"}, \"tags\": {\"model_explain_run\": \"best_run\", \"best_score\": \"0.9929475404132283\", \"best_pipeline\": \"VotingEnsemble\", \"automl_best_child_run_id\": \"AutoML_abd00848-58b1-4ed8-8a29-507e5ea4e8bb_19\", \"model_explain_best_run_child_id\": \"AutoML_abd00848-58b1-4ed8-8a29-507e5ea4e8bb_19\"}, \"end_time_utc\": \"2021-01-24T21:59:54.248281Z\", \"status\": \"Completed\", \"log_files\": {}, \"log_groups\": [], \"run_duration\": \"0:18:20\"}, \"child_runs\": [{\"run_id\": \"AutoML_abd00848-58b1-4ed8-8a29-507e5ea4e8bb_0\", \"run_number\": 95, \"metric\": null, \"status\": \"Completed\", \"run_type\": null, \"training_percent\": \"100\", \"start_time\": \"2021-01-24T21:42:24.598765Z\", \"end_time\": \"2021-01-24T21:42:57.300933Z\", \"created_time\": \"2021-01-24T21:42:24.475873Z\", \"created_time_dt\": \"2021-01-24T21:42:24.475873Z\", \"duration\": \"0:00:32\", \"iteration\": \"0\", \"goal\": \"accuracy_max\", \"run_name\": \"MaxAbsScaler, LightGBM\", \"run_properties\": \"copy=True\", \"primary_metric\": 0.99239162, \"best_metric\": 0.99239162}, {\"run_id\": \"AutoML_abd00848-58b1-4ed8-8a29-507e5ea4e8bb_1\", \"run_number\": 96, \"metric\": null, \"status\": \"Completed\", \"run_type\": null, \"training_percent\": \"100\", \"start_time\": \"2021-01-24T21:42:57.672673Z\", \"end_time\": \"2021-01-24T21:43:40.547316Z\", \"created_time\": \"2021-01-24T21:42:57.543805Z\", \"created_time_dt\": \"2021-01-24T21:42:57.543805Z\", \"duration\": \"0:00:43\", \"iteration\": \"1\", \"goal\": \"accuracy_max\", \"run_name\": \"MaxAbsScaler, XGBoostClassifier\", \"run_properties\": \"copy=True\", \"primary_metric\": 0.99288214, \"best_metric\": 0.99288214}, {\"run_id\": \"AutoML_abd00848-58b1-4ed8-8a29-507e5ea4e8bb_2\", \"run_number\": 97, \"metric\": null, \"status\": \"Completed\", \"run_type\": null, \"training_percent\": \"100\", \"start_time\": \"2021-01-24T21:43:41.25885Z\", \"end_time\": \"2021-01-24T21:44:12.448597Z\", \"created_time\": \"2021-01-24T21:43:41.147555Z\", \"created_time_dt\": \"2021-01-24T21:43:41.147555Z\", \"duration\": \"0:00:31\", \"iteration\": \"2\", \"goal\": \"accuracy_max\", \"run_name\": \"MaxAbsScaler, RandomForest\", \"run_properties\": \"copy=True\", \"primary_metric\": 0.99111629, \"best_metric\": 0.99288214}, {\"run_id\": \"AutoML_abd00848-58b1-4ed8-8a29-507e5ea4e8bb_3\", \"run_number\": 98, \"metric\": null, \"status\": \"Completed\", \"run_type\": null, \"training_percent\": \"100\", \"start_time\": \"2021-01-24T21:44:13.844918Z\", \"end_time\": \"2021-01-24T21:44:45.308068Z\", \"created_time\": \"2021-01-24T21:44:13.736572Z\", \"created_time_dt\": \"2021-01-24T21:44:13.736572Z\", \"duration\": \"0:00:31\", \"iteration\": \"3\", \"goal\": \"accuracy_max\", \"run_name\": \"MaxAbsScaler, RandomForest\", \"run_properties\": \"copy=True\", \"primary_metric\": 0.99111629, \"best_metric\": 0.99288214}, {\"run_id\": \"AutoML_abd00848-58b1-4ed8-8a29-507e5ea4e8bb_4\", \"run_number\": 99, \"metric\": null, \"status\": \"Completed\", \"run_type\": null, \"training_percent\": \"100\", \"start_time\": \"2021-01-24T21:44:47.017349Z\", \"end_time\": \"2021-01-24T21:45:18.634821Z\", \"created_time\": \"2021-01-24T21:44:46.888144Z\", \"created_time_dt\": \"2021-01-24T21:44:46.888144Z\", \"duration\": \"0:00:31\", \"iteration\": \"4\", \"goal\": \"accuracy_max\", \"run_name\": \"MaxAbsScaler, RandomForest\", \"run_properties\": \"copy=True\", \"primary_metric\": 0.96309178, \"best_metric\": 0.99288214}, {\"run_id\": \"AutoML_abd00848-58b1-4ed8-8a29-507e5ea4e8bb_5\", \"run_number\": 100, \"metric\": null, \"status\": \"Completed\", \"run_type\": null, \"training_percent\": \"100\", \"start_time\": \"2021-01-24T21:45:20.052591Z\", \"end_time\": \"2021-01-24T21:45:50.817299Z\", \"created_time\": \"2021-01-24T21:45:19.947013Z\", \"created_time_dt\": \"2021-01-24T21:45:19.947013Z\", \"duration\": \"0:00:30\", \"iteration\": \"5\", \"goal\": \"accuracy_max\", \"run_name\": \"MaxAbsScaler, RandomForest\", \"run_properties\": \"copy=True\", \"primary_metric\": 0.9289194, \"best_metric\": 0.99288214}, {\"run_id\": \"AutoML_abd00848-58b1-4ed8-8a29-507e5ea4e8bb_6\", \"run_number\": 101, \"metric\": null, \"status\": \"Completed\", \"run_type\": null, \"training_percent\": \"100\", \"start_time\": \"2021-01-24T21:45:52.400963Z\", \"end_time\": \"2021-01-24T21:46:27.588177Z\", \"created_time\": \"2021-01-24T21:45:52.266452Z\", \"created_time_dt\": \"2021-01-24T21:45:52.266452Z\", \"duration\": \"0:00:35\", \"iteration\": \"6\", \"goal\": \"accuracy_max\", \"run_name\": \"StandardScalerWrapper, LightGBM\", \"run_properties\": \"<azureml.automl.runtime.shared.model_wrappers.StandardScalerWrapper object at 0x7f731e86f5c0\", \"primary_metric\": 0.99111629, \"best_metric\": 0.99288214}, {\"run_id\": \"AutoML_abd00848-58b1-4ed8-8a29-507e5ea4e8bb_7\", \"run_number\": 102, \"metric\": null, \"status\": \"Completed\", \"run_type\": null, \"training_percent\": \"100\", \"start_time\": \"2021-01-24T21:46:28.751277Z\", \"end_time\": \"2021-01-24T21:46:59.563306Z\", \"created_time\": \"2021-01-24T21:46:28.650295Z\", \"created_time_dt\": \"2021-01-24T21:46:28.650295Z\", \"duration\": \"0:00:30\", \"iteration\": \"7\", \"goal\": \"accuracy_max\", \"run_name\": \"MaxAbsScaler, LightGBM\", \"run_properties\": \"copy=True\", \"primary_metric\": 0.99111629, \"best_metric\": 0.99288214}, {\"run_id\": \"AutoML_abd00848-58b1-4ed8-8a29-507e5ea4e8bb_8\", \"run_number\": 103, \"metric\": null, \"status\": \"Completed\", \"run_type\": null, \"training_percent\": \"100\", \"start_time\": \"2021-01-24T21:47:00.933698Z\", \"end_time\": \"2021-01-24T21:47:31.535239Z\", \"created_time\": \"2021-01-24T21:47:00.825321Z\", \"created_time_dt\": \"2021-01-24T21:47:00.825321Z\", \"duration\": \"0:00:30\", \"iteration\": \"8\", \"goal\": \"accuracy_max\", \"run_name\": \"MaxAbsScaler, LightGBM\", \"run_properties\": \"copy=True\", \"primary_metric\": 0.99111629, \"best_metric\": 0.99288214}, {\"run_id\": \"AutoML_abd00848-58b1-4ed8-8a29-507e5ea4e8bb_9\", \"run_number\": 104, \"metric\": null, \"status\": \"Completed\", \"run_type\": null, \"training_percent\": \"100\", \"start_time\": \"2021-01-24T21:47:32.7736Z\", \"end_time\": \"2021-01-24T21:48:02.813232Z\", \"created_time\": \"2021-01-24T21:47:32.661621Z\", \"created_time_dt\": \"2021-01-24T21:47:32.661621Z\", \"duration\": \"0:00:30\", \"iteration\": \"9\", \"goal\": \"accuracy_max\", \"run_name\": \"MaxAbsScaler, LightGBM\", \"run_properties\": \"copy=True\", \"primary_metric\": 0.99111629, \"best_metric\": 0.99288214}, {\"run_id\": \"AutoML_abd00848-58b1-4ed8-8a29-507e5ea4e8bb_10\", \"run_number\": 105, \"metric\": null, \"status\": \"Completed\", \"run_type\": null, \"training_percent\": \"100\", \"start_time\": \"2021-01-24T21:48:04.048311Z\", \"end_time\": \"2021-01-24T21:48:39.278307Z\", \"created_time\": \"2021-01-24T21:48:03.91785Z\", \"created_time_dt\": \"2021-01-24T21:48:03.91785Z\", \"duration\": \"0:00:35\", \"iteration\": \"10\", \"goal\": \"accuracy_max\", \"run_name\": \"StandardScalerWrapper, LightGBM\", \"run_properties\": \"<azureml.automl.runtime.shared.model_wrappers.StandardScalerWrapper object at 0x7f73031830f0\", \"primary_metric\": 0.99111629, \"best_metric\": 0.99288214}, {\"run_id\": \"AutoML_abd00848-58b1-4ed8-8a29-507e5ea4e8bb_11\", \"run_number\": 106, \"metric\": null, \"status\": \"Completed\", \"run_type\": null, \"training_percent\": \"100\", \"start_time\": \"2021-01-24T21:48:40.479206Z\", \"end_time\": \"2021-01-24T21:49:24.343719Z\", \"created_time\": \"2021-01-24T21:48:40.370291Z\", \"created_time_dt\": \"2021-01-24T21:48:40.370291Z\", \"duration\": \"0:00:43\", \"iteration\": \"11\", \"goal\": \"accuracy_max\", \"run_name\": \"SparseNormalizer, XGBoostClassifier\", \"run_properties\": \"<azureml.automl.runtime.shared.model_wrappers.SparseNormalizer object at 0x7f7312fb7be0\", \"primary_metric\": 0.99208641, \"best_metric\": 0.99288214}, {\"run_id\": \"AutoML_abd00848-58b1-4ed8-8a29-507e5ea4e8bb_12\", \"run_number\": 107, \"metric\": null, \"status\": \"Completed\", \"run_type\": null, \"training_percent\": \"100\", \"start_time\": \"2021-01-24T21:49:25.564943Z\", \"end_time\": \"2021-01-24T21:49:58.8174Z\", \"created_time\": \"2021-01-24T21:49:25.452708Z\", \"created_time_dt\": \"2021-01-24T21:49:25.452708Z\", \"duration\": \"0:00:33\", \"iteration\": \"12\", \"goal\": \"accuracy_max\", \"run_name\": \"SparseNormalizer, XGBoostClassifier\", \"run_properties\": \"<azureml.automl.runtime.shared.model_wrappers.SparseNormalizer object at 0x7f731517a4e0\", \"primary_metric\": 0.9916177, \"best_metric\": 0.99288214}, {\"run_id\": \"AutoML_abd00848-58b1-4ed8-8a29-507e5ea4e8bb_13\", \"run_number\": 108, \"metric\": null, \"status\": \"Completed\", \"run_type\": null, \"training_percent\": \"100\", \"start_time\": \"2021-01-24T21:49:59.930169Z\", \"end_time\": \"2021-01-24T21:50:39.869425Z\", \"created_time\": \"2021-01-24T21:49:59.816278Z\", \"created_time_dt\": \"2021-01-24T21:49:59.816278Z\", \"duration\": \"0:00:40\", \"iteration\": \"13\", \"goal\": \"accuracy_max\", \"run_name\": \"MaxAbsScaler, RandomForest\", \"run_properties\": \"copy=True\", \"primary_metric\": 0.99111629, \"best_metric\": 0.99288214}, {\"run_id\": \"AutoML_abd00848-58b1-4ed8-8a29-507e5ea4e8bb_14\", \"run_number\": 109, \"metric\": null, \"status\": \"Completed\", \"run_type\": null, \"training_percent\": \"100\", \"start_time\": \"2021-01-24T21:50:41.096355Z\", \"end_time\": \"2021-01-24T21:51:23.358037Z\", \"created_time\": \"2021-01-24T21:50:40.955477Z\", \"created_time_dt\": \"2021-01-24T21:50:40.955477Z\", \"duration\": \"0:00:42\", \"iteration\": \"14\", \"goal\": \"accuracy_max\", \"run_name\": \"SparseNormalizer, XGBoostClassifier\", \"run_properties\": \"<azureml.automl.runtime.shared.model_wrappers.SparseNormalizer object at 0x7f7314fb3470\", \"primary_metric\": 0.99275133, \"best_metric\": 0.99288214}, {\"run_id\": \"AutoML_abd00848-58b1-4ed8-8a29-507e5ea4e8bb_15\", \"run_number\": 110, \"metric\": null, \"status\": \"Completed\", \"run_type\": null, \"training_percent\": \"100\", \"start_time\": \"2021-01-24T21:51:24.695193Z\", \"end_time\": \"2021-01-24T21:51:54.856469Z\", \"created_time\": \"2021-01-24T21:51:24.578834Z\", \"created_time_dt\": \"2021-01-24T21:51:24.578834Z\", \"duration\": \"0:00:30\", \"iteration\": \"15\", \"goal\": \"accuracy_max\", \"run_name\": \"MaxAbsScaler, LightGBM\", \"run_properties\": \"copy=True\", \"primary_metric\": 0.99111629, \"best_metric\": 0.99288214}, {\"run_id\": \"AutoML_abd00848-58b1-4ed8-8a29-507e5ea4e8bb_16\", \"run_number\": 111, \"metric\": null, \"status\": \"Completed\", \"run_type\": null, \"training_percent\": \"100\", \"start_time\": \"2021-01-24T21:51:57.404703Z\", \"end_time\": \"2021-01-24T21:52:35.180916Z\", \"created_time\": \"2021-01-24T21:51:56.915345Z\", \"created_time_dt\": \"2021-01-24T21:51:56.915345Z\", \"duration\": \"0:00:38\", \"iteration\": \"16\", \"goal\": \"accuracy_max\", \"run_name\": \"SparseNormalizer, LightGBM\", \"run_properties\": \"<azureml.automl.runtime.shared.model_wrappers.SparseNormalizer object at 0x7f731318e588\", \"primary_metric\": 0.99111629, \"best_metric\": 0.99288214}, {\"run_id\": \"AutoML_abd00848-58b1-4ed8-8a29-507e5ea4e8bb_17\", \"run_number\": 112, \"metric\": null, \"status\": \"Completed\", \"run_type\": null, \"training_percent\": \"100\", \"start_time\": \"2021-01-24T21:52:37.740032Z\", \"end_time\": \"2021-01-24T21:53:24.585239Z\", \"created_time\": \"2021-01-24T21:52:37.325449Z\", \"created_time_dt\": \"2021-01-24T21:52:37.325449Z\", \"duration\": \"0:00:47\", \"iteration\": \"17\", \"goal\": \"accuracy_max\", \"run_name\": \"SparseNormalizer, XGBoostClassifier\", \"run_properties\": \"<azureml.automl.runtime.shared.model_wrappers.SparseNormalizer object at 0x7f7314babf28\", \"primary_metric\": 0.99210821, \"best_metric\": 0.99288214}, {\"run_id\": \"AutoML_abd00848-58b1-4ed8-8a29-507e5ea4e8bb_18\", \"run_number\": 113, \"metric\": null, \"status\": \"Completed\", \"run_type\": null, \"training_percent\": \"100\", \"start_time\": \"2021-01-24T21:53:26.71527Z\", \"end_time\": \"2021-01-24T21:57:29.625792Z\", \"created_time\": \"2021-01-24T21:53:26.297305Z\", \"created_time_dt\": \"2021-01-24T21:53:26.297305Z\", \"duration\": \"0:04:03\", \"iteration\": \"18\", \"goal\": \"accuracy_max\", \"run_name\": \"MaxAbsScaler, LogisticRegression\", \"run_properties\": \"copy=True\", \"primary_metric\": 0.9912798, \"best_metric\": 0.99288214}, {\"run_id\": \"AutoML_abd00848-58b1-4ed8-8a29-507e5ea4e8bb_19\", \"run_number\": 114, \"metric\": null, \"status\": \"Completed\", \"run_type\": null, \"training_percent\": \"100\", \"start_time\": \"2021-01-24T21:57:30.43768Z\", \"end_time\": \"2021-01-24T21:58:23.963619Z\", \"created_time\": \"2021-01-24T21:57:30.147203Z\", \"created_time_dt\": \"2021-01-24T21:57:30.147203Z\", \"duration\": \"0:00:53\", \"iteration\": \"19\", \"goal\": \"accuracy_max\", \"run_name\": \"VotingEnsemble\", \"run_properties\": \"classification_labels=None,\\n                              estimators=[('1',\\n                                           Pipeline(memory=None,\\n                                                    steps=[('maxabsscaler',\\n                                                            MaxAbsScaler(copy=True\", \"primary_metric\": 0.99294754, \"best_metric\": 0.99294754}, {\"run_id\": \"AutoML_abd00848-58b1-4ed8-8a29-507e5ea4e8bb_20\", \"run_number\": 115, \"metric\": null, \"status\": \"Completed\", \"run_type\": null, \"training_percent\": \"100\", \"start_time\": \"2021-01-24T21:58:24.426537Z\", \"end_time\": \"2021-01-24T21:59:51.94967Z\", \"created_time\": \"2021-01-24T21:58:24.320621Z\", \"created_time_dt\": \"2021-01-24T21:58:24.320621Z\", \"duration\": \"0:01:27\", \"iteration\": \"20\", \"goal\": \"accuracy_max\", \"run_name\": \"StackEnsemble\", \"run_properties\": \"base_learners=[('1',\\n                                        Pipeline(memory=None,\\n                                                 steps=[('maxabsscaler',\\n                                                         MaxAbsScaler(copy=True\", \"primary_metric\": 0.99258783, \"best_metric\": 0.99294754}], \"children_metrics\": {\"categories\": [0], \"series\": {\"AUC_macro\": [{\"categories\": [\"0\", \"1\", \"2\", \"3\", \"4\", \"5\", \"6\", \"7\", \"8\", \"9\", \"10\", \"11\", \"12\", \"13\", \"14\", \"15\", \"16\", \"17\", \"18\", \"19\", \"20\"], \"mode\": \"markers\", \"name\": \"AUC_macro\", \"stepped\": false, \"type\": \"scatter\", \"data\": [0.9941196075391575, 0.9951618163320495, 0.9854949070412998, 0.7766412055187984, 0.9846914302372664, 0.9623468422831336, 0.847754445691001, 0.8096061498648813, 0.8050808264916123, 0.8093162145029057, 0.8219197090707894, 0.9946184668448163, 0.994493523698453, 0.7981968971197188, 0.9950464397376934, 0.9865057298186436, 0.9753614945918825, 0.9948899720768652, 0.9931375148705922, 0.9951179932371955, 0.9945049978536286]}, {\"categories\": [\"0\", \"1\", \"2\", \"3\", \"4\", \"5\", \"6\", \"7\", \"8\", \"9\", \"10\", \"11\", \"12\", \"13\", \"14\", \"15\", \"16\", \"17\", \"18\", \"19\", \"20\"], \"mode\": \"lines\", \"name\": \"AUC_macro_max\", \"stepped\": true, \"type\": \"scatter\", \"data\": [0.9941196075391575, 0.9951618163320495, 0.9951618163320495, 0.9951618163320495, 0.9951618163320495, 0.9951618163320495, 0.9951618163320495, 0.9951618163320495, 0.9951618163320495, 0.9951618163320495, 0.9951618163320495, 0.9951618163320495, 0.9951618163320495, 0.9951618163320495, 0.9951618163320495, 0.9951618163320495, 0.9951618163320495, 0.9951618163320495, 0.9951618163320495, 0.9951618163320495, 0.9951618163320495]}], \"log_loss\": [{\"categories\": [\"0\", \"1\", \"2\", \"3\", \"4\", \"5\", \"6\", \"7\", \"8\", \"9\", \"10\", \"11\", \"12\", \"13\", \"14\", \"15\", \"16\", \"17\", \"18\", \"19\", \"20\"], \"mode\": \"markers\", \"name\": \"log_loss\", \"stepped\": false, \"type\": \"scatter\", \"data\": [0.019420681517549523, 0.015266572661832964, 0.03198936417059443, 0.048848946110296686, 0.6483608071448206, 0.5203405213916352, 0.04235774018302358, 0.04513474137731357, 0.04755540512745191, 0.046747467869334314, 0.04583876203060858, 0.01626114332904047, 0.20892638648611603, 0.04919209916036427, 0.019048975770928057, 0.02913950100666544, 0.038585860332307036, 0.055084194539337335, 0.02241558926940893, 0.1600585938770115, 0.019665568248250623]}, {\"categories\": [\"0\", \"1\", \"2\", \"3\", \"4\", \"5\", \"6\", \"7\", \"8\", \"9\", \"10\", \"11\", \"12\", \"13\", \"14\", \"15\", \"16\", \"17\", \"18\", \"19\", \"20\"], \"mode\": \"lines\", \"name\": \"log_loss_min\", \"stepped\": true, \"type\": \"scatter\", \"data\": [0.019420681517549523, 0.015266572661832964, 0.015266572661832964, 0.015266572661832964, 0.015266572661832964, 0.015266572661832964, 0.015266572661832964, 0.015266572661832964, 0.015266572661832964, 0.015266572661832964, 0.015266572661832964, 0.015266572661832964, 0.015266572661832964, 0.015266572661832964, 0.015266572661832964, 0.015266572661832964, 0.015266572661832964, 0.015266572661832964, 0.015266572661832964, 0.015266572661832964, 0.015266572661832964]}], \"average_precision_score_weighted\": [{\"categories\": [\"0\", \"1\", \"2\", \"3\", \"4\", \"5\", \"6\", \"7\", \"8\", \"9\", \"10\", \"11\", \"12\", \"13\", \"14\", \"15\", \"16\", \"17\", \"18\", \"19\", \"20\"], \"mode\": \"markers\", \"name\": \"average_precision_score_weighted\", \"stepped\": false, \"type\": \"scatter\", \"data\": [0.9959725820826603, 0.9964243416769394, 0.9932914602648166, 0.9882891291503711, 0.9931920066435209, 0.9921886599237535, 0.9898876678528907, 0.9892549794924449, 0.9891363712334503, 0.9891126974030199, 0.9893725766441701, 0.9959243489863296, 0.9957601973377898, 0.9890979130534037, 0.9963388533989851, 0.9932833543649032, 0.9926700925367805, 0.9958871455570671, 0.9951874877904586, 0.996363771825345, 0.996181451256343]}, {\"categories\": [\"0\", \"1\", \"2\", \"3\", \"4\", \"5\", \"6\", \"7\", \"8\", \"9\", \"10\", \"11\", \"12\", \"13\", \"14\", \"15\", \"16\", \"17\", \"18\", \"19\", \"20\"], \"mode\": \"lines\", \"name\": \"average_precision_score_weighted_max\", \"stepped\": true, \"type\": \"scatter\", \"data\": [0.9959725820826603, 0.9964243416769394, 0.9964243416769394, 0.9964243416769394, 0.9964243416769394, 0.9964243416769394, 0.9964243416769394, 0.9964243416769394, 0.9964243416769394, 0.9964243416769394, 0.9964243416769394, 0.9964243416769394, 0.9964243416769394, 0.9964243416769394, 0.9964243416769394, 0.9964243416769394, 0.9964243416769394, 0.9964243416769394, 0.9964243416769394, 0.9964243416769394, 0.9964243416769394]}], \"accuracy\": [{\"categories\": [\"0\", \"1\", \"2\", \"3\", \"4\", \"5\", \"6\", \"7\", \"8\", \"9\", \"10\", \"11\", \"12\", \"13\", \"14\", \"15\", \"16\", \"17\", \"18\", \"19\", \"20\"], \"mode\": \"markers\", \"name\": \"accuracy\", \"stepped\": false, \"type\": \"scatter\", \"data\": [0.9923916229377561, 0.9928821378331101, 0.9911162902693592, 0.9911162902693592, 0.963091784242995, 0.9289193979026078, 0.9911162902693592, 0.9911162902693592, 0.9911162902693592, 0.9911162902693592, 0.9911162902693592, 0.9920864143428161, 0.9916176998322447, 0.9911162902693592, 0.9927513326728737, 0.9911162902693592, 0.9911162902693592, 0.9921082125889432, 0.9912797958285481, 0.9929475404132283, 0.9925878271136847]}, {\"categories\": [\"0\", \"1\", \"2\", \"3\", \"4\", \"5\", \"6\", \"7\", \"8\", \"9\", \"10\", \"11\", \"12\", \"13\", \"14\", \"15\", \"16\", \"17\", \"18\", \"19\", \"20\"], \"mode\": \"lines\", \"name\": \"accuracy_max\", \"stepped\": true, \"type\": \"scatter\", \"data\": [0.9923916229377561, 0.9928821378331101, 0.9928821378331101, 0.9928821378331101, 0.9928821378331101, 0.9928821378331101, 0.9928821378331101, 0.9928821378331101, 0.9928821378331101, 0.9928821378331101, 0.9928821378331101, 0.9928821378331101, 0.9928821378331101, 0.9928821378331101, 0.9928821378331101, 0.9928821378331101, 0.9928821378331101, 0.9928821378331101, 0.9928821378331101, 0.9929475404132283, 0.9929475404132283]}], \"precision_score_micro\": [{\"categories\": [\"0\", \"1\", \"2\", \"3\", \"4\", \"5\", \"6\", \"7\", \"8\", \"9\", \"10\", \"11\", \"12\", \"13\", \"14\", \"15\", \"16\", \"17\", \"18\", \"19\", \"20\"], \"mode\": \"markers\", \"name\": \"precision_score_micro\", \"stepped\": false, \"type\": \"scatter\", \"data\": [0.9923916229377561, 0.9928821378331101, 0.9911162902693592, 0.9911162902693592, 0.963091784242995, 0.9289193979026078, 0.9911162902693592, 0.9911162902693592, 0.9911162902693592, 0.9911162902693592, 0.9911162902693592, 0.9920864143428161, 0.9916176998322447, 0.9911162902693592, 0.9927513326728737, 0.9911162902693592, 0.9911162902693592, 0.9921082125889432, 0.9912797958285481, 0.9929475404132283, 0.9925878271136847]}, {\"categories\": [\"0\", \"1\", \"2\", \"3\", \"4\", \"5\", \"6\", \"7\", \"8\", \"9\", \"10\", \"11\", \"12\", \"13\", \"14\", \"15\", \"16\", \"17\", \"18\", \"19\", \"20\"], \"mode\": \"lines\", \"name\": \"precision_score_micro_max\", \"stepped\": true, \"type\": \"scatter\", \"data\": [0.9923916229377561, 0.9928821378331101, 0.9928821378331101, 0.9928821378331101, 0.9928821378331101, 0.9928821378331101, 0.9928821378331101, 0.9928821378331101, 0.9928821378331101, 0.9928821378331101, 0.9928821378331101, 0.9928821378331101, 0.9928821378331101, 0.9928821378331101, 0.9928821378331101, 0.9928821378331101, 0.9928821378331101, 0.9928821378331101, 0.9928821378331101, 0.9929475404132283, 0.9929475404132283]}], \"f1_score_weighted\": [{\"categories\": [\"0\", \"1\", \"2\", \"3\", \"4\", \"5\", \"6\", \"7\", \"8\", \"9\", \"10\", \"11\", \"12\", \"13\", \"14\", \"15\", \"16\", \"17\", \"18\", \"19\", \"20\"], \"mode\": \"markers\", \"name\": \"f1_score_weighted\", \"stepped\": false, \"type\": \"scatter\", \"data\": [0.9920743833149747, 0.9922483804836527, 0.9866942933279278, 0.9866942933279278, 0.975262746843592, 0.9559328014880301, 0.9866942933279278, 0.9866942933279278, 0.9866942933279278, 0.9866942933279278, 0.9866942933279278, 0.9914887118906387, 0.9890017285512132, 0.9866942933279278, 0.9920787842668081, 0.9866942933279278, 0.9866942933279278, 0.9912792453364002, 0.9909648165930701, 0.992564374327498, 0.9919544550298297]}, {\"categories\": [\"0\", \"1\", \"2\", \"3\", \"4\", \"5\", \"6\", \"7\", \"8\", \"9\", \"10\", \"11\", \"12\", \"13\", \"14\", \"15\", \"16\", \"17\", \"18\", \"19\", \"20\"], \"mode\": \"lines\", \"name\": \"f1_score_weighted_max\", \"stepped\": true, \"type\": \"scatter\", \"data\": [0.9920743833149747, 0.9922483804836527, 0.9922483804836527, 0.9922483804836527, 0.9922483804836527, 0.9922483804836527, 0.9922483804836527, 0.9922483804836527, 0.9922483804836527, 0.9922483804836527, 0.9922483804836527, 0.9922483804836527, 0.9922483804836527, 0.9922483804836527, 0.9922483804836527, 0.9922483804836527, 0.9922483804836527, 0.9922483804836527, 0.9922483804836527, 0.992564374327498, 0.992564374327498]}], \"average_precision_score_micro\": [{\"categories\": [\"0\", \"1\", \"2\", \"3\", \"4\", \"5\", \"6\", \"7\", \"8\", \"9\", \"10\", \"11\", \"12\", \"13\", \"14\", \"15\", \"16\", \"17\", \"18\", \"19\", \"20\"], \"mode\": \"markers\", \"name\": \"average_precision_score_micro\", \"stepped\": false, \"type\": \"scatter\", \"data\": [0.9998202884952411, 0.9998536140311888, 0.9996668242841406, 0.9952414381081199, 0.9634405738360238, 0.9418889049077196, 0.9970999928697131, 0.9964309186225219, 0.9963267939167402, 0.9962833675505692, 0.9966311628459779, 0.9998368732575996, 0.9998201839586388, 0.9962378175816143, 0.9998498534092439, 0.9996856595533178, 0.9994929300957729, 0.9998420192109885, 0.9997863804545748, 0.999851997866395, 0.9998198483853339]}, {\"categories\": [\"0\", \"1\", \"2\", \"3\", \"4\", \"5\", \"6\", \"7\", \"8\", \"9\", \"10\", \"11\", \"12\", \"13\", \"14\", \"15\", \"16\", \"17\", \"18\", \"19\", \"20\"], \"mode\": \"lines\", \"name\": \"average_precision_score_micro_max\", \"stepped\": true, \"type\": \"scatter\", \"data\": [0.9998202884952411, 0.9998536140311888, 0.9998536140311888, 0.9998536140311888, 0.9998536140311888, 0.9998536140311888, 0.9998536140311888, 0.9998536140311888, 0.9998536140311888, 0.9998536140311888, 0.9998536140311888, 0.9998536140311888, 0.9998536140311888, 0.9998536140311888, 0.9998536140311888, 0.9998536140311888, 0.9998536140311888, 0.9998536140311888, 0.9998536140311888, 0.9998536140311888, 0.9998536140311888]}], \"f1_score_micro\": [{\"categories\": [\"0\", \"1\", \"2\", \"3\", \"4\", \"5\", \"6\", \"7\", \"8\", \"9\", \"10\", \"11\", \"12\", \"13\", \"14\", \"15\", \"16\", \"17\", \"18\", \"19\", \"20\"], \"mode\": \"markers\", \"name\": \"f1_score_micro\", \"stepped\": false, \"type\": \"scatter\", \"data\": [0.9923916229377561, 0.9928821378331101, 0.9911162902693592, 0.9911162902693592, 0.963091784242995, 0.9289193979026078, 0.9911162902693592, 0.9911162902693592, 0.9911162902693592, 0.9911162902693592, 0.9911162902693592, 0.9920864143428161, 0.9916176998322447, 0.9911162902693592, 0.9927513326728737, 0.9911162902693592, 0.9911162902693592, 0.9921082125889432, 0.9912797958285481, 0.9929475404132283, 0.9925878271136847]}, {\"categories\": [\"0\", \"1\", \"2\", \"3\", \"4\", \"5\", \"6\", \"7\", \"8\", \"9\", \"10\", \"11\", \"12\", \"13\", \"14\", \"15\", \"16\", \"17\", \"18\", \"19\", \"20\"], \"mode\": \"lines\", \"name\": \"f1_score_micro_max\", \"stepped\": true, \"type\": \"scatter\", \"data\": [0.9923916229377561, 0.9928821378331101, 0.9928821378331101, 0.9928821378331101, 0.9928821378331101, 0.9928821378331101, 0.9928821378331101, 0.9928821378331101, 0.9928821378331101, 0.9928821378331101, 0.9928821378331101, 0.9928821378331101, 0.9928821378331101, 0.9928821378331101, 0.9928821378331101, 0.9928821378331101, 0.9928821378331101, 0.9928821378331101, 0.9928821378331101, 0.9929475404132283, 0.9929475404132283]}], \"AUC_weighted\": [{\"categories\": [\"0\", \"1\", \"2\", \"3\", \"4\", \"5\", \"6\", \"7\", \"8\", \"9\", \"10\", \"11\", \"12\", \"13\", \"14\", \"15\", \"16\", \"17\", \"18\", \"19\", \"20\"], \"mode\": \"markers\", \"name\": \"AUC_weighted\", \"stepped\": false, \"type\": \"scatter\", \"data\": [0.9941196075391576, 0.9951618163320495, 0.9854949070412998, 0.7766412055187984, 0.9846914302372664, 0.9623468422831337, 0.847754445691001, 0.8096061498648813, 0.8050808264916123, 0.8093162145029057, 0.8219197090707894, 0.9946184668448163, 0.9944935236984532, 0.7981968971197189, 0.9950464293063132, 0.9865057298186435, 0.9753614945918825, 0.9948899720768652, 0.993137514870592, 0.9951179932371955, 0.9945049978536286]}, {\"categories\": [\"0\", \"1\", \"2\", \"3\", \"4\", \"5\", \"6\", \"7\", \"8\", \"9\", \"10\", \"11\", \"12\", \"13\", \"14\", \"15\", \"16\", \"17\", \"18\", \"19\", \"20\"], \"mode\": \"lines\", \"name\": \"AUC_weighted_max\", \"stepped\": true, \"type\": \"scatter\", \"data\": [0.9941196075391576, 0.9951618163320495, 0.9951618163320495, 0.9951618163320495, 0.9951618163320495, 0.9951618163320495, 0.9951618163320495, 0.9951618163320495, 0.9951618163320495, 0.9951618163320495, 0.9951618163320495, 0.9951618163320495, 0.9951618163320495, 0.9951618163320495, 0.9951618163320495, 0.9951618163320495, 0.9951618163320495, 0.9951618163320495, 0.9951618163320495, 0.9951618163320495, 0.9951618163320495]}], \"recall_score_weighted\": [{\"categories\": [\"0\", \"1\", \"2\", \"3\", \"4\", \"5\", \"6\", \"7\", \"8\", \"9\", \"10\", \"11\", \"12\", \"13\", \"14\", \"15\", \"16\", \"17\", \"18\", \"19\", \"20\"], \"mode\": \"markers\", \"name\": \"recall_score_weighted\", \"stepped\": false, \"type\": \"scatter\", \"data\": [0.9923916229377561, 0.9928821378331101, 0.9911162902693592, 0.9911162902693592, 0.963091784242995, 0.9289193979026078, 0.9911162902693592, 0.9911162902693592, 0.9911162902693592, 0.9911162902693592, 0.9911162902693592, 0.9920864143428161, 0.9916176998322447, 0.9911162902693592, 0.9927513326728737, 0.9911162902693592, 0.9911162902693592, 0.9921082125889432, 0.9912797958285481, 0.9929475404132283, 0.9925878271136847]}, {\"categories\": [\"0\", \"1\", \"2\", \"3\", \"4\", \"5\", \"6\", \"7\", \"8\", \"9\", \"10\", \"11\", \"12\", \"13\", \"14\", \"15\", \"16\", \"17\", \"18\", \"19\", \"20\"], \"mode\": \"lines\", \"name\": \"recall_score_weighted_max\", \"stepped\": true, \"type\": \"scatter\", \"data\": [0.9923916229377561, 0.9928821378331101, 0.9928821378331101, 0.9928821378331101, 0.9928821378331101, 0.9928821378331101, 0.9928821378331101, 0.9928821378331101, 0.9928821378331101, 0.9928821378331101, 0.9928821378331101, 0.9928821378331101, 0.9928821378331101, 0.9928821378331101, 0.9928821378331101, 0.9928821378331101, 0.9928821378331101, 0.9928821378331101, 0.9928821378331101, 0.9929475404132283, 0.9929475404132283]}], \"AUC_micro\": [{\"categories\": [\"0\", \"1\", \"2\", \"3\", \"4\", \"5\", \"6\", \"7\", \"8\", \"9\", \"10\", \"11\", \"12\", \"13\", \"14\", \"15\", \"16\", \"17\", \"18\", \"19\", \"20\"], \"mode\": \"markers\", \"name\": \"AUC_micro\", \"stepped\": false, \"type\": \"scatter\", \"data\": [0.9998190892343543, 0.9998528146739512, 0.999666275358562, 0.996003710155922, 0.9717678466687903, 0.9530919224498025, 0.9972338596725298, 0.9965601428322713, 0.9964795380110661, 0.9965587736948397, 0.9967820085026129, 0.9998358441415224, 0.9998266733250595, 0.9963602032778834, 0.9998489359377278, 0.999683006644347, 0.9994866066638791, 0.9998410532231469, 0.9997848716304301, 0.9998510905959254, 0.9998186269362913]}, {\"categories\": [\"0\", \"1\", \"2\", \"3\", \"4\", \"5\", \"6\", \"7\", \"8\", \"9\", \"10\", \"11\", \"12\", \"13\", \"14\", \"15\", \"16\", \"17\", \"18\", \"19\", \"20\"], \"mode\": \"lines\", \"name\": \"AUC_micro_max\", \"stepped\": true, \"type\": \"scatter\", \"data\": [0.9998190892343543, 0.9998528146739512, 0.9998528146739512, 0.9998528146739512, 0.9998528146739512, 0.9998528146739512, 0.9998528146739512, 0.9998528146739512, 0.9998528146739512, 0.9998528146739512, 0.9998528146739512, 0.9998528146739512, 0.9998528146739512, 0.9998528146739512, 0.9998528146739512, 0.9998528146739512, 0.9998528146739512, 0.9998528146739512, 0.9998528146739512, 0.9998528146739512, 0.9998528146739512]}], \"precision_score_weighted\": [{\"categories\": [\"0\", \"1\", \"2\", \"3\", \"4\", \"5\", \"6\", \"7\", \"8\", \"9\", \"10\", \"11\", \"12\", \"13\", \"14\", \"15\", \"16\", \"17\", \"18\", \"19\", \"20\"], \"mode\": \"markers\", \"name\": \"precision_score_weighted\", \"stepped\": false, \"type\": \"scatter\", \"data\": [0.9918257461025214, 0.9919491424869197, 0.982311657991294, 0.982311657991294, 0.9927694931745831, 0.9913094304420103, 0.982311657991294, 0.982311657991294, 0.982311657991294, 0.982311657991294, 0.982311657991294, 0.991101943485419, 0.9894651212752361, 0.982311657991294, 0.9917527755119223, 0.982311657991294, 0.982311657991294, 0.9908524762022148, 0.9907008935639339, 0.9923479673301125, 0.991930256960715]}, {\"categories\": [\"0\", \"1\", \"2\", \"3\", \"4\", \"5\", \"6\", \"7\", \"8\", \"9\", \"10\", \"11\", \"12\", \"13\", \"14\", \"15\", \"16\", \"17\", \"18\", \"19\", \"20\"], \"mode\": \"lines\", \"name\": \"precision_score_weighted_max\", \"stepped\": true, \"type\": \"scatter\", \"data\": [0.9918257461025214, 0.9919491424869197, 0.9919491424869197, 0.9919491424869197, 0.9927694931745831, 0.9927694931745831, 0.9927694931745831, 0.9927694931745831, 0.9927694931745831, 0.9927694931745831, 0.9927694931745831, 0.9927694931745831, 0.9927694931745831, 0.9927694931745831, 0.9927694931745831, 0.9927694931745831, 0.9927694931745831, 0.9927694931745831, 0.9927694931745831, 0.9927694931745831, 0.9927694931745831]}], \"matthews_correlation\": [{\"categories\": [\"0\", \"1\", \"2\", \"3\", \"4\", \"5\", \"6\", \"7\", \"8\", \"9\", \"10\", \"11\", \"12\", \"13\", \"14\", \"15\", \"16\", \"17\", \"18\", \"19\", \"20\"], \"mode\": \"markers\", \"name\": \"matthews_correlation\", \"stepped\": false, \"type\": \"scatter\", \"data\": [0.5331260509652268, 0.5325272848770641, 0.0, 0.0, 0.4334822550049536, 0.29922578035152086, 0.0, 0.0, 0.0, 0.0, 0.0, 0.4892799993898365, 0.2996877355441403, 0.0, 0.5219380561626709, 0.0, 0.0, 0.47011612211683973, 0.470719402627501, 0.5607735515723034, 0.5269957637765024]}, {\"categories\": [\"0\", \"1\", \"2\", \"3\", \"4\", \"5\", \"6\", \"7\", \"8\", \"9\", \"10\", \"11\", \"12\", \"13\", \"14\", \"15\", \"16\", \"17\", \"18\", \"19\", \"20\"], \"mode\": \"lines\", \"name\": \"matthews_correlation_max\", \"stepped\": true, \"type\": \"scatter\", \"data\": [0.5331260509652268, 0.5331260509652268, 0.5331260509652268, 0.5331260509652268, 0.5331260509652268, 0.5331260509652268, 0.5331260509652268, 0.5331260509652268, 0.5331260509652268, 0.5331260509652268, 0.5331260509652268, 0.5331260509652268, 0.5331260509652268, 0.5331260509652268, 0.5331260509652268, 0.5331260509652268, 0.5331260509652268, 0.5331260509652268, 0.5331260509652268, 0.5607735515723034, 0.5607735515723034]}], \"weighted_accuracy\": [{\"categories\": [\"0\", \"1\", \"2\", \"3\", \"4\", \"5\", \"6\", \"7\", \"8\", \"9\", \"10\", \"11\", \"12\", \"13\", \"14\", \"15\", \"16\", \"17\", \"18\", \"19\", \"20\"], \"mode\": \"markers\", \"name\": \"weighted_accuracy\", \"stepped\": false, \"type\": \"scatter\", \"data\": [0.9968141814157542, 0.9977341677562478, 0.999919499302111, 0.999919499302111, 0.9629195565693486, 0.9289710144118032, 0.999919499302111, 0.999919499302111, 0.999919499302111, 0.999919499302111, 0.999919499302111, 0.9971382528404608, 0.9990194194343083, 0.999919499302111, 0.9977110522612781, 0.999919499302111, 0.999919499302111, 0.9975198861224914, 0.9961610345102051, 0.9972878813501577, 0.9973062816661118]}, {\"categories\": [\"0\", \"1\", \"2\", \"3\", \"4\", \"5\", \"6\", \"7\", \"8\", \"9\", \"10\", \"11\", \"12\", \"13\", \"14\", \"15\", \"16\", \"17\", \"18\", \"19\", \"20\"], \"mode\": \"lines\", \"name\": \"weighted_accuracy_max\", \"stepped\": true, \"type\": \"scatter\", \"data\": [0.9968141814157542, 0.9977341677562478, 0.999919499302111, 0.999919499302111, 0.999919499302111, 0.999919499302111, 0.999919499302111, 0.999919499302111, 0.999919499302111, 0.999919499302111, 0.999919499302111, 0.999919499302111, 0.999919499302111, 0.999919499302111, 0.999919499302111, 0.999919499302111, 0.999919499302111, 0.999919499302111, 0.999919499302111, 0.999919499302111, 0.999919499302111]}], \"norm_macro_recall\": [{\"categories\": [\"0\", \"1\", \"2\", \"3\", \"4\", \"5\", \"6\", \"7\", \"8\", \"9\", \"10\", \"11\", \"12\", \"13\", \"14\", \"15\", \"16\", \"17\", \"18\", \"19\", \"20\"], \"mode\": \"markers\", \"name\": \"norm_macro_recall\", \"stepped\": false, \"type\": \"scatter\", \"data\": [0.49045836113127944, 0.44434290201497534, 0.0, 0.0, 0.9463688655441436, 0.8532905646379637, 0.0, 0.0, 0.0, 0.0, 0.0, 0.42136937023967297, 0.16083349085886867, 0.0, 0.4326172165166189, 0.0, 0.0, 0.38204840736173856, 0.4385724005875578, 0.5029120240309916, 0.46523317505894696]}, {\"categories\": [\"0\", \"1\", \"2\", \"3\", \"4\", \"5\", \"6\", \"7\", \"8\", \"9\", \"10\", \"11\", \"12\", \"13\", \"14\", \"15\", \"16\", \"17\", \"18\", \"19\", \"20\"], \"mode\": \"lines\", \"name\": \"norm_macro_recall_max\", \"stepped\": true, \"type\": \"scatter\", \"data\": [0.49045836113127944, 0.49045836113127944, 0.49045836113127944, 0.49045836113127944, 0.9463688655441436, 0.9463688655441436, 0.9463688655441436, 0.9463688655441436, 0.9463688655441436, 0.9463688655441436, 0.9463688655441436, 0.9463688655441436, 0.9463688655441436, 0.9463688655441436, 0.9463688655441436, 0.9463688655441436, 0.9463688655441436, 0.9463688655441436, 0.9463688655441436, 0.9463688655441436, 0.9463688655441436]}], \"recall_score_micro\": [{\"categories\": [\"0\", \"1\", \"2\", \"3\", \"4\", \"5\", \"6\", \"7\", \"8\", \"9\", \"10\", \"11\", \"12\", \"13\", \"14\", \"15\", \"16\", \"17\", \"18\", \"19\", \"20\"], \"mode\": \"markers\", \"name\": \"recall_score_micro\", \"stepped\": false, \"type\": \"scatter\", \"data\": [0.9923916229377561, 0.9928821378331101, 0.9911162902693592, 0.9911162902693592, 0.963091784242995, 0.9289193979026078, 0.9911162902693592, 0.9911162902693592, 0.9911162902693592, 0.9911162902693592, 0.9911162902693592, 0.9920864143428161, 0.9916176998322447, 0.9911162902693592, 0.9927513326728737, 0.9911162902693592, 0.9911162902693592, 0.9921082125889432, 0.9912797958285481, 0.9929475404132283, 0.9925878271136847]}, {\"categories\": [\"0\", \"1\", \"2\", \"3\", \"4\", \"5\", \"6\", \"7\", \"8\", \"9\", \"10\", \"11\", \"12\", \"13\", \"14\", \"15\", \"16\", \"17\", \"18\", \"19\", \"20\"], \"mode\": \"lines\", \"name\": \"recall_score_micro_max\", \"stepped\": true, \"type\": \"scatter\", \"data\": [0.9923916229377561, 0.9928821378331101, 0.9928821378331101, 0.9928821378331101, 0.9928821378331101, 0.9928821378331101, 0.9928821378331101, 0.9928821378331101, 0.9928821378331101, 0.9928821378331101, 0.9928821378331101, 0.9928821378331101, 0.9928821378331101, 0.9928821378331101, 0.9928821378331101, 0.9928821378331101, 0.9928821378331101, 0.9928821378331101, 0.9928821378331101, 0.9929475404132283, 0.9929475404132283]}], \"average_precision_score_macro\": [{\"categories\": [\"0\", \"1\", \"2\", \"3\", \"4\", \"5\", \"6\", \"7\", \"8\", \"9\", \"10\", \"11\", \"12\", \"13\", \"14\", \"15\", \"16\", \"17\", \"18\", \"19\", \"20\"], \"mode\": \"markers\", \"name\": \"average_precision_score_macro\", \"stepped\": false, \"type\": \"scatter\", \"data\": [0.7757420120085262, 0.8006364692012613, 0.6293753206251472, 0.5163579887115798, 0.624259944938334, 0.5822176517639065, 0.5329989738392312, 0.5220968817892566, 0.5196413921249685, 0.5209890371281396, 0.5206705729528961, 0.7732541418887088, 0.764118374847221, 0.5197190834132509, 0.7961386658332126, 0.6286603522717484, 0.5999627734739894, 0.7710503108771484, 0.7319948935832841, 0.797496062810764, 0.7874626344054786]}, {\"categories\": [\"0\", \"1\", \"2\", \"3\", \"4\", \"5\", \"6\", \"7\", \"8\", \"9\", \"10\", \"11\", \"12\", \"13\", \"14\", \"15\", \"16\", \"17\", \"18\", \"19\", \"20\"], \"mode\": \"lines\", \"name\": \"average_precision_score_macro_max\", \"stepped\": true, \"type\": \"scatter\", \"data\": [0.7757420120085262, 0.8006364692012613, 0.8006364692012613, 0.8006364692012613, 0.8006364692012613, 0.8006364692012613, 0.8006364692012613, 0.8006364692012613, 0.8006364692012613, 0.8006364692012613, 0.8006364692012613, 0.8006364692012613, 0.8006364692012613, 0.8006364692012613, 0.8006364692012613, 0.8006364692012613, 0.8006364692012613, 0.8006364692012613, 0.8006364692012613, 0.8006364692012613, 0.8006364692012613]}], \"recall_score_macro\": [{\"categories\": [\"0\", \"1\", \"2\", \"3\", \"4\", \"5\", \"6\", \"7\", \"8\", \"9\", \"10\", \"11\", \"12\", \"13\", \"14\", \"15\", \"16\", \"17\", \"18\", \"19\", \"20\"], \"mode\": \"markers\", \"name\": \"recall_score_macro\", \"stepped\": false, \"type\": \"scatter\", \"data\": [0.7452291805656396, 0.7221714510074877, 0.5, 0.5, 0.9731844327720717, 0.9266452823189818, 0.5, 0.5, 0.5, 0.5, 0.5, 0.7106846851198364, 0.5804167454294343, 0.5, 0.7163086082583096, 0.5, 0.5, 0.6910242036808693, 0.7192862002937789, 0.7514560120154957, 0.7326165875294736]}, {\"categories\": [\"0\", \"1\", \"2\", \"3\", \"4\", \"5\", \"6\", \"7\", \"8\", \"9\", \"10\", \"11\", \"12\", \"13\", \"14\", \"15\", \"16\", \"17\", \"18\", \"19\", \"20\"], \"mode\": \"lines\", \"name\": \"recall_score_macro_max\", \"stepped\": true, \"type\": \"scatter\", \"data\": [0.7452291805656396, 0.7452291805656396, 0.7452291805656396, 0.7452291805656396, 0.9731844327720717, 0.9731844327720717, 0.9731844327720717, 0.9731844327720717, 0.9731844327720717, 0.9731844327720717, 0.9731844327720717, 0.9731844327720717, 0.9731844327720717, 0.9731844327720717, 0.9731844327720717, 0.9731844327720717, 0.9731844327720717, 0.9731844327720717, 0.9731844327720717, 0.9731844327720717, 0.9731844327720717]}], \"precision_score_macro\": [{\"categories\": [\"0\", \"1\", \"2\", \"3\", \"4\", \"5\", \"6\", \"7\", \"8\", \"9\", \"10\", \"11\", \"12\", \"13\", \"14\", \"15\", \"16\", \"17\", \"18\", \"19\", \"20\"], \"mode\": \"markers\", \"name\": \"precision_score_macro\", \"stepped\": false, \"type\": \"scatter\", \"data\": [0.7897727551754313, 0.8194024570628283, 0.4955581451346796, 0.4955581451346796, 0.6007996741334816, 0.5525315284463314, 0.4955581451346796, 0.4955581451346796, 0.4955581451346796, 0.4955581451346796, 0.4955581451346796, 0.7842794418310697, 0.8208476083788804, 0.4955581451346796, 0.8150633724678732, 0.4955581451346796, 0.4955581451346796, 0.7899691560376384, 0.7527751135330978, 0.8137295105342046, 0.8108893037492452]}, {\"categories\": [\"0\", \"1\", \"2\", \"3\", \"4\", \"5\", \"6\", \"7\", \"8\", \"9\", \"10\", \"11\", \"12\", \"13\", \"14\", \"15\", \"16\", \"17\", \"18\", \"19\", \"20\"], \"mode\": \"lines\", \"name\": \"precision_score_macro_max\", \"stepped\": true, \"type\": \"scatter\", \"data\": [0.7897727551754313, 0.8194024570628283, 0.8194024570628283, 0.8194024570628283, 0.8194024570628283, 0.8194024570628283, 0.8194024570628283, 0.8194024570628283, 0.8194024570628283, 0.8194024570628283, 0.8194024570628283, 0.8194024570628283, 0.8208476083788804, 0.8208476083788804, 0.8208476083788804, 0.8208476083788804, 0.8208476083788804, 0.8208476083788804, 0.8208476083788804, 0.8208476083788804, 0.8208476083788804]}], \"balanced_accuracy\": [{\"categories\": [\"0\", \"1\", \"2\", \"3\", \"4\", \"5\", \"6\", \"7\", \"8\", \"9\", \"10\", \"11\", \"12\", \"13\", \"14\", \"15\", \"16\", \"17\", \"18\", \"19\", \"20\"], \"mode\": \"markers\", \"name\": \"balanced_accuracy\", \"stepped\": false, \"type\": \"scatter\", \"data\": [0.7452291805656396, 0.7221714510074877, 0.5, 0.5, 0.9731844327720717, 0.9266452823189818, 0.5, 0.5, 0.5, 0.5, 0.5, 0.7106846851198364, 0.5804167454294343, 0.5, 0.7163086082583096, 0.5, 0.5, 0.6910242036808693, 0.7192862002937789, 0.7514560120154957, 0.7326165875294736]}, {\"categories\": [\"0\", \"1\", \"2\", \"3\", \"4\", \"5\", \"6\", \"7\", \"8\", \"9\", \"10\", \"11\", \"12\", \"13\", \"14\", \"15\", \"16\", \"17\", \"18\", \"19\", \"20\"], \"mode\": \"lines\", \"name\": \"balanced_accuracy_max\", \"stepped\": true, \"type\": \"scatter\", \"data\": [0.7452291805656396, 0.7452291805656396, 0.7452291805656396, 0.7452291805656396, 0.9731844327720717, 0.9731844327720717, 0.9731844327720717, 0.9731844327720717, 0.9731844327720717, 0.9731844327720717, 0.9731844327720717, 0.9731844327720717, 0.9731844327720717, 0.9731844327720717, 0.9731844327720717, 0.9731844327720717, 0.9731844327720717, 0.9731844327720717, 0.9731844327720717, 0.9731844327720717, 0.9731844327720717]}], \"f1_score_macro\": [{\"categories\": [\"0\", \"1\", \"2\", \"3\", \"4\", \"5\", \"6\", \"7\", \"8\", \"9\", \"10\", \"11\", \"12\", \"13\", \"14\", \"15\", \"16\", \"17\", \"18\", \"19\", \"20\"], \"mode\": \"markers\", \"name\": \"f1_score_macro\", \"stepped\": false, \"type\": \"scatter\", \"data\": [0.7655837132716242, 0.7616308457010988, 0.4977691436053952, 0.4977691436053952, 0.656310576252728, 0.5762898565013378, 0.4977691436053952, 0.4977691436053952, 0.4977691436053952, 0.4977691436053952, 0.4977691436053952, 0.7416996078799963, 0.6158778419569946, 0.4977691436053952, 0.7561376680091422, 0.4977691436053952, 0.4977691436053952, 0.7295217565734281, 0.734655541671177, 0.7781111845585436, 0.7555651220550259]}, {\"categories\": [\"0\", \"1\", \"2\", \"3\", \"4\", \"5\", \"6\", \"7\", \"8\", \"9\", \"10\", \"11\", \"12\", \"13\", \"14\", \"15\", \"16\", \"17\", \"18\", \"19\", \"20\"], \"mode\": \"lines\", \"name\": \"f1_score_macro_max\", \"stepped\": true, \"type\": \"scatter\", \"data\": [0.7655837132716242, 0.7655837132716242, 0.7655837132716242, 0.7655837132716242, 0.7655837132716242, 0.7655837132716242, 0.7655837132716242, 0.7655837132716242, 0.7655837132716242, 0.7655837132716242, 0.7655837132716242, 0.7655837132716242, 0.7655837132716242, 0.7655837132716242, 0.7655837132716242, 0.7655837132716242, 0.7655837132716242, 0.7655837132716242, 0.7655837132716242, 0.7781111845585436, 0.7781111845585436]}]}, \"metricName\": null, \"primaryMetricName\": \"accuracy\", \"showLegend\": false}, \"run_metrics\": [{\"name\": \"log_loss\", \"run_id\": \"AutoML_abd00848-58b1-4ed8-8a29-507e5ea4e8bb\", \"categories\": [0], \"series\": [{\"data\": [0.1600585938770115]}]}, {\"name\": \"accuracy\", \"run_id\": \"AutoML_abd00848-58b1-4ed8-8a29-507e5ea4e8bb\", \"categories\": [0], \"series\": [{\"data\": [0.9929475404132283]}]}, {\"name\": \"average_precision_score_macro\", \"run_id\": \"AutoML_abd00848-58b1-4ed8-8a29-507e5ea4e8bb\", \"categories\": [0], \"series\": [{\"data\": [0.797496062810764]}]}, {\"name\": \"average_precision_score_micro\", \"run_id\": \"AutoML_abd00848-58b1-4ed8-8a29-507e5ea4e8bb\", \"categories\": [0], \"series\": [{\"data\": [0.999851997866395]}]}, {\"name\": \"f1_score_weighted\", \"run_id\": \"AutoML_abd00848-58b1-4ed8-8a29-507e5ea4e8bb\", \"categories\": [0], \"series\": [{\"data\": [0.992564374327498]}]}, {\"name\": \"AUC_macro\", \"run_id\": \"AutoML_abd00848-58b1-4ed8-8a29-507e5ea4e8bb\", \"categories\": [0], \"series\": [{\"data\": [0.9951179932371955]}]}, {\"name\": \"norm_macro_recall\", \"run_id\": \"AutoML_abd00848-58b1-4ed8-8a29-507e5ea4e8bb\", \"categories\": [0], \"series\": [{\"data\": [0.5029120240309916]}]}, {\"name\": \"recall_score_micro\", \"run_id\": \"AutoML_abd00848-58b1-4ed8-8a29-507e5ea4e8bb\", \"categories\": [0], \"series\": [{\"data\": [0.9929475404132283]}]}, {\"name\": \"balanced_accuracy\", \"run_id\": \"AutoML_abd00848-58b1-4ed8-8a29-507e5ea4e8bb\", \"categories\": [0], \"series\": [{\"data\": [0.7514560120154957]}]}, {\"name\": \"matthews_correlation\", \"run_id\": \"AutoML_abd00848-58b1-4ed8-8a29-507e5ea4e8bb\", \"categories\": [0], \"series\": [{\"data\": [0.5607735515723034]}]}, {\"name\": \"AUC_weighted\", \"run_id\": \"AutoML_abd00848-58b1-4ed8-8a29-507e5ea4e8bb\", \"categories\": [0], \"series\": [{\"data\": [0.9951179932371955]}]}, {\"name\": \"f1_score_macro\", \"run_id\": \"AutoML_abd00848-58b1-4ed8-8a29-507e5ea4e8bb\", \"categories\": [0], \"series\": [{\"data\": [0.7781111845585436]}]}, {\"name\": \"AUC_micro\", \"run_id\": \"AutoML_abd00848-58b1-4ed8-8a29-507e5ea4e8bb\", \"categories\": [0], \"series\": [{\"data\": [0.9998510905959254]}]}, {\"name\": \"recall_score_weighted\", \"run_id\": \"AutoML_abd00848-58b1-4ed8-8a29-507e5ea4e8bb\", \"categories\": [0], \"series\": [{\"data\": [0.9929475404132283]}]}, {\"name\": \"precision_score_macro\", \"run_id\": \"AutoML_abd00848-58b1-4ed8-8a29-507e5ea4e8bb\", \"categories\": [0], \"series\": [{\"data\": [0.8137295105342046]}]}, {\"name\": \"f1_score_micro\", \"run_id\": \"AutoML_abd00848-58b1-4ed8-8a29-507e5ea4e8bb\", \"categories\": [0], \"series\": [{\"data\": [0.9929475404132283]}]}, {\"name\": \"precision_score_micro\", \"run_id\": \"AutoML_abd00848-58b1-4ed8-8a29-507e5ea4e8bb\", \"categories\": [0], \"series\": [{\"data\": [0.9929475404132283]}]}, {\"name\": \"recall_score_macro\", \"run_id\": \"AutoML_abd00848-58b1-4ed8-8a29-507e5ea4e8bb\", \"categories\": [0], \"series\": [{\"data\": [0.7514560120154957]}]}, {\"name\": \"average_precision_score_weighted\", \"run_id\": \"AutoML_abd00848-58b1-4ed8-8a29-507e5ea4e8bb\", \"categories\": [0], \"series\": [{\"data\": [0.996363771825345]}]}, {\"name\": \"weighted_accuracy\", \"run_id\": \"AutoML_abd00848-58b1-4ed8-8a29-507e5ea4e8bb\", \"categories\": [0], \"series\": [{\"data\": [0.9972878813501577]}]}, {\"name\": \"precision_score_weighted\", \"run_id\": \"AutoML_abd00848-58b1-4ed8-8a29-507e5ea4e8bb\", \"categories\": [0], \"series\": [{\"data\": [0.9923479673301125]}]}], \"run_logs\": \"\\nRun is completed.\", \"graph\": {}, \"widget_settings\": {\"childWidgetDisplay\": \"popup\", \"send_telemetry\": false, \"log_level\": \"INFO\", \"sdk_version\": \"1.19.0\"}, \"loading\": false}"
          },
          "metadata": {}
        },
        {
          "output_type": "execute_result",
          "execution_count": 57,
          "data": {
            "text/plain": "{'runId': 'AutoML_abd00848-58b1-4ed8-8a29-507e5ea4e8bb',\n 'target': 'local',\n 'status': 'Completed',\n 'startTimeUtc': '2021-01-24T21:41:34.17318Z',\n 'endTimeUtc': '2021-01-24T21:59:54.248281Z',\n 'properties': {'num_iterations': '30',\n  'training_type': 'TrainFull',\n  'acquisition_function': 'EI',\n  'primary_metric': 'accuracy',\n  'train_split': '0',\n  'acquisition_parameter': '0',\n  'num_cross_validation': '3',\n  'target': 'local',\n  'AMLSettingsJsonString': '{\"path\":null,\"name\":\"automlExperiment\",\"subscription_id\":\"b968fb36-f06a-4c76-a15f-afab68ae7667\",\"resource_group\":\"aml-quickstarts-135919\",\"workspace_name\":\"quick-starts-ws-135919\",\"region\":\"southcentralus\",\"compute_target\":\"local\",\"spark_service\":null,\"azure_service\":\"Microsoft.AzureNotebookVM\",\"many_models\":false,\"pipeline_fetch_max_batch_size\":1,\"iterations\":30,\"primary_metric\":\"accuracy\",\"task_type\":\"classification\",\"data_script\":null,\"validation_size\":0.0,\"n_cross_validations\":3,\"y_min\":null,\"y_max\":null,\"num_classes\":2,\"featurization\":\"auto\",\"_ignore_package_version_incompatibilities\":false,\"is_timeseries\":false,\"max_cores_per_iteration\":-1,\"max_concurrent_iterations\":8,\"iteration_timeout_minutes\":null,\"mem_in_mb\":null,\"enforce_time_on_windows\":false,\"experiment_timeout_minutes\":15,\"experiment_exit_score\":null,\"whitelist_models\":null,\"blacklist_algos\":[\"TensorFlowLinearClassifier\",\"TensorFlowDNN\"],\"supported_models\":[\"RandomForest\",\"BernoulliNaiveBayes\",\"LogisticRegression\",\"MultinomialNaiveBayes\",\"GradientBoosting\",\"XGBoostClassifier\",\"LinearSVM\",\"AveragedPerceptronClassifier\",\"LightGBM\",\"ExtremeRandomTrees\",\"TensorFlowDNN\",\"TensorFlowLinearClassifier\",\"SVM\",\"DecisionTree\",\"KNN\",\"SGD\"],\"auto_blacklist\":true,\"blacklist_samples_reached\":false,\"exclude_nan_labels\":true,\"verbosity\":20,\"_debug_log\":\"automl.log\",\"show_warnings\":false,\"model_explainability\":true,\"service_url\":null,\"sdk_url\":null,\"sdk_packages\":null,\"enable_onnx_compatible_models\":false,\"enable_split_onnx_featurizer_estimator_models\":false,\"vm_type\":null,\"telemetry_verbosity\":20,\"send_telemetry\":true,\"enable_dnn\":false,\"scenario\":\"SDK-1.13.0\",\"environment_label\":null,\"force_text_dnn\":false,\"enable_feature_sweeping\":true,\"enable_early_stopping\":false,\"early_stopping_n_iters\":10,\"metrics\":null,\"enable_ensembling\":true,\"enable_stack_ensembling\":true,\"ensemble_iterations\":15,\"enable_tf\":false,\"enable_subsampling\":false,\"subsample_seed\":null,\"enable_nimbusml\":false,\"enable_streaming\":false,\"force_streaming\":false,\"track_child_runs\":true,\"allowed_private_models\":[],\"label_column_name\":\"drugs_related_stop\",\"weight_column_name\":null,\"cv_split_column_names\":null,\"enable_local_managed\":false,\"_local_managed_run_id\":null,\"cost_mode\":1,\"lag_length\":0,\"metric_operation\":\"maximize\",\"preprocess\":true}',\n  'DataPrepJsonString': '{\\\\\"training_data\\\\\": \\\\\"{\\\\\\\\\\\\\"blocks\\\\\\\\\\\\\": [{\\\\\\\\\\\\\"id\\\\\\\\\\\\\": \\\\\\\\\\\\\"1a8ede1d-82ec-4732-ac46-6ce3ebf1d7ab\\\\\\\\\\\\\", \\\\\\\\\\\\\"type\\\\\\\\\\\\\": \\\\\\\\\\\\\"Microsoft.DPrep.GetDatastoreFilesBlock\\\\\\\\\\\\\", \\\\\\\\\\\\\"arguments\\\\\\\\\\\\\": {\\\\\\\\\\\\\"datastores\\\\\\\\\\\\\": [{\\\\\\\\\\\\\"datastoreName\\\\\\\\\\\\\": \\\\\\\\\\\\\"workspaceblobstore\\\\\\\\\\\\\", \\\\\\\\\\\\\"path\\\\\\\\\\\\\": \\\\\\\\\\\\\"UI/01-24-2021_094011_UTC/police_project.csv\\\\\\\\\\\\\", \\\\\\\\\\\\\"resourceGroup\\\\\\\\\\\\\": \\\\\\\\\\\\\"aml-quickstarts-135919\\\\\\\\\\\\\", \\\\\\\\\\\\\"subscription\\\\\\\\\\\\\": \\\\\\\\\\\\\"b968fb36-f06a-4c76-a15f-afab68ae7667\\\\\\\\\\\\\", \\\\\\\\\\\\\"workspaceName\\\\\\\\\\\\\": \\\\\\\\\\\\\"quick-starts-ws-135919\\\\\\\\\\\\\"}]}, \\\\\\\\\\\\\"localData\\\\\\\\\\\\\": {}, \\\\\\\\\\\\\"isEnabled\\\\\\\\\\\\\": true, \\\\\\\\\\\\\"name\\\\\\\\\\\\\": null, \\\\\\\\\\\\\"annotation\\\\\\\\\\\\\": null}, {\\\\\\\\\\\\\"id\\\\\\\\\\\\\": \\\\\\\\\\\\\"17e00eee-a700-4fe1-b4df-0589d1c22c17\\\\\\\\\\\\\", \\\\\\\\\\\\\"type\\\\\\\\\\\\\": \\\\\\\\\\\\\"Microsoft.DPrep.ParseDelimitedBlock\\\\\\\\\\\\\", \\\\\\\\\\\\\"arguments\\\\\\\\\\\\\": {\\\\\\\\\\\\\"columnHeadersMode\\\\\\\\\\\\\": 1, \\\\\\\\\\\\\"fileEncoding\\\\\\\\\\\\\": 0, \\\\\\\\\\\\\"handleQuotedLineBreaks\\\\\\\\\\\\\": false, \\\\\\\\\\\\\"preview\\\\\\\\\\\\\": false, \\\\\\\\\\\\\"separator\\\\\\\\\\\\\": \\\\\\\\\\\\\",\\\\\\\\\\\\\", \\\\\\\\\\\\\"skipRows\\\\\\\\\\\\\": 0, \\\\\\\\\\\\\"skipRowsMode\\\\\\\\\\\\\": 0}, \\\\\\\\\\\\\"localData\\\\\\\\\\\\\": {}, \\\\\\\\\\\\\"isEnabled\\\\\\\\\\\\\": true, \\\\\\\\\\\\\"name\\\\\\\\\\\\\": null, \\\\\\\\\\\\\"annotation\\\\\\\\\\\\\": null}, {\\\\\\\\\\\\\"id\\\\\\\\\\\\\": \\\\\\\\\\\\\"f98e9d9b-097c-4e8c-9959-a465ac4f2b8d\\\\\\\\\\\\\", \\\\\\\\\\\\\"type\\\\\\\\\\\\\": \\\\\\\\\\\\\"Microsoft.DPrep.DropColumnsBlock\\\\\\\\\\\\\", \\\\\\\\\\\\\"arguments\\\\\\\\\\\\\": {\\\\\\\\\\\\\"columns\\\\\\\\\\\\\": {\\\\\\\\\\\\\"type\\\\\\\\\\\\\": 0, \\\\\\\\\\\\\"details\\\\\\\\\\\\\": {\\\\\\\\\\\\\"selectedColumns\\\\\\\\\\\\\": [\\\\\\\\\\\\\"Path\\\\\\\\\\\\\"]}}}, \\\\\\\\\\\\\"localData\\\\\\\\\\\\\": {}, \\\\\\\\\\\\\"isEnabled\\\\\\\\\\\\\": true, \\\\\\\\\\\\\"name\\\\\\\\\\\\\": null, \\\\\\\\\\\\\"annotation\\\\\\\\\\\\\": null}, {\\\\\\\\\\\\\"id\\\\\\\\\\\\\": \\\\\\\\\\\\\"7b6331eb-391f-4e46-b77d-c05e015f7c07\\\\\\\\\\\\\", \\\\\\\\\\\\\"type\\\\\\\\\\\\\": \\\\\\\\\\\\\"Microsoft.DPrep.SetColumnTypesBlock\\\\\\\\\\\\\", \\\\\\\\\\\\\"arguments\\\\\\\\\\\\\": {\\\\\\\\\\\\\"columnConversion\\\\\\\\\\\\\": [{\\\\\\\\\\\\\"column\\\\\\\\\\\\\": {\\\\\\\\\\\\\"type\\\\\\\\\\\\\": 2, \\\\\\\\\\\\\"details\\\\\\\\\\\\\": {\\\\\\\\\\\\\"selectedColumn\\\\\\\\\\\\\": \\\\\\\\\\\\\"Path\\\\\\\\\\\\\"}}, \\\\\\\\\\\\\"typeProperty\\\\\\\\\\\\\": 0}, {\\\\\\\\\\\\\"column\\\\\\\\\\\\\": {\\\\\\\\\\\\\"type\\\\\\\\\\\\\": 2, \\\\\\\\\\\\\"details\\\\\\\\\\\\\": {\\\\\\\\\\\\\"selectedColumn\\\\\\\\\\\\\": \\\\\\\\\\\\\"stop_date\\\\\\\\\\\\\"}}, \\\\\\\\\\\\\"typeArguments\\\\\\\\\\\\\": {\\\\\\\\\\\\\"dateTimeFormats\\\\\\\\\\\\\": [\\\\\\\\\\\\\"%m/%d/%Y\\\\\\\\\\\\\"]}, \\\\\\\\\\\\\"typeProperty\\\\\\\\\\\\\": 0}, {\\\\\\\\\\\\\"column\\\\\\\\\\\\\": {\\\\\\\\\\\\\"type\\\\\\\\\\\\\": 2, \\\\\\\\\\\\\"details\\\\\\\\\\\\\": {\\\\\\\\\\\\\"selectedColumn\\\\\\\\\\\\\": \\\\\\\\\\\\\"stop_time\\\\\\\\\\\\\"}}, \\\\\\\\\\\\\"typeProperty\\\\\\\\\\\\\": 0}, {\\\\\\\\\\\\\"column\\\\\\\\\\\\\": {\\\\\\\\\\\\\"type\\\\\\\\\\\\\": 2, \\\\\\\\\\\\\"details\\\\\\\\\\\\\": {\\\\\\\\\\\\\"selectedColumn\\\\\\\\\\\\\": \\\\\\\\\\\\\"county_name\\\\\\\\\\\\\"}}, \\\\\\\\\\\\\"typeProperty\\\\\\\\\\\\\": 0}, {\\\\\\\\\\\\\"column\\\\\\\\\\\\\": {\\\\\\\\\\\\\"type\\\\\\\\\\\\\": 2, \\\\\\\\\\\\\"details\\\\\\\\\\\\\": {\\\\\\\\\\\\\"selectedColumn\\\\\\\\\\\\\": \\\\\\\\\\\\\"driver_gender\\\\\\\\\\\\\"}}, \\\\\\\\\\\\\"typeProperty\\\\\\\\\\\\\": 0}, {\\\\\\\\\\\\\"column\\\\\\\\\\\\\": {\\\\\\\\\\\\\"type\\\\\\\\\\\\\": 2, \\\\\\\\\\\\\"details\\\\\\\\\\\\\": {\\\\\\\\\\\\\"selectedColumn\\\\\\\\\\\\\": \\\\\\\\\\\\\"driver_age\\\\\\\\\\\\\"}}, \\\\\\\\\\\\\"typeProperty\\\\\\\\\\\\\": 0}, {\\\\\\\\\\\\\"column\\\\\\\\\\\\\": {\\\\\\\\\\\\\"type\\\\\\\\\\\\\": 2, \\\\\\\\\\\\\"details\\\\\\\\\\\\\": {\\\\\\\\\\\\\"selectedColumn\\\\\\\\\\\\\": \\\\\\\\\\\\\"driver_race\\\\\\\\\\\\\"}}, \\\\\\\\\\\\\"typeProperty\\\\\\\\\\\\\": 0}, {\\\\\\\\\\\\\"column\\\\\\\\\\\\\": {\\\\\\\\\\\\\"type\\\\\\\\\\\\\": 2, \\\\\\\\\\\\\"details\\\\\\\\\\\\\": {\\\\\\\\\\\\\"selectedColumn\\\\\\\\\\\\\": \\\\\\\\\\\\\"violation\\\\\\\\\\\\\"}}, \\\\\\\\\\\\\"typeProperty\\\\\\\\\\\\\": 0}, {\\\\\\\\\\\\\"column\\\\\\\\\\\\\": {\\\\\\\\\\\\\"type\\\\\\\\\\\\\": 2, \\\\\\\\\\\\\"details\\\\\\\\\\\\\": {\\\\\\\\\\\\\"selectedColumn\\\\\\\\\\\\\": \\\\\\\\\\\\\"search_conducted\\\\\\\\\\\\\"}}, \\\\\\\\\\\\\"typeProperty\\\\\\\\\\\\\": 0}, {\\\\\\\\\\\\\"column\\\\\\\\\\\\\": {\\\\\\\\\\\\\"type\\\\\\\\\\\\\": 2, \\\\\\\\\\\\\"details\\\\\\\\\\\\\": {\\\\\\\\\\\\\"selectedColumn\\\\\\\\\\\\\": \\\\\\\\\\\\\"search_type\\\\\\\\\\\\\"}}, \\\\\\\\\\\\\"typeProperty\\\\\\\\\\\\\": 0}, {\\\\\\\\\\\\\"column\\\\\\\\\\\\\": {\\\\\\\\\\\\\"type\\\\\\\\\\\\\": 2, \\\\\\\\\\\\\"details\\\\\\\\\\\\\": {\\\\\\\\\\\\\"selectedColumn\\\\\\\\\\\\\": \\\\\\\\\\\\\"stop_outcome\\\\\\\\\\\\\"}}, \\\\\\\\\\\\\"typeProperty\\\\\\\\\\\\\": 0}, {\\\\\\\\\\\\\"column\\\\\\\\\\\\\": {\\\\\\\\\\\\\"type\\\\\\\\\\\\\": 2, \\\\\\\\\\\\\"details\\\\\\\\\\\\\": {\\\\\\\\\\\\\"selectedColumn\\\\\\\\\\\\\": \\\\\\\\\\\\\"is_arrested\\\\\\\\\\\\\"}}, \\\\\\\\\\\\\"typeProperty\\\\\\\\\\\\\": 0}, {\\\\\\\\\\\\\"column\\\\\\\\\\\\\": {\\\\\\\\\\\\\"type\\\\\\\\\\\\\": 2, \\\\\\\\\\\\\"details\\\\\\\\\\\\\": {\\\\\\\\\\\\\"selectedColumn\\\\\\\\\\\\\": \\\\\\\\\\\\\"stop_duration\\\\\\\\\\\\\"}}, \\\\\\\\\\\\\"typeProperty\\\\\\\\\\\\\": 0}, {\\\\\\\\\\\\\"column\\\\\\\\\\\\\": {\\\\\\\\\\\\\"type\\\\\\\\\\\\\": 2, \\\\\\\\\\\\\"details\\\\\\\\\\\\\": {\\\\\\\\\\\\\"selectedColumn\\\\\\\\\\\\\": \\\\\\\\\\\\\"drugs_related_stop\\\\\\\\\\\\\"}}, \\\\\\\\\\\\\"typeProperty\\\\\\\\\\\\\": 0}]}, \\\\\\\\\\\\\"localData\\\\\\\\\\\\\": {}, \\\\\\\\\\\\\"isEnabled\\\\\\\\\\\\\": true, \\\\\\\\\\\\\"name\\\\\\\\\\\\\": null, \\\\\\\\\\\\\"annotation\\\\\\\\\\\\\": null}], \\\\\\\\\\\\\"inspectors\\\\\\\\\\\\\": [], \\\\\\\\\\\\\"meta\\\\\\\\\\\\\": {\\\\\\\\\\\\\"savedDatasetId\\\\\\\\\\\\\": \\\\\\\\\\\\\"96daab59-24cf-48e5-970b-92ecf027bded\\\\\\\\\\\\\", \\\\\\\\\\\\\"datasetType\\\\\\\\\\\\\": \\\\\\\\\\\\\"tabular\\\\\\\\\\\\\", \\\\\\\\\\\\\"subscriptionId\\\\\\\\\\\\\": \\\\\\\\\\\\\"b968fb36-f06a-4c76-a15f-afab68ae7667\\\\\\\\\\\\\", \\\\\\\\\\\\\"workspaceId\\\\\\\\\\\\\": \\\\\\\\\\\\\"645ccff9-ff48-49ea-a721-3d87cfdf001b\\\\\\\\\\\\\", \\\\\\\\\\\\\"workspaceLocation\\\\\\\\\\\\\": \\\\\\\\\\\\\"southcentralus\\\\\\\\\\\\\"}}\\\\\", \\\\\"activities\\\\\": 0}',\n  'EnableSubsampling': 'False',\n  'runTemplate': 'AutoML',\n  'azureml.runsource': 'automl',\n  'display_task_type': 'classification',\n  'dependencies_versions': '{\"azureml-widgets\": \"1.19.0\", \"azureml-train\": \"1.19.0\", \"azureml-train-restclients-hyperdrive\": \"1.19.0\", \"azureml-train-core\": \"1.19.0\", \"azureml-train-automl\": \"1.19.0\", \"azureml-train-automl-runtime\": \"1.19.0\", \"azureml-train-automl-client\": \"1.19.0\", \"azureml-tensorboard\": \"1.19.0\", \"azureml-telemetry\": \"1.19.0\", \"azureml-sdk\": \"1.19.0\", \"azureml-samples\": \"0+unknown\", \"azureml-pipeline\": \"1.19.0\", \"azureml-pipeline-steps\": \"1.19.0\", \"azureml-pipeline-core\": \"1.19.0\", \"azureml-opendatasets\": \"1.19.0\", \"azureml-model-management-sdk\": \"1.0.1b6.post1\", \"azureml-mlflow\": \"1.19.0\", \"azureml-interpret\": \"1.19.0\", \"azureml-explain-model\": \"1.19.0\", \"azureml-defaults\": \"1.19.0\", \"azureml-dataset-runtime\": \"1.19.0.post1\", \"azureml-dataprep\": \"2.6.1\", \"azureml-dataprep-rslex\": \"1.4.0\", \"azureml-dataprep-native\": \"26.0.0\", \"azureml-datadrift\": \"1.19.0\", \"azureml-core\": \"1.19.0\", \"azureml-contrib-services\": \"1.19.0\", \"azureml-contrib-server\": \"1.19.0\", \"azureml-contrib-reinforcementlearning\": \"1.19.0\", \"azureml-contrib-pipeline-steps\": \"1.19.0\", \"azureml-contrib-notebook\": \"1.19.0\", \"azureml-contrib-interpret\": \"1.19.0\", \"azureml-contrib-gbdt\": \"1.19.0\", \"azureml-contrib-fairness\": \"1.19.0\", \"azureml-contrib-dataset\": \"1.19.0\", \"azureml-cli-common\": \"1.19.0\", \"azureml-automl-runtime\": \"1.19.0\", \"azureml-automl-core\": \"1.19.0\", \"azureml-accel-models\": \"1.19.0\"}',\n  '_aml_system_scenario_identification': 'Local.Parent',\n  'ClientSdkVersion': '1.19.0',\n  'ClientType': 'SDK',\n  'environment_cpu_name': 'AzureML-AutoML',\n  'environment_cpu_label': 'prod',\n  'environment_gpu_name': 'AzureML-AutoML-GPU',\n  'environment_gpu_label': 'prod',\n  'root_attribution': 'automl',\n  'attribution': 'AutoML',\n  'Orchestrator': 'AutoML',\n  '_azureml.ComputeTargetType': 'local',\n  'ProblemInfoJsonString': '{\"dataset_num_categorical\": 0, \"is_sparse\": true, \"subsampling\": false, \"dataset_classes\": 2, \"dataset_features\": 1171, \"dataset_samples\": 91741, \"single_frequency_class_detected\": false}',\n  'feature_skus': 'automatedml_sdk_guardrails'},\n 'inputDatasets': [{'dataset': {'id': '96daab59-24cf-48e5-970b-92ecf027bded'}, 'consumptionDetails': {'type': 'RunInput', 'inputName': 'training_data', 'mechanism': 'Direct'}}],\n 'outputDatasets': [],\n 'logFiles': {}}"
          },
          "metadata": {}
        }
      ],
      "execution_count": 57,
      "metadata": {
        "gather": {
          "logged": 1611525640146
        },
        "jupyter": {
          "outputs_hidden": false,
          "source_hidden": false
        },
        "nteract": {
          "transient": {
            "deleting": false
          }
        }
      }
    },
    {
      "cell_type": "markdown",
      "source": [
        "## Best Model\n",
        "\n",
        "TODO: In the cell below, get the best model from the automl experiments and display all the properties of the model.\n",
        "\n"
      ],
      "metadata": {}
    },
    {
      "cell_type": "code",
      "source": [
        "# Retrieve and save your best automl model.\n",
        "best_automl_run, best_model = experiment_run.get_output()\n",
        "print(best_model._final_estimator)"
      ],
      "outputs": [
        {
          "output_type": "stream",
          "name": "stdout",
          "text": [
            "PreFittedSoftVotingClassifier(classification_labels=None,\n",
            "                              estimators=[('1',\n",
            "                                           Pipeline(memory=None,\n",
            "                                                    steps=[('maxabsscaler',\n",
            "                                                            MaxAbsScaler(copy=True)),\n",
            "                                                           ('xgboostclassifier',\n",
            "                                                            XGBoostClassifier(base_score=0.5,\n",
            "                                                                              booster='gbtree',\n",
            "                                                                              colsample_bylevel=1,\n",
            "                                                                              colsample_bynode=1,\n",
            "                                                                              colsample_bytree=1,\n",
            "                                                                              gamma=0,\n",
            "                                                                              learning_rate=0.1,\n",
            "                                                                              max_delta_step=0,\n",
            "                                                                              max_depth=3,\n",
            "                                                                              min_child_weight=1,\n",
            "                                                                              miss...\n",
            "                                                                                   min_samples_split=0.2442105263157895,\n",
            "                                                                                   min_weight_fraction_leaf=0.0,\n",
            "                                                                                   n_estimators=10,\n",
            "                                                                                   n_jobs=-1,\n",
            "                                                                                   oob_score=False,\n",
            "                                                                                   random_state=None,\n",
            "                                                                                   verbose=0,\n",
            "                                                                                   warm_start=False))],\n",
            "                                                    verbose=False))],\n",
            "                              flatten_transform=None,\n",
            "                              weights=[0.13333333333333333, 0.13333333333333333,\n",
            "                                       0.13333333333333333, 0.06666666666666667,\n",
            "                                       0.13333333333333333, 0.13333333333333333,\n",
            "                                       0.06666666666666667, 0.2])\n"
          ]
        }
      ],
      "execution_count": 58,
      "metadata": {
        "gather": {
          "logged": 1611525826831
        },
        "jupyter": {
          "outputs_hidden": false,
          "source_hidden": false
        },
        "nteract": {
          "transient": {
            "deleting": false
          }
        }
      }
    },
    {
      "cell_type": "markdown",
      "source": [
        "## Model Deployment\n",
        "\n",
        "Remember you have to deploy only one of the two models you trained.. Perform the steps in the rest of this notebook only if you wish to deploy this model.\n",
        "\n",
        "Register the model, create an inference config and deploy the model as a web service."
      ],
      "metadata": {}
    },
    {
      "cell_type": "code",
      "source": [
        "model = best_automl_run.register_model(model_name = \"best_run_automl.pkl\", model_path = './outputs/')\n",
        "model.download() "
      ],
      "outputs": [
        {
          "output_type": "execute_result",
          "execution_count": 59,
          "data": {
            "text/plain": "'outputs'"
          },
          "metadata": {}
        }
      ],
      "execution_count": 59,
      "metadata": {
        "gather": {
          "logged": 1611525865176
        },
        "jupyter": {
          "outputs_hidden": false,
          "source_hidden": false
        },
        "nteract": {
          "transient": {
            "deleting": false
          }
        }
      }
    },
    {
      "cell_type": "code",
      "source": [
        "aci_config = AciWebservice.deploy_configuration(cpu_cores=1, memory_gb=1)\n",
        "environment = Environment.from_conda_specification('my-automl-environment', './outputs/conda_env_v_1_0_0.yml')\n",
        "inference_config = InferenceConfig(entry_script='score.py', environment=environment)\n",
        "\n",
        "service = model.deploy(\n",
        "    workspace=ws,\n",
        "    name=\"automl-deploy-1\",\n",
        "    models=[model],\n",
        "    inference_config=inference_config,\n",
        "    deployment_config=aci_config,\n",
        "    overwrite=True\n",
        ")\n",
        "service.wait_for_deployment(show_output=True)"
      ],
      "outputs": [
        {
          "output_type": "stream",
          "name": "stdout",
          "text": [
            "Tips: You can try get_logs(): https://aka.ms/debugimage#dockerlog or local deployment: https://aka.ms/debugimage#debug-locally to debug if deployment takes longer than 10 minutes.\n",
            "Running....\n",
            "Succeeded\n",
            "ACI service creation operation finished, operation \"Succeeded\"\n"
          ]
        }
      ],
      "execution_count": 60,
      "metadata": {
        "collapsed": true,
        "jupyter": {
          "source_hidden": false,
          "outputs_hidden": false
        },
        "nteract": {
          "transient": {
            "deleting": false
          }
        },
        "gather": {
          "logged": 1611525894668
        }
      }
    },
    {
      "cell_type": "code",
      "source": [
        "service.update(enable_app_insights=True)"
      ],
      "outputs": [],
      "execution_count": 61,
      "metadata": {
        "collapsed": true,
        "jupyter": {
          "source_hidden": false,
          "outputs_hidden": false
        },
        "nteract": {
          "transient": {
            "deleting": false
          }
        },
        "gather": {
          "logged": 1611525953185
        }
      }
    },
    {
      "cell_type": "markdown",
      "source": [
        "In the cell below, send a request to the web service you deployed to test it. The field to predict is the last column.  "
      ],
      "metadata": {
        "collapsed": true,
        "gather": {
          "logged": 1598431657736
        },
        "jupyter": {
          "outputs_hidden": false,
          "source_hidden": false
        },
        "nteract": {
          "transient": {
            "deleting": false
          }
        }
      }
    },
    {
      "cell_type": "code",
      "source": [
        "ROW_ID = 0\n",
        "x = police_records.iloc[ROW_ID, :-1].to_dict()\n",
        "y = police_records.iloc[ROW_ID, -1]\n",
        "print(x)"
      ],
      "outputs": [
        {
          "output_type": "stream",
          "name": "stdout",
          "text": [
            "{'stop_date': '1/2/2005', 'stop_time': '1:55', 'county_name': 'NA', 'driver_gender': '1', 'driver_age': '20', 'driver_race': 'White', 'violation': 'Speeding', 'search_conducted': 'FALSE', 'search_type': 'NA', 'stop_outcome': 'Citation', 'is_arrested': 'FALSE', 'stop_duration': '0-15 Min'}\n"
          ]
        }
      ],
      "execution_count": 62,
      "metadata": {
        "collapsed": true,
        "jupyter": {
          "source_hidden": false,
          "outputs_hidden": false
        },
        "nteract": {
          "transient": {
            "deleting": false
          }
        },
        "gather": {
          "logged": 1611525958831
        }
      }
    },
    {
      "source": [
        "Convert the data to JASON and then submit it to the web service deployed. "
      ],
      "cell_type": "markdown",
      "metadata": {}
    },
    {
      "cell_type": "code",
      "source": [
        "import json\n",
        "import numpy as np\n",
        "input_payload = json.dumps({\n",
        "    'data': x\n",
        "})\n",
        "\n",
        "output = service.run(input_payload)\n",
        "print(f\"Predicted: {output}\\nExpected: {y}\")"
      ],
      "outputs": [
        {
          "output_type": "stream",
          "name": "stdout",
          "text": [
            "Predicted: ['FALSE']\n",
            "Expected: FALSE\n"
          ]
        }
      ],
      "execution_count": 63,
      "metadata": {
        "gather": {
          "logged": 1611525964157
        },
        "jupyter": {
          "outputs_hidden": false,
          "source_hidden": false
        },
        "nteract": {
          "transient": {
            "deleting": false
          }
        }
      }
    },
    {
      "cell_type": "markdown",
      "source": [
        "In the cell below, print the logs of the web service and delete the service"
      ],
      "metadata": {
        "collapsed": true,
        "gather": {
          "logged": 1598432765711
        },
        "jupyter": {
          "outputs_hidden": false,
          "source_hidden": false
        },
        "nteract": {
          "transient": {
            "deleting": false
          }
        }
      }
    },
    {
      "cell_type": "code",
      "source": [
        "logs = service.get_logs()\n",
        "print(logs)\n",
        "service.delete()"
      ],
      "outputs": [
        {
          "output_type": "stream",
          "name": "stdout",
          "text": [
            "/usr/sbin/nginx: /azureml-envs/azureml_9c539d20199ae6be65c41c0382029684/lib/libcrypto.so.1.0.0: no version information available (required by /usr/sbin/nginx)\n",
            "/usr/sbin/nginx: /azureml-envs/azureml_9c539d20199ae6be65c41c0382029684/lib/libcrypto.so.1.0.0: no version information available (required by /usr/sbin/nginx)\n",
            "/usr/sbin/nginx: /azureml-envs/azureml_9c539d20199ae6be65c41c0382029684/lib/libssl.so.1.0.0: no version information available (required by /usr/sbin/nginx)\n",
            "/usr/sbin/nginx: /azureml-envs/azureml_9c539d20199ae6be65c41c0382029684/lib/libssl.so.1.0.0: no version information available (required by /usr/sbin/nginx)\n",
            "/usr/sbin/nginx: /azureml-envs/azureml_9c539d20199ae6be65c41c0382029684/lib/libssl.so.1.0.0: no version information available (required by /usr/sbin/nginx)\n",
            "2021-01-24T22:05:59,374435233+00:00 - iot-server/run \n",
            "2021-01-24T22:05:59,374747136+00:00 - gunicorn/run \n",
            "2021-01-24T22:05:59,376312853+00:00 - nginx/run \n",
            "2021-01-24T22:05:59,379499686+00:00 - rsyslog/run \n",
            "rsyslogd: /azureml-envs/azureml_9c539d20199ae6be65c41c0382029684/lib/libuuid.so.1: no version information available (required by rsyslogd)\n",
            "EdgeHubConnectionString and IOTEDGE_IOTHUBHOSTNAME are not set. Exiting...\n",
            "2021-01-24T22:05:59,523501492+00:00 - iot-server/finish 1 0\n",
            "2021-01-24T22:05:59,525949017+00:00 - Exit code 1 is normal. Not restarting iot-server.\n",
            "Starting gunicorn 19.9.0\n",
            "Listening at: http://127.0.0.1:31311 (14)\n",
            "Using worker: sync\n",
            "worker timeout is set to 300\n",
            "Booting worker with pid: 42\n",
            "SPARK_HOME not set. Skipping PySpark Initialization.\n",
            "Generating new fontManager, this may take some time...\n",
            "Initializing logger\n",
            "2021-01-24 22:06:01,603 | root | INFO | Starting up app insights client\n",
            "Starting up app insights client\n",
            "2021-01-24 22:06:01,603 | root | INFO | Starting up request id generator\n",
            "Starting up request id generator\n",
            "2021-01-24 22:06:01,603 | root | INFO | Starting up app insight hooks\n",
            "Starting up app insight hooks\n",
            "2021-01-24 22:06:01,603 | root | INFO | Invoking user's init function\n",
            "Invoking user's init function\n",
            "model initialized22:06:01\n",
            "/azureml-envs/azureml_9c539d20199ae6be65c41c0382029684/lib/python3.6/site-packages/sklearn/externals/joblib/__init__.py:15: FutureWarning: sklearn.externals.joblib is deprecated in 0.21 and will be removed in 0.23. Please import this functionality directly from joblib, which can be installed with: pip install joblib. If this warning is raised when loading pickled models, you may need to re-serialize those models with scikit-learn 0.21+.\n",
            "  warnings.warn(msg, category=FutureWarning)\n",
            "2021-01-24 22:06:02,544 | root | INFO | Users's init has completed successfully\n",
            "Users's init has completed successfully\n",
            "2021-01-24 22:06:02,622 | root | INFO | Skipping middleware: dbg_model_info as it's not enabled.\n",
            "Skipping middleware: dbg_model_info as it's not enabled.\n",
            "2021-01-24 22:06:02,622 | root | INFO | Skipping middleware: dbg_resource_usage as it's not enabled.\n",
            "Skipping middleware: dbg_resource_usage as it's not enabled.\n",
            "2021-01-24 22:06:02,624 | root | INFO | Scoring timeout is found from os.environ: 60000 ms\n",
            "Scoring timeout is found from os.environ: 60000 ms\n",
            "2021-01-24 22:06:04,085 | root | INFO | Validation Request Content-Type\n",
            "Validation Request Content-Type\n",
            "2021-01-24 22:06:04,086 | root | INFO | \tHost: localhost:5001\n",
            "\tHost: localhost:5001\n",
            "2021-01-24 22:06:04,086 | root | INFO | \tX-Real-Ip: 127.0.0.1\n",
            "\tX-Real-Ip: 127.0.0.1\n",
            "2021-01-24 22:06:04,086 | root | INFO | \tX-Forwarded-For: 127.0.0.1\n",
            "\tX-Forwarded-For: 127.0.0.1\n",
            "2021-01-24 22:06:04,086 | root | INFO | \tX-Forwarded-Proto: http\n",
            "\tX-Forwarded-Proto: http\n",
            "2021-01-24 22:06:04,086 | root | INFO | \tConnection: close\n",
            "\tConnection: close\n",
            "2021-01-24 22:06:04,086 | root | INFO | \tContent-Length: 299\n",
            "\tContent-Length: 299\n",
            "2021-01-24 22:06:04,086 | root | INFO | \tUser-Agent: python-requests/2.25.0\n",
            "\tUser-Agent: python-requests/2.25.0\n",
            "2021-01-24 22:06:04,086 | root | INFO | \tAccept: application/json\n",
            "\tAccept: application/json\n",
            "2021-01-24 22:06:04,087 | root | INFO | \tAccept-Encoding: gzip, deflate\n",
            "\tAccept-Encoding: gzip, deflate\n",
            "2021-01-24 22:06:04,087 | root | INFO | \tContent-Type: application/json\n",
            "\tContent-Type: application/json\n",
            "2021-01-24 22:06:04,087 | root | INFO | \tX-Ms-Request-Id: 3fd4d9ad-ec36-4869-8a86-7b0fd9a25b00\n",
            "\tX-Ms-Request-Id: 3fd4d9ad-ec36-4869-8a86-7b0fd9a25b00\n",
            "2021-01-24 22:06:04,087 | root | INFO | Scoring Timer is set to 60.0 seconds\n",
            "Scoring Timer is set to 60.0 seconds\n",
            "{\"input\": {\"data\": {\"stop_date\": \"1/2/2005\", \"stop_time\": \"1:55\", \"county_name\": \"NA\", \"driver_gender\": \"1\", \"driver_age\": \"20\", \"driver_race\": \"White\", \"violation\": \"Speeding\", \"search_conducted\": \"FALSE\", \"search_type\": \"NA\", \"stop_outcome\": \"Citation\", \"is_arrested\": \"FALSE\", \"stop_duration\": \"0-15 Min\"}}, \"output\": [\"FALSE\"]}\n",
            "2021-01-24 22:06:04,136 | root | INFO | 200\n",
            "200\n",
            "127.0.0.1 - - [24/Jan/2021:22:06:04 +0000] \"POST /score HTTP/1.0\" 200 9 \"-\" \"python-requests/2.25.0\"\n",
            "2021-01-24 22:06:04,820 | root | INFO | Swagger file not present\n",
            "Swagger file not present\n",
            "2021-01-24 22:06:04,820 | root | INFO | 404\n",
            "404\n",
            "127.0.0.1 - - [24/Jan/2021:22:06:04 +0000] \"GET /swagger.json HTTP/1.0\" 404 19 \"-\" \"Go-http-client/1.1\"\n",
            "\n"
          ]
        }
      ],
      "execution_count": 64,
      "metadata": {
        "jupyter": {
          "outputs_hidden": false,
          "source_hidden": false
        },
        "nteract": {
          "transient": {
            "deleting": false
          }
        },
        "gather": {
          "logged": 1611525971947
        }
      }
    }
  ],
  "metadata": {
    "kernel_info": {
      "name": "python3-azureml"
    },
    "kernelspec": {
      "name": "python3-azureml",
      "language": "python",
      "display_name": "Python 3.6 - AzureML"
    },
    "language_info": {
      "name": "python",
      "version": "3.6.9",
      "mimetype": "text/x-python",
      "codemirror_mode": {
        "name": "ipython",
        "version": 3
      },
      "pygments_lexer": "ipython3",
      "nbconvert_exporter": "python",
      "file_extension": ".py"
    },
    "nteract": {
      "version": "nteract-front-end@1.0.0"
    }
  },
  "nbformat": 4,
  "nbformat_minor": 2
}