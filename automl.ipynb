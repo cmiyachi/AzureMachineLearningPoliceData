{
  "cells": [
    {
      "cell_type": "markdown",
      "source": [
        "# Automated ML\n",
        "\n",
        "Import Dependencies. In the cell below, import all the dependencies."
      ],
      "metadata": {}
    },
    {
      "cell_type": "code",
      "source": [
        "# from the examples done in the class - eliminated things by trial and error\n",
        "from azureml.core import Dataset, Environment, Experiment, Workspace\n",
        "from azureml.core.conda_dependencies import CondaDependencies\n",
        "from azureml.core.model import InferenceConfig\n",
        "from azureml.core.webservice import AciWebservice\n",
        "from azureml.train.automl import AutoMLConfig\n",
        "from azureml.widgets import RunDetails\n",
        "\n",
        "# needed for the logging\n",
        "import sklearn"
      ],
      "outputs": [],
      "execution_count": 1,
      "metadata": {
        "gather": {
          "logged": 1611961682865
        },
        "jupyter": {
          "outputs_hidden": false,
          "source_hidden": false
        },
        "nteract": {
          "transient": {
            "deleting": false
          }
        }
      }
    },
    {
      "cell_type": "markdown",
      "source": [
        "## Dataset\n",
        "\n",
        "### Overview\n",
        "The data set the Standford Policing Project - data about traffic stops and the result of those stops. From the Kaggle web site:   https://www.kaggle.com/faressayah/stanford-open-policing-project.\n",
        "\n",
        "The model will look to predice whether a stop will result in finding drug and thus a drug arrest. \n",
        "\n",
        "This cell below will load the data.  "
      ],
      "metadata": {}
    },
    {
      "cell_type": "code",
      "source": [
        "ws = Workspace.from_config()\n",
        "\n",
        "# choose a name for experiment\n",
        "experiment_name = 'automlExperiment'\n",
        "\n",
        "experiment=Experiment(ws, experiment_name)"
      ],
      "outputs": [],
      "execution_count": 2,
      "metadata": {
        "gather": {
          "logged": 1611961694938
        },
        "jupyter": {
          "outputs_hidden": false,
          "source_hidden": false
        },
        "nteract": {
          "transient": {
            "deleting": false
          }
        }
      }
    },
    {
      "cell_type": "markdown",
      "source": [
        "Make sure the data is correct by printing it out to the screen. "
      ],
      "metadata": {}
    },
    {
      "cell_type": "code",
      "source": [
        "# create a TabularDataset from a dataset\n",
        "\n",
        "dataset = Dataset.get_by_name(ws, name='police_project')\n",
        "police_records = dataset.to_pandas_dataframe()\n",
        "\n",
        "# preview the first 3 rows of the dataset\n",
        "police_records.head(10)"
      ],
      "outputs": [
        {
          "output_type": "execute_result",
          "execution_count": 3,
          "data": {
            "text/plain": "   stop_date stop_time county_name driver_gender driver_age driver_race  \\\n0   1/2/2005      1:55          NA             1         20       White   \n1  1/18/2005      8:15          NA             1         40       White   \n2  1/23/2005     23:15          NA             1         33       White   \n3  2/20/2005     17:15          NA             1         19       White   \n4  3/14/2005     10:00          NA             0         21       White   \n5  3/23/2005      9:45          NA             1         23       Black   \n6   4/1/2005     17:30          NA             1         36       White   \n7   6/6/2005     13:20          NA             0         19       White   \n8  7/13/2005     10:15          NA             1         35       Black   \n9  7/13/2005     15:45          NA             1         35       White   \n\n   violation search_conducted search_type   stop_outcome is_arrested  \\\n0   Speeding            FALSE          NA       Citation       FALSE   \n1   Speeding            FALSE          NA       Citation       FALSE   \n2   Speeding            FALSE          NA       Citation       FALSE   \n3      Other            FALSE          NA  Arrest Driver        TRUE   \n4   Speeding            FALSE          NA       Citation       FALSE   \n5  Equipment            FALSE          NA       Citation       FALSE   \n6   Speeding            FALSE          NA       Citation       FALSE   \n7   Speeding            FALSE          NA       Citation       FALSE   \n8   Speeding            FALSE          NA       Citation       FALSE   \n9   Speeding            FALSE          NA       Citation       FALSE   \n\n  stop_duration drugs_related_stop  \n0      0-15 Min              FALSE  \n1      0-15 Min              FALSE  \n2      0-15 Min              FALSE  \n3     16-30 Min              FALSE  \n4      0-15 Min              FALSE  \n5      0-15 Min              FALSE  \n6      0-15 Min              FALSE  \n7      0-15 Min              FALSE  \n8      0-15 Min              FALSE  \n9      0-15 Min              FALSE  ",
            "text/html": "<div>\n<style scoped>\n    .dataframe tbody tr th:only-of-type {\n        vertical-align: middle;\n    }\n\n    .dataframe tbody tr th {\n        vertical-align: top;\n    }\n\n    .dataframe thead th {\n        text-align: right;\n    }\n</style>\n<table border=\"1\" class=\"dataframe\">\n  <thead>\n    <tr style=\"text-align: right;\">\n      <th></th>\n      <th>stop_date</th>\n      <th>stop_time</th>\n      <th>county_name</th>\n      <th>driver_gender</th>\n      <th>driver_age</th>\n      <th>driver_race</th>\n      <th>violation</th>\n      <th>search_conducted</th>\n      <th>search_type</th>\n      <th>stop_outcome</th>\n      <th>is_arrested</th>\n      <th>stop_duration</th>\n      <th>drugs_related_stop</th>\n    </tr>\n  </thead>\n  <tbody>\n    <tr>\n      <th>0</th>\n      <td>1/2/2005</td>\n      <td>1:55</td>\n      <td>NA</td>\n      <td>1</td>\n      <td>20</td>\n      <td>White</td>\n      <td>Speeding</td>\n      <td>FALSE</td>\n      <td>NA</td>\n      <td>Citation</td>\n      <td>FALSE</td>\n      <td>0-15 Min</td>\n      <td>FALSE</td>\n    </tr>\n    <tr>\n      <th>1</th>\n      <td>1/18/2005</td>\n      <td>8:15</td>\n      <td>NA</td>\n      <td>1</td>\n      <td>40</td>\n      <td>White</td>\n      <td>Speeding</td>\n      <td>FALSE</td>\n      <td>NA</td>\n      <td>Citation</td>\n      <td>FALSE</td>\n      <td>0-15 Min</td>\n      <td>FALSE</td>\n    </tr>\n    <tr>\n      <th>2</th>\n      <td>1/23/2005</td>\n      <td>23:15</td>\n      <td>NA</td>\n      <td>1</td>\n      <td>33</td>\n      <td>White</td>\n      <td>Speeding</td>\n      <td>FALSE</td>\n      <td>NA</td>\n      <td>Citation</td>\n      <td>FALSE</td>\n      <td>0-15 Min</td>\n      <td>FALSE</td>\n    </tr>\n    <tr>\n      <th>3</th>\n      <td>2/20/2005</td>\n      <td>17:15</td>\n      <td>NA</td>\n      <td>1</td>\n      <td>19</td>\n      <td>White</td>\n      <td>Other</td>\n      <td>FALSE</td>\n      <td>NA</td>\n      <td>Arrest Driver</td>\n      <td>TRUE</td>\n      <td>16-30 Min</td>\n      <td>FALSE</td>\n    </tr>\n    <tr>\n      <th>4</th>\n      <td>3/14/2005</td>\n      <td>10:00</td>\n      <td>NA</td>\n      <td>0</td>\n      <td>21</td>\n      <td>White</td>\n      <td>Speeding</td>\n      <td>FALSE</td>\n      <td>NA</td>\n      <td>Citation</td>\n      <td>FALSE</td>\n      <td>0-15 Min</td>\n      <td>FALSE</td>\n    </tr>\n    <tr>\n      <th>5</th>\n      <td>3/23/2005</td>\n      <td>9:45</td>\n      <td>NA</td>\n      <td>1</td>\n      <td>23</td>\n      <td>Black</td>\n      <td>Equipment</td>\n      <td>FALSE</td>\n      <td>NA</td>\n      <td>Citation</td>\n      <td>FALSE</td>\n      <td>0-15 Min</td>\n      <td>FALSE</td>\n    </tr>\n    <tr>\n      <th>6</th>\n      <td>4/1/2005</td>\n      <td>17:30</td>\n      <td>NA</td>\n      <td>1</td>\n      <td>36</td>\n      <td>White</td>\n      <td>Speeding</td>\n      <td>FALSE</td>\n      <td>NA</td>\n      <td>Citation</td>\n      <td>FALSE</td>\n      <td>0-15 Min</td>\n      <td>FALSE</td>\n    </tr>\n    <tr>\n      <th>7</th>\n      <td>6/6/2005</td>\n      <td>13:20</td>\n      <td>NA</td>\n      <td>0</td>\n      <td>19</td>\n      <td>White</td>\n      <td>Speeding</td>\n      <td>FALSE</td>\n      <td>NA</td>\n      <td>Citation</td>\n      <td>FALSE</td>\n      <td>0-15 Min</td>\n      <td>FALSE</td>\n    </tr>\n    <tr>\n      <th>8</th>\n      <td>7/13/2005</td>\n      <td>10:15</td>\n      <td>NA</td>\n      <td>1</td>\n      <td>35</td>\n      <td>Black</td>\n      <td>Speeding</td>\n      <td>FALSE</td>\n      <td>NA</td>\n      <td>Citation</td>\n      <td>FALSE</td>\n      <td>0-15 Min</td>\n      <td>FALSE</td>\n    </tr>\n    <tr>\n      <th>9</th>\n      <td>7/13/2005</td>\n      <td>15:45</td>\n      <td>NA</td>\n      <td>1</td>\n      <td>35</td>\n      <td>White</td>\n      <td>Speeding</td>\n      <td>FALSE</td>\n      <td>NA</td>\n      <td>Citation</td>\n      <td>FALSE</td>\n      <td>0-15 Min</td>\n      <td>FALSE</td>\n    </tr>\n  </tbody>\n</table>\n</div>"
          },
          "metadata": {}
        }
      ],
      "execution_count": 3,
      "metadata": {
        "collapsed": true,
        "jupyter": {
          "source_hidden": false,
          "outputs_hidden": false
        },
        "nteract": {
          "transient": {
            "deleting": false
          }
        },
        "gather": {
          "logged": 1611961708748
        }
      }
    },
    {
      "cell_type": "markdown",
      "source": [
        "## AutoML Configuration\n",
        "\n",
        "AutoML using many machine learning methods to determine the best mode. The settings set up AutoML to find the best classification model based on accuracy. \n",
        "\n"
      ],
      "metadata": {}
    },
    {
      "cell_type": "code",
      "source": [
        "automl_settings = {\n",
        "    \"task\": 'classification',\n",
        "    \"iterations\": 30,\n",
        "    \"experiment_timeout_minutes\": 15,\n",
        "    \"primary_metric\": 'accuracy',\n",
        "    \"training_data\": dataset,\n",
        "    \"label_column_name\": 'drugs_related_stop',\n",
        "    \"n_cross_validations\": 3,\n",
        "    \"max_concurrent_iterations\": 8,\n",
        "    \"max_cores_per_iteration\": -1,\n",
        "    \"debug_log\" : \"automl_errors.log\"\n",
        "}\n",
        "\n",
        "# TODO: Put your automl config here\n",
        "automl_config = AutoMLConfig(**automl_settings)"
      ],
      "outputs": [],
      "execution_count": 4,
      "metadata": {
        "gather": {
          "logged": 1611961713427
        },
        "jupyter": {
          "outputs_hidden": false,
          "source_hidden": false
        },
        "nteract": {
          "transient": {
            "deleting": false
          }
        }
      }
    },
    {
      "cell_type": "markdown",
      "source": [
        "## Run Details\n",
        "\n",
        "\n",
        "Use the `RunDetails` widget to show the different experiments."
      ],
      "metadata": {}
    },
    {
      "cell_type": "code",
      "source": [
        "#  Submit your experiment\n",
        "experiment_run = experiment.submit(automl_config)\n",
        "RunDetails(experiment_run).show()\n"
      ],
      "outputs": [
        {
          "output_type": "stream",
          "name": "stderr",
          "text": [
            "WARNING:root:Running on local machine. Note that local runs always run synchronously even if you use the parameter 'show_output=False'\n"
          ]
        },
        {
          "output_type": "display_data",
          "data": {
            "text/plain": "_AutoMLWidget(widget_settings={'childWidgetDisplay': 'popup', 'send_telemetry': False, 'log_level': 'INFO', 's…",
            "application/vnd.jupyter.widget-view+json": {
              "version_major": 2,
              "version_minor": 0,
              "model_id": "13adefac97da4e26bc8a00baa693ae7c"
            }
          },
          "metadata": {}
        },
        {
          "output_type": "display_data",
          "data": {
            "application/aml.mini.widget.v1": "{\"status\": \"Completed\", \"workbench_run_details_uri\": \"https://ml.azure.com/experiments/automlExperiment/runs/AutoML_9cd16b49-bdbb-4146-b318-16de190d5c6f?wsid=/subscriptions/091ee12e-98ac-4172-b48e-fa981b519954/resourcegroups/MiyachiGroup/workspaces/Udacity\", \"run_id\": \"AutoML_9cd16b49-bdbb-4146-b318-16de190d5c6f\", \"run_properties\": {\"run_id\": \"AutoML_9cd16b49-bdbb-4146-b318-16de190d5c6f\", \"created_utc\": \"2021-01-29T23:09:10.612419Z\", \"properties\": {\"num_iterations\": \"30\", \"training_type\": \"TrainFull\", \"acquisition_function\": \"EI\", \"primary_metric\": \"accuracy\", \"train_split\": \"0\", \"acquisition_parameter\": \"0\", \"num_cross_validation\": \"3\", \"target\": \"local\", \"AMLSettingsJsonString\": \"{\\\"path\\\":null,\\\"name\\\":\\\"automlExperiment\\\",\\\"subscription_id\\\":\\\"091ee12e-98ac-4172-b48e-fa981b519954\\\",\\\"resource_group\\\":\\\"MiyachiGroup\\\",\\\"workspace_name\\\":\\\"Udacity\\\",\\\"region\\\":\\\"westus\\\",\\\"compute_target\\\":\\\"local\\\",\\\"spark_service\\\":null,\\\"azure_service\\\":\\\"Microsoft.AzureNotebookVM\\\",\\\"many_models\\\":false,\\\"pipeline_fetch_max_batch_size\\\":1,\\\"iterations\\\":30,\\\"primary_metric\\\":\\\"accuracy\\\",\\\"task_type\\\":\\\"classification\\\",\\\"data_script\\\":null,\\\"validation_size\\\":0.0,\\\"n_cross_validations\\\":3,\\\"y_min\\\":null,\\\"y_max\\\":null,\\\"num_classes\\\":2,\\\"featurization\\\":\\\"auto\\\",\\\"_ignore_package_version_incompatibilities\\\":false,\\\"is_timeseries\\\":false,\\\"max_cores_per_iteration\\\":-1,\\\"max_concurrent_iterations\\\":8,\\\"iteration_timeout_minutes\\\":null,\\\"mem_in_mb\\\":null,\\\"enforce_time_on_windows\\\":false,\\\"experiment_timeout_minutes\\\":15,\\\"experiment_exit_score\\\":null,\\\"whitelist_models\\\":null,\\\"blacklist_algos\\\":[\\\"TensorFlowLinearClassifier\\\",\\\"TensorFlowDNN\\\"],\\\"supported_models\\\":[\\\"GradientBoosting\\\",\\\"LinearSVM\\\",\\\"XGBoostClassifier\\\",\\\"KNN\\\",\\\"RandomForest\\\",\\\"LogisticRegression\\\",\\\"TensorFlowLinearClassifier\\\",\\\"DecisionTree\\\",\\\"ExtremeRandomTrees\\\",\\\"SGD\\\",\\\"AveragedPerceptronClassifier\\\",\\\"LightGBM\\\",\\\"TensorFlowDNN\\\",\\\"MultinomialNaiveBayes\\\",\\\"SVM\\\",\\\"BernoulliNaiveBayes\\\"],\\\"auto_blacklist\\\":true,\\\"blacklist_samples_reached\\\":false,\\\"exclude_nan_labels\\\":true,\\\"verbosity\\\":20,\\\"_debug_log\\\":\\\"automl_errors.log\\\",\\\"show_warnings\\\":false,\\\"model_explainability\\\":true,\\\"service_url\\\":null,\\\"sdk_url\\\":null,\\\"sdk_packages\\\":null,\\\"enable_onnx_compatible_models\\\":false,\\\"enable_split_onnx_featurizer_estimator_models\\\":false,\\\"vm_type\\\":null,\\\"telemetry_verbosity\\\":20,\\\"send_telemetry\\\":true,\\\"enable_dnn\\\":false,\\\"scenario\\\":\\\"SDK-1.13.0\\\",\\\"environment_label\\\":null,\\\"force_text_dnn\\\":false,\\\"enable_feature_sweeping\\\":true,\\\"enable_early_stopping\\\":false,\\\"early_stopping_n_iters\\\":10,\\\"metrics\\\":null,\\\"enable_ensembling\\\":true,\\\"enable_stack_ensembling\\\":true,\\\"ensemble_iterations\\\":15,\\\"enable_tf\\\":false,\\\"enable_subsampling\\\":false,\\\"subsample_seed\\\":null,\\\"enable_nimbusml\\\":false,\\\"enable_streaming\\\":false,\\\"force_streaming\\\":false,\\\"track_child_runs\\\":true,\\\"allowed_private_models\\\":[],\\\"label_column_name\\\":\\\"drugs_related_stop\\\",\\\"weight_column_name\\\":null,\\\"cv_split_column_names\\\":null,\\\"enable_local_managed\\\":false,\\\"_local_managed_run_id\\\":null,\\\"cost_mode\\\":1,\\\"lag_length\\\":0,\\\"metric_operation\\\":\\\"maximize\\\",\\\"preprocess\\\":true}\", \"DataPrepJsonString\": \"{\\\\\\\"training_data\\\\\\\": \\\\\\\"{\\\\\\\\\\\\\\\"blocks\\\\\\\\\\\\\\\": [{\\\\\\\\\\\\\\\"id\\\\\\\\\\\\\\\": \\\\\\\\\\\\\\\"8b387421-b719-47a1-9db3-1d032eb60021\\\\\\\\\\\\\\\", \\\\\\\\\\\\\\\"type\\\\\\\\\\\\\\\": \\\\\\\\\\\\\\\"Microsoft.DPrep.GetDatastoreFilesBlock\\\\\\\\\\\\\\\", \\\\\\\\\\\\\\\"arguments\\\\\\\\\\\\\\\": {\\\\\\\\\\\\\\\"datastores\\\\\\\\\\\\\\\": [{\\\\\\\\\\\\\\\"datastoreName\\\\\\\\\\\\\\\": \\\\\\\\\\\\\\\"workspaceblobstore\\\\\\\\\\\\\\\", \\\\\\\\\\\\\\\"path\\\\\\\\\\\\\\\": \\\\\\\\\\\\\\\"UI/01-24-2021_104423_UTC/police_project.csv\\\\\\\\\\\\\\\", \\\\\\\\\\\\\\\"resourceGroup\\\\\\\\\\\\\\\": \\\\\\\\\\\\\\\"MiyachiGroup\\\\\\\\\\\\\\\", \\\\\\\\\\\\\\\"subscription\\\\\\\\\\\\\\\": \\\\\\\\\\\\\\\"091ee12e-98ac-4172-b48e-fa981b519954\\\\\\\\\\\\\\\", \\\\\\\\\\\\\\\"workspaceName\\\\\\\\\\\\\\\": \\\\\\\\\\\\\\\"Udacity\\\\\\\\\\\\\\\"}]}, \\\\\\\\\\\\\\\"localData\\\\\\\\\\\\\\\": {}, \\\\\\\\\\\\\\\"isEnabled\\\\\\\\\\\\\\\": true, \\\\\\\\\\\\\\\"name\\\\\\\\\\\\\\\": null, \\\\\\\\\\\\\\\"annotation\\\\\\\\\\\\\\\": null}, {\\\\\\\\\\\\\\\"id\\\\\\\\\\\\\\\": \\\\\\\\\\\\\\\"aa3be5c6-5c1b-4015-a8b9-cbf079326915\\\\\\\\\\\\\\\", \\\\\\\\\\\\\\\"type\\\\\\\\\\\\\\\": \\\\\\\\\\\\\\\"Microsoft.DPrep.ParseDelimitedBlock\\\\\\\\\\\\\\\", \\\\\\\\\\\\\\\"arguments\\\\\\\\\\\\\\\": {\\\\\\\\\\\\\\\"columnHeadersMode\\\\\\\\\\\\\\\": 1, \\\\\\\\\\\\\\\"fileEncoding\\\\\\\\\\\\\\\": 0, \\\\\\\\\\\\\\\"handleQuotedLineBreaks\\\\\\\\\\\\\\\": false, \\\\\\\\\\\\\\\"preview\\\\\\\\\\\\\\\": false, \\\\\\\\\\\\\\\"separator\\\\\\\\\\\\\\\": \\\\\\\\\\\\\\\",\\\\\\\\\\\\\\\", \\\\\\\\\\\\\\\"skipRows\\\\\\\\\\\\\\\": 0, \\\\\\\\\\\\\\\"skipRowsMode\\\\\\\\\\\\\\\": 0}, \\\\\\\\\\\\\\\"localData\\\\\\\\\\\\\\\": {}, \\\\\\\\\\\\\\\"isEnabled\\\\\\\\\\\\\\\": true, \\\\\\\\\\\\\\\"name\\\\\\\\\\\\\\\": null, \\\\\\\\\\\\\\\"annotation\\\\\\\\\\\\\\\": null}, {\\\\\\\\\\\\\\\"id\\\\\\\\\\\\\\\": \\\\\\\\\\\\\\\"96501f31-e034-4116-9474-1c1bd6b6c4d7\\\\\\\\\\\\\\\", \\\\\\\\\\\\\\\"type\\\\\\\\\\\\\\\": \\\\\\\\\\\\\\\"Microsoft.DPrep.DropColumnsBlock\\\\\\\\\\\\\\\", \\\\\\\\\\\\\\\"arguments\\\\\\\\\\\\\\\": {\\\\\\\\\\\\\\\"columns\\\\\\\\\\\\\\\": {\\\\\\\\\\\\\\\"type\\\\\\\\\\\\\\\": 0, \\\\\\\\\\\\\\\"details\\\\\\\\\\\\\\\": {\\\\\\\\\\\\\\\"selectedColumns\\\\\\\\\\\\\\\": [\\\\\\\\\\\\\\\"Path\\\\\\\\\\\\\\\"]}}}, \\\\\\\\\\\\\\\"localData\\\\\\\\\\\\\\\": {}, \\\\\\\\\\\\\\\"isEnabled\\\\\\\\\\\\\\\": true, \\\\\\\\\\\\\\\"name\\\\\\\\\\\\\\\": null, \\\\\\\\\\\\\\\"annotation\\\\\\\\\\\\\\\": null}, {\\\\\\\\\\\\\\\"id\\\\\\\\\\\\\\\": \\\\\\\\\\\\\\\"d0883fba-66aa-43f7-bc76-14d2cd008171\\\\\\\\\\\\\\\", \\\\\\\\\\\\\\\"type\\\\\\\\\\\\\\\": \\\\\\\\\\\\\\\"Microsoft.DPrep.SetColumnTypesBlock\\\\\\\\\\\\\\\", \\\\\\\\\\\\\\\"arguments\\\\\\\\\\\\\\\": {\\\\\\\\\\\\\\\"columnConversion\\\\\\\\\\\\\\\": [{\\\\\\\\\\\\\\\"column\\\\\\\\\\\\\\\": {\\\\\\\\\\\\\\\"type\\\\\\\\\\\\\\\": 2, \\\\\\\\\\\\\\\"details\\\\\\\\\\\\\\\": {\\\\\\\\\\\\\\\"selectedColumn\\\\\\\\\\\\\\\": \\\\\\\\\\\\\\\"Path\\\\\\\\\\\\\\\"}}, \\\\\\\\\\\\\\\"typeProperty\\\\\\\\\\\\\\\": 0}, {\\\\\\\\\\\\\\\"column\\\\\\\\\\\\\\\": {\\\\\\\\\\\\\\\"type\\\\\\\\\\\\\\\": 2, \\\\\\\\\\\\\\\"details\\\\\\\\\\\\\\\": {\\\\\\\\\\\\\\\"selectedColumn\\\\\\\\\\\\\\\": \\\\\\\\\\\\\\\"stop_date\\\\\\\\\\\\\\\"}}, \\\\\\\\\\\\\\\"typeArguments\\\\\\\\\\\\\\\": {\\\\\\\\\\\\\\\"dateTimeFormats\\\\\\\\\\\\\\\": [\\\\\\\\\\\\\\\"%m/%d/%Y\\\\\\\\\\\\\\\"]}, \\\\\\\\\\\\\\\"typeProperty\\\\\\\\\\\\\\\": 0}, {\\\\\\\\\\\\\\\"column\\\\\\\\\\\\\\\": {\\\\\\\\\\\\\\\"type\\\\\\\\\\\\\\\": 2, \\\\\\\\\\\\\\\"details\\\\\\\\\\\\\\\": {\\\\\\\\\\\\\\\"selectedColumn\\\\\\\\\\\\\\\": \\\\\\\\\\\\\\\"stop_time\\\\\\\\\\\\\\\"}}, \\\\\\\\\\\\\\\"typeProperty\\\\\\\\\\\\\\\": 0}, {\\\\\\\\\\\\\\\"column\\\\\\\\\\\\\\\": {\\\\\\\\\\\\\\\"type\\\\\\\\\\\\\\\": 2, \\\\\\\\\\\\\\\"details\\\\\\\\\\\\\\\": {\\\\\\\\\\\\\\\"selectedColumn\\\\\\\\\\\\\\\": \\\\\\\\\\\\\\\"county_name\\\\\\\\\\\\\\\"}}, \\\\\\\\\\\\\\\"typeProperty\\\\\\\\\\\\\\\": 0}, {\\\\\\\\\\\\\\\"column\\\\\\\\\\\\\\\": {\\\\\\\\\\\\\\\"type\\\\\\\\\\\\\\\": 2, \\\\\\\\\\\\\\\"details\\\\\\\\\\\\\\\": {\\\\\\\\\\\\\\\"selectedColumn\\\\\\\\\\\\\\\": \\\\\\\\\\\\\\\"driver_gender\\\\\\\\\\\\\\\"}}, \\\\\\\\\\\\\\\"typeProperty\\\\\\\\\\\\\\\": 0}, {\\\\\\\\\\\\\\\"column\\\\\\\\\\\\\\\": {\\\\\\\\\\\\\\\"type\\\\\\\\\\\\\\\": 2, \\\\\\\\\\\\\\\"details\\\\\\\\\\\\\\\": {\\\\\\\\\\\\\\\"selectedColumn\\\\\\\\\\\\\\\": \\\\\\\\\\\\\\\"driver_age\\\\\\\\\\\\\\\"}}, \\\\\\\\\\\\\\\"typeProperty\\\\\\\\\\\\\\\": 0}, {\\\\\\\\\\\\\\\"column\\\\\\\\\\\\\\\": {\\\\\\\\\\\\\\\"type\\\\\\\\\\\\\\\": 2, \\\\\\\\\\\\\\\"details\\\\\\\\\\\\\\\": {\\\\\\\\\\\\\\\"selectedColumn\\\\\\\\\\\\\\\": \\\\\\\\\\\\\\\"driver_race\\\\\\\\\\\\\\\"}}, \\\\\\\\\\\\\\\"typeProperty\\\\\\\\\\\\\\\": 0}, {\\\\\\\\\\\\\\\"column\\\\\\\\\\\\\\\": {\\\\\\\\\\\\\\\"type\\\\\\\\\\\\\\\": 2, \\\\\\\\\\\\\\\"details\\\\\\\\\\\\\\\": {\\\\\\\\\\\\\\\"selectedColumn\\\\\\\\\\\\\\\": \\\\\\\\\\\\\\\"violation\\\\\\\\\\\\\\\"}}, \\\\\\\\\\\\\\\"typeProperty\\\\\\\\\\\\\\\": 0}, {\\\\\\\\\\\\\\\"column\\\\\\\\\\\\\\\": {\\\\\\\\\\\\\\\"type\\\\\\\\\\\\\\\": 2, \\\\\\\\\\\\\\\"details\\\\\\\\\\\\\\\": {\\\\\\\\\\\\\\\"selectedColumn\\\\\\\\\\\\\\\": \\\\\\\\\\\\\\\"search_conducted\\\\\\\\\\\\\\\"}}, \\\\\\\\\\\\\\\"typeProperty\\\\\\\\\\\\\\\": 0}, {\\\\\\\\\\\\\\\"column\\\\\\\\\\\\\\\": {\\\\\\\\\\\\\\\"type\\\\\\\\\\\\\\\": 2, \\\\\\\\\\\\\\\"details\\\\\\\\\\\\\\\": {\\\\\\\\\\\\\\\"selectedColumn\\\\\\\\\\\\\\\": \\\\\\\\\\\\\\\"search_type\\\\\\\\\\\\\\\"}}, \\\\\\\\\\\\\\\"typeProperty\\\\\\\\\\\\\\\": 0}, {\\\\\\\\\\\\\\\"column\\\\\\\\\\\\\\\": {\\\\\\\\\\\\\\\"type\\\\\\\\\\\\\\\": 2, \\\\\\\\\\\\\\\"details\\\\\\\\\\\\\\\": {\\\\\\\\\\\\\\\"selectedColumn\\\\\\\\\\\\\\\": \\\\\\\\\\\\\\\"stop_outcome\\\\\\\\\\\\\\\"}}, \\\\\\\\\\\\\\\"typeProperty\\\\\\\\\\\\\\\": 0}, {\\\\\\\\\\\\\\\"column\\\\\\\\\\\\\\\": {\\\\\\\\\\\\\\\"type\\\\\\\\\\\\\\\": 2, \\\\\\\\\\\\\\\"details\\\\\\\\\\\\\\\": {\\\\\\\\\\\\\\\"selectedColumn\\\\\\\\\\\\\\\": \\\\\\\\\\\\\\\"is_arrested\\\\\\\\\\\\\\\"}}, \\\\\\\\\\\\\\\"typeProperty\\\\\\\\\\\\\\\": 0}, {\\\\\\\\\\\\\\\"column\\\\\\\\\\\\\\\": {\\\\\\\\\\\\\\\"type\\\\\\\\\\\\\\\": 2, \\\\\\\\\\\\\\\"details\\\\\\\\\\\\\\\": {\\\\\\\\\\\\\\\"selectedColumn\\\\\\\\\\\\\\\": \\\\\\\\\\\\\\\"stop_duration\\\\\\\\\\\\\\\"}}, \\\\\\\\\\\\\\\"typeProperty\\\\\\\\\\\\\\\": 0}, {\\\\\\\\\\\\\\\"column\\\\\\\\\\\\\\\": {\\\\\\\\\\\\\\\"type\\\\\\\\\\\\\\\": 2, \\\\\\\\\\\\\\\"details\\\\\\\\\\\\\\\": {\\\\\\\\\\\\\\\"selectedColumn\\\\\\\\\\\\\\\": \\\\\\\\\\\\\\\"drugs_related_stop\\\\\\\\\\\\\\\"}}, \\\\\\\\\\\\\\\"typeProperty\\\\\\\\\\\\\\\": 0}]}, \\\\\\\\\\\\\\\"localData\\\\\\\\\\\\\\\": {}, \\\\\\\\\\\\\\\"isEnabled\\\\\\\\\\\\\\\": true, \\\\\\\\\\\\\\\"name\\\\\\\\\\\\\\\": null, \\\\\\\\\\\\\\\"annotation\\\\\\\\\\\\\\\": null}], \\\\\\\\\\\\\\\"inspectors\\\\\\\\\\\\\\\": [], \\\\\\\\\\\\\\\"meta\\\\\\\\\\\\\\\": {\\\\\\\\\\\\\\\"savedDatasetId\\\\\\\\\\\\\\\": \\\\\\\\\\\\\\\"808c3472-312e-4bc6-b6ac-8c2d4aa8138c\\\\\\\\\\\\\\\", \\\\\\\\\\\\\\\"datasetType\\\\\\\\\\\\\\\": \\\\\\\\\\\\\\\"tabular\\\\\\\\\\\\\\\", \\\\\\\\\\\\\\\"subscriptionId\\\\\\\\\\\\\\\": \\\\\\\\\\\\\\\"091ee12e-98ac-4172-b48e-fa981b519954\\\\\\\\\\\\\\\", \\\\\\\\\\\\\\\"workspaceId\\\\\\\\\\\\\\\": \\\\\\\\\\\\\\\"65306132-fd37-4877-abc5-b72f016b9ce3\\\\\\\\\\\\\\\", \\\\\\\\\\\\\\\"workspaceLocation\\\\\\\\\\\\\\\": \\\\\\\\\\\\\\\"westus\\\\\\\\\\\\\\\"}}\\\\\\\", \\\\\\\"activities\\\\\\\": 0}\", \"EnableSubsampling\": \"False\", \"runTemplate\": \"AutoML\", \"azureml.runsource\": \"automl\", \"display_task_type\": \"classification\", \"dependencies_versions\": \"{\\\"azureml-widgets\\\": \\\"1.19.0\\\", \\\"azureml-train\\\": \\\"1.19.0\\\", \\\"azureml-train-restclients-hyperdrive\\\": \\\"1.19.0\\\", \\\"azureml-train-core\\\": \\\"1.19.0\\\", \\\"azureml-train-automl\\\": \\\"1.19.0\\\", \\\"azureml-train-automl-runtime\\\": \\\"1.19.0\\\", \\\"azureml-train-automl-client\\\": \\\"1.19.0\\\", \\\"azureml-tensorboard\\\": \\\"1.19.0\\\", \\\"azureml-telemetry\\\": \\\"1.19.0\\\", \\\"azureml-sdk\\\": \\\"1.19.0\\\", \\\"azureml-samples\\\": \\\"0+unknown\\\", \\\"azureml-pipeline\\\": \\\"1.19.0\\\", \\\"azureml-pipeline-steps\\\": \\\"1.19.0\\\", \\\"azureml-pipeline-core\\\": \\\"1.19.0\\\", \\\"azureml-opendatasets\\\": \\\"1.19.0\\\", \\\"azureml-model-management-sdk\\\": \\\"1.0.1b6.post1\\\", \\\"azureml-mlflow\\\": \\\"1.19.0\\\", \\\"azureml-interpret\\\": \\\"1.19.0\\\", \\\"azureml-explain-model\\\": \\\"1.19.0\\\", \\\"azureml-defaults\\\": \\\"1.19.0\\\", \\\"azureml-dataset-runtime\\\": \\\"1.19.0.post1\\\", \\\"azureml-dataprep\\\": \\\"2.6.1\\\", \\\"azureml-dataprep-rslex\\\": \\\"1.4.0\\\", \\\"azureml-dataprep-native\\\": \\\"26.0.0\\\", \\\"azureml-datadrift\\\": \\\"1.19.0\\\", \\\"azureml-core\\\": \\\"1.19.0\\\", \\\"azureml-contrib-services\\\": \\\"1.19.0\\\", \\\"azureml-contrib-server\\\": \\\"1.19.0\\\", \\\"azureml-contrib-reinforcementlearning\\\": \\\"1.19.0\\\", \\\"azureml-contrib-pipeline-steps\\\": \\\"1.19.0\\\", \\\"azureml-contrib-notebook\\\": \\\"1.19.0\\\", \\\"azureml-contrib-interpret\\\": \\\"1.19.0\\\", \\\"azureml-contrib-gbdt\\\": \\\"1.19.0\\\", \\\"azureml-contrib-fairness\\\": \\\"1.19.0\\\", \\\"azureml-contrib-dataset\\\": \\\"1.19.0\\\", \\\"azureml-cli-common\\\": \\\"1.19.0\\\", \\\"azureml-automl-runtime\\\": \\\"1.19.0\\\", \\\"azureml-automl-core\\\": \\\"1.19.0\\\", \\\"azureml-accel-models\\\": \\\"1.19.0\\\"}\", \"_aml_system_scenario_identification\": \"Local.Parent\", \"ClientSdkVersion\": \"1.19.0\", \"ClientType\": \"SDK\", \"environment_cpu_name\": \"AzureML-AutoML\", \"environment_cpu_label\": \"prod\", \"environment_gpu_name\": \"AzureML-AutoML-GPU\", \"environment_gpu_label\": \"prod\", \"root_attribution\": \"automl\", \"attribution\": \"AutoML\", \"Orchestrator\": \"AutoML\", \"_azureml.ComputeTargetType\": \"local\", \"ProblemInfoJsonString\": \"{\\\"dataset_num_categorical\\\": 0, \\\"is_sparse\\\": true, \\\"subsampling\\\": false, \\\"dataset_classes\\\": 2, \\\"dataset_features\\\": 1171, \\\"dataset_samples\\\": 91741, \\\"single_frequency_class_detected\\\": false}\", \"feature_skus\": \"automatedml_sdk_guardrails\"}, \"tags\": {\"model_explain_run\": \"best_run\", \"best_score\": \"0.9930565423371412\", \"best_pipeline\": \"VotingEnsemble\", \"automl_best_child_run_id\": \"AutoML_9cd16b49-bdbb-4146-b318-16de190d5c6f_20\", \"model_explain_best_run_child_id\": \"AutoML_9cd16b49-bdbb-4146-b318-16de190d5c6f_20\"}, \"end_time_utc\": \"2021-01-29T23:26:55.514798Z\", \"status\": \"Completed\", \"log_files\": {}, \"log_groups\": [], \"run_duration\": \"0:17:44\"}, \"child_runs\": [{\"run_id\": \"AutoML_9cd16b49-bdbb-4146-b318-16de190d5c6f_0\", \"run_number\": 49, \"metric\": null, \"status\": \"Completed\", \"run_type\": null, \"training_percent\": \"100\", \"start_time\": \"2021-01-29T23:10:06.312396Z\", \"end_time\": \"2021-01-29T23:10:40.641531Z\", \"created_time\": \"2021-01-29T23:10:06.117886Z\", \"created_time_dt\": \"2021-01-29T23:10:06.117886Z\", \"duration\": \"0:00:34\", \"iteration\": \"0\", \"goal\": \"accuracy_max\", \"run_name\": \"MaxAbsScaler, LightGBM\", \"run_properties\": \"copy=True\", \"primary_metric\": 0.99239162, \"best_metric\": 0.99239162}, {\"run_id\": \"AutoML_9cd16b49-bdbb-4146-b318-16de190d5c6f_1\", \"run_number\": 50, \"metric\": null, \"status\": \"Completed\", \"run_type\": null, \"training_percent\": \"100\", \"start_time\": \"2021-01-29T23:10:40.953412Z\", \"end_time\": \"2021-01-29T23:11:25.850667Z\", \"created_time\": \"2021-01-29T23:10:40.864293Z\", \"created_time_dt\": \"2021-01-29T23:10:40.864293Z\", \"duration\": \"0:00:44\", \"iteration\": \"1\", \"goal\": \"accuracy_max\", \"run_name\": \"MaxAbsScaler, XGBoostClassifier\", \"run_properties\": \"copy=True\", \"primary_metric\": 0.99288214, \"best_metric\": 0.99288214}, {\"run_id\": \"AutoML_9cd16b49-bdbb-4146-b318-16de190d5c6f_2\", \"run_number\": 51, \"metric\": null, \"status\": \"Completed\", \"run_type\": null, \"training_percent\": \"100\", \"start_time\": \"2021-01-29T23:11:28.906099Z\", \"end_time\": \"2021-01-29T23:12:17.886808Z\", \"created_time\": \"2021-01-29T23:11:28.185403Z\", \"created_time_dt\": \"2021-01-29T23:11:28.185403Z\", \"duration\": \"0:00:49\", \"iteration\": \"2\", \"goal\": \"accuracy_max\", \"run_name\": \"MaxAbsScaler, RandomForest\", \"run_properties\": \"copy=True\", \"primary_metric\": 0.99111629, \"best_metric\": 0.99288214}, {\"run_id\": \"AutoML_9cd16b49-bdbb-4146-b318-16de190d5c6f_3\", \"run_number\": 52, \"metric\": null, \"status\": \"Completed\", \"run_type\": null, \"training_percent\": \"100\", \"start_time\": \"2021-01-29T23:12:19.495379Z\", \"end_time\": \"2021-01-29T23:12:50.666543Z\", \"created_time\": \"2021-01-29T23:12:19.310581Z\", \"created_time_dt\": \"2021-01-29T23:12:19.310581Z\", \"duration\": \"0:00:31\", \"iteration\": \"3\", \"goal\": \"accuracy_max\", \"run_name\": \"MaxAbsScaler, RandomForest\", \"run_properties\": \"copy=True\", \"primary_metric\": 0.99111629, \"best_metric\": 0.99288214}, {\"run_id\": \"AutoML_9cd16b49-bdbb-4146-b318-16de190d5c6f_4\", \"run_number\": 53, \"metric\": null, \"status\": \"Completed\", \"run_type\": null, \"training_percent\": \"100\", \"start_time\": \"2021-01-29T23:12:52.240383Z\", \"end_time\": \"2021-01-29T23:13:25.064801Z\", \"created_time\": \"2021-01-29T23:12:52.159203Z\", \"created_time_dt\": \"2021-01-29T23:12:52.159203Z\", \"duration\": \"0:00:32\", \"iteration\": \"4\", \"goal\": \"accuracy_max\", \"run_name\": \"MaxAbsScaler, RandomForest\", \"run_properties\": \"copy=True\", \"primary_metric\": 0.67969305, \"best_metric\": 0.99288214}, {\"run_id\": \"AutoML_9cd16b49-bdbb-4146-b318-16de190d5c6f_5\", \"run_number\": 54, \"metric\": null, \"status\": \"Completed\", \"run_type\": null, \"training_percent\": \"100\", \"start_time\": \"2021-01-29T23:13:26.679394Z\", \"end_time\": \"2021-01-29T23:13:57.149537Z\", \"created_time\": \"2021-01-29T23:13:26.588418Z\", \"created_time_dt\": \"2021-01-29T23:13:26.588418Z\", \"duration\": \"0:00:30\", \"iteration\": \"5\", \"goal\": \"accuracy_max\", \"run_name\": \"MaxAbsScaler, RandomForest\", \"run_properties\": \"copy=True\", \"primary_metric\": 0.87309908, \"best_metric\": 0.99288214}, {\"run_id\": \"AutoML_9cd16b49-bdbb-4146-b318-16de190d5c6f_6\", \"run_number\": 55, \"metric\": null, \"status\": \"Completed\", \"run_type\": null, \"training_percent\": \"100\", \"start_time\": \"2021-01-29T23:13:58.356545Z\", \"end_time\": \"2021-01-29T23:15:03.2836Z\", \"created_time\": \"2021-01-29T23:13:58.27451Z\", \"created_time_dt\": \"2021-01-29T23:13:58.27451Z\", \"duration\": \"0:01:05\", \"iteration\": \"6\", \"goal\": \"accuracy_max\", \"run_name\": \"StandardScalerWrapper, LightGBM\", \"run_properties\": \"<azureml.automl.runtime.shared.model_wrappers.StandardScalerWrapper object at 0x7f64d5dc7e10\", \"primary_metric\": 0.99111629, \"best_metric\": 0.99288214}, {\"run_id\": \"AutoML_9cd16b49-bdbb-4146-b318-16de190d5c6f_7\", \"run_number\": 56, \"metric\": null, \"status\": \"Completed\", \"run_type\": null, \"training_percent\": \"100\", \"start_time\": \"2021-01-29T23:15:07.54483Z\", \"end_time\": \"2021-01-29T23:15:57.980238Z\", \"created_time\": \"2021-01-29T23:15:06.886861Z\", \"created_time_dt\": \"2021-01-29T23:15:06.886861Z\", \"duration\": \"0:00:51\", \"iteration\": \"7\", \"goal\": \"accuracy_max\", \"run_name\": \"SparseNormalizer, XGBoostClassifier\", \"run_properties\": \"<azureml.automl.runtime.shared.model_wrappers.SparseNormalizer object at 0x7f64d5dea240\", \"primary_metric\": 0.99203191, \"best_metric\": 0.99288214}, {\"run_id\": \"AutoML_9cd16b49-bdbb-4146-b318-16de190d5c6f_8\", \"run_number\": 57, \"metric\": null, \"status\": \"Completed\", \"run_type\": null, \"training_percent\": \"100\", \"start_time\": \"2021-01-29T23:15:59.284058Z\", \"end_time\": \"2021-01-29T23:16:28.672373Z\", \"created_time\": \"2021-01-29T23:15:59.20231Z\", \"created_time_dt\": \"2021-01-29T23:15:59.20231Z\", \"duration\": \"0:00:29\", \"iteration\": \"8\", \"goal\": \"accuracy_max\", \"run_name\": \"StandardScalerWrapper, LightGBM\", \"run_properties\": \"<azureml.automl.runtime.shared.model_wrappers.StandardScalerWrapper object at 0x7f64d5d4b2b0\", \"primary_metric\": 0.99111629, \"best_metric\": 0.99288214}, {\"run_id\": \"AutoML_9cd16b49-bdbb-4146-b318-16de190d5c6f_9\", \"run_number\": 58, \"metric\": null, \"status\": \"Completed\", \"run_type\": null, \"training_percent\": \"100\", \"start_time\": \"2021-01-29T23:16:29.984279Z\", \"end_time\": \"2021-01-29T23:17:00.637102Z\", \"created_time\": \"2021-01-29T23:16:29.896702Z\", \"created_time_dt\": \"2021-01-29T23:16:29.896702Z\", \"duration\": \"0:00:30\", \"iteration\": \"9\", \"goal\": \"accuracy_max\", \"run_name\": \"SparseNormalizer, LightGBM\", \"run_properties\": \"<azureml.automl.runtime.shared.model_wrappers.SparseNormalizer object at 0x7f64d5e04828\", \"primary_metric\": 0.99165041, \"best_metric\": 0.99288214}, {\"run_id\": \"AutoML_9cd16b49-bdbb-4146-b318-16de190d5c6f_10\", \"run_number\": 59, \"metric\": null, \"status\": \"Completed\", \"run_type\": null, \"training_percent\": \"100\", \"start_time\": \"2021-01-29T23:17:01.966405Z\", \"end_time\": \"2021-01-29T23:17:45.123127Z\", \"created_time\": \"2021-01-29T23:17:01.888712Z\", \"created_time_dt\": \"2021-01-29T23:17:01.888712Z\", \"duration\": \"0:00:43\", \"iteration\": \"10\", \"goal\": \"accuracy_max\", \"run_name\": \"MaxAbsScaler, LightGBM\", \"run_properties\": \"copy=True\", \"primary_metric\": 0.99111629, \"best_metric\": 0.99288214}, {\"run_id\": \"AutoML_9cd16b49-bdbb-4146-b318-16de190d5c6f_11\", \"run_number\": 60, \"metric\": null, \"status\": \"Completed\", \"run_type\": null, \"training_percent\": \"100\", \"start_time\": \"2021-01-29T23:17:46.347518Z\", \"end_time\": \"2021-01-29T23:18:30.380989Z\", \"created_time\": \"2021-01-29T23:17:46.273038Z\", \"created_time_dt\": \"2021-01-29T23:17:46.273038Z\", \"duration\": \"0:00:44\", \"iteration\": \"11\", \"goal\": \"accuracy_max\", \"run_name\": \"StandardScalerWrapper, LightGBM\", \"run_properties\": \"<azureml.automl.runtime.shared.model_wrappers.StandardScalerWrapper object at 0x7f64d5d7ec18\", \"primary_metric\": 0.99111629, \"best_metric\": 0.99288214}, {\"run_id\": \"AutoML_9cd16b49-bdbb-4146-b318-16de190d5c6f_12\", \"run_number\": 61, \"metric\": null, \"status\": \"Completed\", \"run_type\": null, \"training_percent\": \"100\", \"start_time\": \"2021-01-29T23:18:31.5683Z\", \"end_time\": \"2021-01-29T23:19:19.441136Z\", \"created_time\": \"2021-01-29T23:18:31.488194Z\", \"created_time_dt\": \"2021-01-29T23:18:31.488194Z\", \"duration\": \"0:00:47\", \"iteration\": \"12\", \"goal\": \"accuracy_max\", \"run_name\": \"SparseNormalizer, XGBoostClassifier\", \"run_properties\": \"<azureml.automl.runtime.shared.model_wrappers.SparseNormalizer object at 0x7f63efeb62e8\", \"primary_metric\": 0.99275133, \"best_metric\": 0.99288214}, {\"run_id\": \"AutoML_9cd16b49-bdbb-4146-b318-16de190d5c6f_13\", \"run_number\": 62, \"metric\": null, \"status\": \"Completed\", \"run_type\": null, \"training_percent\": \"100\", \"start_time\": \"2021-01-29T23:19:20.548516Z\", \"end_time\": \"2021-01-29T23:19:55.970589Z\", \"created_time\": \"2021-01-29T23:19:20.476134Z\", \"created_time_dt\": \"2021-01-29T23:19:20.476134Z\", \"duration\": \"0:00:35\", \"iteration\": \"13\", \"goal\": \"accuracy_max\", \"run_name\": \"SparseNormalizer, LightGBM\", \"run_properties\": \"<azureml.automl.runtime.shared.model_wrappers.SparseNormalizer object at 0x7f63efe48358\", \"primary_metric\": 0.99100729, \"best_metric\": 0.99288214}, {\"run_id\": \"AutoML_9cd16b49-bdbb-4146-b318-16de190d5c6f_14\", \"run_number\": 63, \"metric\": null, \"status\": \"Completed\", \"run_type\": null, \"training_percent\": \"100\", \"start_time\": \"2021-01-29T23:19:57.070276Z\", \"end_time\": \"2021-01-29T23:20:38.777983Z\", \"created_time\": \"2021-01-29T23:19:56.996054Z\", \"created_time_dt\": \"2021-01-29T23:19:56.996054Z\", \"duration\": \"0:00:41\", \"iteration\": \"14\", \"goal\": \"accuracy_max\", \"run_name\": \"StandardScalerWrapper, LightGBM\", \"run_properties\": \"<azureml.automl.runtime.shared.model_wrappers.StandardScalerWrapper object at 0x7f63efd65940\", \"primary_metric\": 0.99111629, \"best_metric\": 0.99288214}, {\"run_id\": \"AutoML_9cd16b49-bdbb-4146-b318-16de190d5c6f_15\", \"run_number\": 64, \"metric\": null, \"status\": \"Completed\", \"run_type\": null, \"training_percent\": \"100\", \"start_time\": \"2021-01-29T23:20:40.183908Z\", \"end_time\": \"2021-01-29T23:21:25.249971Z\", \"created_time\": \"2021-01-29T23:20:40.100708Z\", \"created_time_dt\": \"2021-01-29T23:20:40.100708Z\", \"duration\": \"0:00:45\", \"iteration\": \"15\", \"goal\": \"accuracy_max\", \"run_name\": \"MaxAbsScaler, GradientBoosting\", \"run_properties\": \"copy=True\", \"primary_metric\": 0.99111629, \"best_metric\": 0.99288214}, {\"run_id\": \"AutoML_9cd16b49-bdbb-4146-b318-16de190d5c6f_16\", \"run_number\": 65, \"metric\": null, \"status\": \"Completed\", \"run_type\": null, \"training_percent\": \"100\", \"start_time\": \"2021-01-29T23:21:26.494631Z\", \"end_time\": \"2021-01-29T23:21:55.888216Z\", \"created_time\": \"2021-01-29T23:21:26.419645Z\", \"created_time_dt\": \"2021-01-29T23:21:26.419645Z\", \"duration\": \"0:00:29\", \"iteration\": \"16\", \"goal\": \"accuracy_max\", \"run_name\": \"MaxAbsScaler, LightGBM\", \"run_properties\": \"copy=True\", \"primary_metric\": 0.99111629, \"best_metric\": 0.99288214}, {\"run_id\": \"AutoML_9cd16b49-bdbb-4146-b318-16de190d5c6f_17\", \"run_number\": 66, \"metric\": null, \"status\": \"Completed\", \"run_type\": null, \"training_percent\": \"100\", \"start_time\": \"2021-01-29T23:21:57.109552Z\", \"end_time\": \"2021-01-29T23:22:39.78877Z\", \"created_time\": \"2021-01-29T23:21:57.01983Z\", \"created_time_dt\": \"2021-01-29T23:21:57.01983Z\", \"duration\": \"0:00:42\", \"iteration\": \"17\", \"goal\": \"accuracy_max\", \"run_name\": \"MaxAbsScaler, LightGBM\", \"run_properties\": \"copy=True\", \"primary_metric\": 0.99111629, \"best_metric\": 0.99288214}, {\"run_id\": \"AutoML_9cd16b49-bdbb-4146-b318-16de190d5c6f_18\", \"run_number\": 67, \"metric\": null, \"status\": \"Completed\", \"run_type\": null, \"training_percent\": \"100\", \"start_time\": \"2021-01-29T23:22:41.183478Z\", \"end_time\": \"2021-01-29T23:23:30.216591Z\", \"created_time\": \"2021-01-29T23:22:41.102765Z\", \"created_time_dt\": \"2021-01-29T23:22:41.102765Z\", \"duration\": \"0:00:49\", \"iteration\": \"18\", \"goal\": \"accuracy_max\", \"run_name\": \"SparseNormalizer, LightGBM\", \"run_properties\": \"<azureml.automl.runtime.shared.model_wrappers.SparseNormalizer object at 0x7f63efd13ef0\", \"primary_metric\": 0.99111629, \"best_metric\": 0.99288214}, {\"run_id\": \"AutoML_9cd16b49-bdbb-4146-b318-16de190d5c6f_19\", \"run_number\": 68, \"metric\": null, \"status\": \"Completed\", \"run_type\": null, \"training_percent\": \"100\", \"start_time\": \"2021-01-29T23:23:31.997818Z\", \"end_time\": \"2021-01-29T23:24:18.260073Z\", \"created_time\": \"2021-01-29T23:23:31.903631Z\", \"created_time_dt\": \"2021-01-29T23:23:31.903631Z\", \"duration\": \"0:00:46\", \"iteration\": \"19\", \"goal\": \"accuracy_max\", \"run_name\": \"MaxAbsScaler, RandomForest\", \"run_properties\": \"copy=True\", \"primary_metric\": 0.99111629, \"best_metric\": 0.99288214}, {\"run_id\": \"AutoML_9cd16b49-bdbb-4146-b318-16de190d5c6f_20\", \"run_number\": 69, \"metric\": null, \"status\": \"Completed\", \"run_type\": null, \"training_percent\": \"100\", \"start_time\": \"2021-01-29T23:24:18.67349Z\", \"end_time\": \"2021-01-29T23:25:14.780148Z\", \"created_time\": \"2021-01-29T23:24:18.579735Z\", \"created_time_dt\": \"2021-01-29T23:24:18.579735Z\", \"duration\": \"0:00:56\", \"iteration\": \"20\", \"goal\": \"accuracy_max\", \"run_name\": \"VotingEnsemble\", \"run_properties\": \"classification_labels=None,\\n                              estimators=[('1',\\n                                           Pipeline(memory=None,\\n                                                    steps=[('maxabsscaler',\\n                                                            MaxAbsScaler(copy=True\", \"primary_metric\": 0.99305654, \"best_metric\": 0.99305654}, {\"run_id\": \"AutoML_9cd16b49-bdbb-4146-b318-16de190d5c6f_21\", \"run_number\": 70, \"metric\": null, \"status\": \"Completed\", \"run_type\": null, \"training_percent\": \"100\", \"start_time\": \"2021-01-29T23:25:15.1042Z\", \"end_time\": \"2021-01-29T23:26:43.987393Z\", \"created_time\": \"2021-01-29T23:25:15.021663Z\", \"created_time_dt\": \"2021-01-29T23:25:15.021663Z\", \"duration\": \"0:01:28\", \"iteration\": \"21\", \"goal\": \"accuracy_max\", \"run_name\": \"StackEnsemble\", \"run_properties\": \"base_learners=[('1',\\n                                        Pipeline(memory=None,\\n                                                 steps=[('maxabsscaler',\\n                                                         MaxAbsScaler(copy=True\", \"primary_metric\": 0.99283853, \"best_metric\": 0.99305654}], \"children_metrics\": {\"categories\": [0], \"series\": {\"accuracy\": [{\"categories\": [\"0\", \"1\", \"2\", \"3\", \"4\", \"5\", \"6\", \"7\", \"8\", \"9\", \"10\", \"11\", \"12\", \"13\", \"14\", \"15\", \"16\", \"17\", \"18\", \"19\", \"20\", \"21\"], \"mode\": \"markers\", \"name\": \"accuracy\", \"stepped\": false, \"type\": \"scatter\", \"data\": [0.9923916229377561, 0.9928821378331101, 0.9911162902693592, 0.9911162902693592, 0.6796930547455101, 0.8730990804800799, 0.9911162902693592, 0.9920319114204253, 0.9911162902693592, 0.991650408072934, 0.9911162902693592, 0.9911162902693592, 0.9927513326728737, 0.9910072894147738, 0.9911162902693592, 0.9911162902693592, 0.9911162902693592, 0.9911162902693592, 0.9911162902693592, 0.9911162902693592, 0.9930565423371412, 0.9928385349248895]}, {\"categories\": [\"0\", \"1\", \"2\", \"3\", \"4\", \"5\", \"6\", \"7\", \"8\", \"9\", \"10\", \"11\", \"12\", \"13\", \"14\", \"15\", \"16\", \"17\", \"18\", \"19\", \"20\", \"21\"], \"mode\": \"lines\", \"name\": \"accuracy_max\", \"stepped\": true, \"type\": \"scatter\", \"data\": [0.9923916229377561, 0.9928821378331101, 0.9928821378331101, 0.9928821378331101, 0.9928821378331101, 0.9928821378331101, 0.9928821378331101, 0.9928821378331101, 0.9928821378331101, 0.9928821378331101, 0.9928821378331101, 0.9928821378331101, 0.9928821378331101, 0.9928821378331101, 0.9928821378331101, 0.9928821378331101, 0.9928821378331101, 0.9928821378331101, 0.9928821378331101, 0.9928821378331101, 0.9930565423371412, 0.9930565423371412]}], \"average_precision_score_weighted\": [{\"categories\": [\"0\", \"1\", \"2\", \"3\", \"4\", \"5\", \"6\", \"7\", \"8\", \"9\", \"10\", \"11\", \"12\", \"13\", \"14\", \"15\", \"16\", \"17\", \"18\", \"19\", \"20\", \"21\"], \"mode\": \"markers\", \"name\": \"average_precision_score_weighted\", \"stepped\": false, \"type\": \"scatter\", \"data\": [0.9959725820826603, 0.9964243416769394, 0.9915599591951446, 0.9871328948604065, 0.9893417508367274, 0.9921088150429819, 0.9898876678528907, 0.9958202811854703, 0.9889279614802917, 0.9960898611672953, 0.9897138983706051, 0.9897820579185902, 0.9963388533989851, 0.9937771963622736, 0.988821549335269, 0.9888988994250884, 0.9891119081083576, 0.9899883127046801, 0.9934897022535868, 0.9895586051547524, 0.9964667129974561, 0.9964771283518506]}, {\"categories\": [\"0\", \"1\", \"2\", \"3\", \"4\", \"5\", \"6\", \"7\", \"8\", \"9\", \"10\", \"11\", \"12\", \"13\", \"14\", \"15\", \"16\", \"17\", \"18\", \"19\", \"20\", \"21\"], \"mode\": \"lines\", \"name\": \"average_precision_score_weighted_max\", \"stepped\": true, \"type\": \"scatter\", \"data\": [0.9959725820826603, 0.9964243416769394, 0.9964243416769394, 0.9964243416769394, 0.9964243416769394, 0.9964243416769394, 0.9964243416769394, 0.9964243416769394, 0.9964243416769394, 0.9964243416769394, 0.9964243416769394, 0.9964243416769394, 0.9964243416769394, 0.9964243416769394, 0.9964243416769394, 0.9964243416769394, 0.9964243416769394, 0.9964243416769394, 0.9964243416769394, 0.9964243416769394, 0.9964667129974561, 0.9964771283518506]}], \"precision_score_macro\": [{\"categories\": [\"0\", \"1\", \"2\", \"3\", \"4\", \"5\", \"6\", \"7\", \"8\", \"9\", \"10\", \"11\", \"12\", \"13\", \"14\", \"15\", \"16\", \"17\", \"18\", \"19\", \"20\", \"21\"], \"mode\": \"markers\", \"name\": \"precision_score_macro\", \"stepped\": false, \"type\": \"scatter\", \"data\": [0.7897727551754313, 0.8194024570628283, 0.4955581451346796, 0.4955581451346796, 0.5338390512819068, 0.5285148957600668, 0.4955581451346796, 0.7907819021383125, 0.4955581451346796, 0.9263393912902055, 0.4955581451346796, 0.4955581451346796, 0.8150633724678732, 0.7067866589968986, 0.4955581451346796, 0.4955581451346796, 0.4955581451346796, 0.4955581451346796, 0.4955581451346796, 0.4955581451346796, 0.8277757282327668, 0.8176302675651327]}, {\"categories\": [\"0\", \"1\", \"2\", \"3\", \"4\", \"5\", \"6\", \"7\", \"8\", \"9\", \"10\", \"11\", \"12\", \"13\", \"14\", \"15\", \"16\", \"17\", \"18\", \"19\", \"20\", \"21\"], \"mode\": \"lines\", \"name\": \"precision_score_macro_max\", \"stepped\": true, \"type\": \"scatter\", \"data\": [0.7897727551754313, 0.8194024570628283, 0.8194024570628283, 0.8194024570628283, 0.8194024570628283, 0.8194024570628283, 0.8194024570628283, 0.8194024570628283, 0.8194024570628283, 0.9263393912902055, 0.9263393912902055, 0.9263393912902055, 0.9263393912902055, 0.9263393912902055, 0.9263393912902055, 0.9263393912902055, 0.9263393912902055, 0.9263393912902055, 0.9263393912902055, 0.9263393912902055, 0.9263393912902055, 0.9263393912902055]}], \"AUC_micro\": [{\"categories\": [\"0\", \"1\", \"2\", \"3\", \"4\", \"5\", \"6\", \"7\", \"8\", \"9\", \"10\", \"11\", \"12\", \"13\", \"14\", \"15\", \"16\", \"17\", \"18\", \"19\", \"20\", \"21\"], \"mode\": \"markers\", \"name\": \"AUC_micro\", \"stepped\": false, \"type\": \"scatter\", \"data\": [0.9998190892343543, 0.9998528146739512, 0.998473004291203, 0.9948817617720049, 0.766843892254887, 0.9505957642664482, 0.9972338596725298, 0.9998334608688787, 0.996211088703923, 0.9998223970677714, 0.9970701801181795, 0.9971203141678248, 0.9998489359377278, 0.999716136387141, 0.9960784725213941, 0.9963009139467474, 0.9965057440116639, 0.997297688741888, 0.9997024158235827, 0.9969338300498958, 0.9998530267179725, 0.9998510498499474]}, {\"categories\": [\"0\", \"1\", \"2\", \"3\", \"4\", \"5\", \"6\", \"7\", \"8\", \"9\", \"10\", \"11\", \"12\", \"13\", \"14\", \"15\", \"16\", \"17\", \"18\", \"19\", \"20\", \"21\"], \"mode\": \"lines\", \"name\": \"AUC_micro_max\", \"stepped\": true, \"type\": \"scatter\", \"data\": [0.9998190892343543, 0.9998528146739512, 0.9998528146739512, 0.9998528146739512, 0.9998528146739512, 0.9998528146739512, 0.9998528146739512, 0.9998528146739512, 0.9998528146739512, 0.9998528146739512, 0.9998528146739512, 0.9998528146739512, 0.9998528146739512, 0.9998528146739512, 0.9998528146739512, 0.9998528146739512, 0.9998528146739512, 0.9998528146739512, 0.9998528146739512, 0.9998528146739512, 0.9998530267179725, 0.9998530267179725]}], \"average_precision_score_macro\": [{\"categories\": [\"0\", \"1\", \"2\", \"3\", \"4\", \"5\", \"6\", \"7\", \"8\", \"9\", \"10\", \"11\", \"12\", \"13\", \"14\", \"15\", \"16\", \"17\", \"18\", \"19\", \"20\", \"21\"], \"mode\": \"markers\", \"name\": \"average_precision_score_macro\", \"stepped\": false, \"type\": \"scatter\", \"data\": [0.7757420120085262, 0.8006364692012613, 0.5808775172423782, 0.5087572804680681, 0.5474017433245012, 0.5842102600680671, 0.5329989738392312, 0.7673844660968111, 0.5159825505100675, 0.781925008645418, 0.5288245803018222, 0.5313539167854162, 0.7961386658332126, 0.6552742869705049, 0.5155142677974635, 0.5148634746575748, 0.5176921854891835, 0.534370030843257, 0.6397370805424077, 0.5220940619957658, 0.8031529586373184, 0.8038940448561419]}, {\"categories\": [\"0\", \"1\", \"2\", \"3\", \"4\", \"5\", \"6\", \"7\", \"8\", \"9\", \"10\", \"11\", \"12\", \"13\", \"14\", \"15\", \"16\", \"17\", \"18\", \"19\", \"20\", \"21\"], \"mode\": \"lines\", \"name\": \"average_precision_score_macro_max\", \"stepped\": true, \"type\": \"scatter\", \"data\": [0.7757420120085262, 0.8006364692012613, 0.8006364692012613, 0.8006364692012613, 0.8006364692012613, 0.8006364692012613, 0.8006364692012613, 0.8006364692012613, 0.8006364692012613, 0.8006364692012613, 0.8006364692012613, 0.8006364692012613, 0.8006364692012613, 0.8006364692012613, 0.8006364692012613, 0.8006364692012613, 0.8006364692012613, 0.8006364692012613, 0.8006364692012613, 0.8006364692012613, 0.8031529586373184, 0.8038940448561419]}], \"precision_score_weighted\": [{\"categories\": [\"0\", \"1\", \"2\", \"3\", \"4\", \"5\", \"6\", \"7\", \"8\", \"9\", \"10\", \"11\", \"12\", \"13\", \"14\", \"15\", \"16\", \"17\", \"18\", \"19\", \"20\", \"21\"], \"mode\": \"markers\", \"name\": \"precision_score_weighted\", \"stepped\": false, \"type\": \"scatter\", \"data\": [0.9918257461025214, 0.9919491424869197, 0.982311657991294, 0.982311657991294, 0.9896394211266518, 0.9902976361060715, 0.982311657991294, 0.9906151300433838, 0.982311657991294, 0.9906568053632397, 0.982311657991294, 0.982311657991294, 0.9917527755119223, 0.9863177023452888, 0.982311657991294, 0.982311657991294, 0.982311657991294, 0.982311657991294, 0.982311657991294, 0.982311657991294, 0.9921426132656436, 0.9919134233617156]}, {\"categories\": [\"0\", \"1\", \"2\", \"3\", \"4\", \"5\", \"6\", \"7\", \"8\", \"9\", \"10\", \"11\", \"12\", \"13\", \"14\", \"15\", \"16\", \"17\", \"18\", \"19\", \"20\", \"21\"], \"mode\": \"lines\", \"name\": \"precision_score_weighted_max\", \"stepped\": true, \"type\": \"scatter\", \"data\": [0.9918257461025214, 0.9919491424869197, 0.9919491424869197, 0.9919491424869197, 0.9919491424869197, 0.9919491424869197, 0.9919491424869197, 0.9919491424869197, 0.9919491424869197, 0.9919491424869197, 0.9919491424869197, 0.9919491424869197, 0.9919491424869197, 0.9919491424869197, 0.9919491424869197, 0.9919491424869197, 0.9919491424869197, 0.9919491424869197, 0.9919491424869197, 0.9919491424869197, 0.9921426132656436, 0.9921426132656436]}], \"weighted_accuracy\": [{\"categories\": [\"0\", \"1\", \"2\", \"3\", \"4\", \"5\", \"6\", \"7\", \"8\", \"9\", \"10\", \"11\", \"12\", \"13\", \"14\", \"15\", \"16\", \"17\", \"18\", \"19\", \"20\", \"21\"], \"mode\": \"markers\", \"name\": \"weighted_accuracy\", \"stepped\": false, \"type\": \"scatter\", \"data\": [0.9968141814157542, 0.9977341677562478, 0.999919499302111, 0.999919499302111, 0.6779424775509058, 0.873135838296176, 0.999919499302111, 0.997704448248279, 0.999919499302111, 0.999728270095119, 0.999919499302111, 0.999919499302111, 0.9977110522612781, 0.9995698028718447, 0.999919499302111, 0.999919499302111, 0.999919499302111, 0.999919499302111, 0.999919499302111, 0.999919499302111, 0.9978665125624678, 0.9976900937870298]}, {\"categories\": [\"0\", \"1\", \"2\", \"3\", \"4\", \"5\", \"6\", \"7\", \"8\", \"9\", \"10\", \"11\", \"12\", \"13\", \"14\", \"15\", \"16\", \"17\", \"18\", \"19\", \"20\", \"21\"], \"mode\": \"lines\", \"name\": \"weighted_accuracy_max\", \"stepped\": true, \"type\": \"scatter\", \"data\": [0.9968141814157542, 0.9977341677562478, 0.999919499302111, 0.999919499302111, 0.999919499302111, 0.999919499302111, 0.999919499302111, 0.999919499302111, 0.999919499302111, 0.999919499302111, 0.999919499302111, 0.999919499302111, 0.999919499302111, 0.999919499302111, 0.999919499302111, 0.999919499302111, 0.999919499302111, 0.999919499302111, 0.999919499302111, 0.999919499302111, 0.999919499302111, 0.999919499302111]}], \"recall_score_micro\": [{\"categories\": [\"0\", \"1\", \"2\", \"3\", \"4\", \"5\", \"6\", \"7\", \"8\", \"9\", \"10\", \"11\", \"12\", \"13\", \"14\", \"15\", \"16\", \"17\", \"18\", \"19\", \"20\", \"21\"], \"mode\": \"markers\", \"name\": \"recall_score_micro\", \"stepped\": false, \"type\": \"scatter\", \"data\": [0.9923916229377561, 0.9928821378331101, 0.9911162902693592, 0.9911162902693592, 0.6796930547455101, 0.8730990804800799, 0.9911162902693592, 0.9920319114204253, 0.9911162902693592, 0.991650408072934, 0.9911162902693592, 0.9911162902693592, 0.9927513326728737, 0.9910072894147738, 0.9911162902693592, 0.9911162902693592, 0.9911162902693592, 0.9911162902693592, 0.9911162902693592, 0.9911162902693592, 0.9930565423371412, 0.9928385349248895]}, {\"categories\": [\"0\", \"1\", \"2\", \"3\", \"4\", \"5\", \"6\", \"7\", \"8\", \"9\", \"10\", \"11\", \"12\", \"13\", \"14\", \"15\", \"16\", \"17\", \"18\", \"19\", \"20\", \"21\"], \"mode\": \"lines\", \"name\": \"recall_score_micro_max\", \"stepped\": true, \"type\": \"scatter\", \"data\": [0.9923916229377561, 0.9928821378331101, 0.9928821378331101, 0.9928821378331101, 0.9928821378331101, 0.9928821378331101, 0.9928821378331101, 0.9928821378331101, 0.9928821378331101, 0.9928821378331101, 0.9928821378331101, 0.9928821378331101, 0.9928821378331101, 0.9928821378331101, 0.9928821378331101, 0.9928821378331101, 0.9928821378331101, 0.9928821378331101, 0.9928821378331101, 0.9928821378331101, 0.9930565423371412, 0.9930565423371412]}], \"matthews_correlation\": [{\"categories\": [\"0\", \"1\", \"2\", \"3\", \"4\", \"5\", \"6\", \"7\", \"8\", \"9\", \"10\", \"11\", \"12\", \"13\", \"14\", \"15\", \"16\", \"17\", \"18\", \"19\", \"20\", \"21\"], \"mode\": \"markers\", \"name\": \"matthews_correlation\", \"stepped\": false, \"type\": \"scatter\", \"data\": [0.5331260509652268, 0.5325272848770641, 0.0, 0.0, 0.1849685746738291, 0.20541117316964572, 0.0, 0.45063553059888223, 0.0, 0.22339186397996155, 0.0, 0.0, 0.5219380561626709, 0.10236951238367785, 0.0, 0.0, 0.0, 0.0, 0.0, 0.0, 0.5422756541158053, 0.5301839830281887]}, {\"categories\": [\"0\", \"1\", \"2\", \"3\", \"4\", \"5\", \"6\", \"7\", \"8\", \"9\", \"10\", \"11\", \"12\", \"13\", \"14\", \"15\", \"16\", \"17\", \"18\", \"19\", \"20\", \"21\"], \"mode\": \"lines\", \"name\": \"matthews_correlation_max\", \"stepped\": true, \"type\": \"scatter\", \"data\": [0.5331260509652268, 0.5331260509652268, 0.5331260509652268, 0.5331260509652268, 0.5331260509652268, 0.5331260509652268, 0.5331260509652268, 0.5331260509652268, 0.5331260509652268, 0.5331260509652268, 0.5331260509652268, 0.5331260509652268, 0.5331260509652268, 0.5331260509652268, 0.5331260509652268, 0.5331260509652268, 0.5331260509652268, 0.5331260509652268, 0.5331260509652268, 0.5331260509652268, 0.5422756541158053, 0.5422756541158053]}], \"AUC_weighted\": [{\"categories\": [\"0\", \"1\", \"2\", \"3\", \"4\", \"5\", \"6\", \"7\", \"8\", \"9\", \"10\", \"11\", \"12\", \"13\", \"14\", \"15\", \"16\", \"17\", \"18\", \"19\", \"20\", \"21\"], \"mode\": \"markers\", \"name\": \"AUC_weighted\", \"stepped\": false, \"type\": \"scatter\", \"data\": [0.9941196075391576, 0.9951618163320495, 0.9201811447499746, 0.7147638960676067, 0.815175783466704, 0.9510046963560952, 0.847754445691001, 0.9945155354563001, 0.7897862862549226, 0.9942663977778722, 0.8383697913370742, 0.8411577017167811, 0.9950464293063132, 0.9884086783721467, 0.7821445686236125, 0.7944952390106722, 0.8063795600635827, 0.8514410328826535, 0.9876108985315546, 0.8307926918386205, 0.9951670853977258, 0.995086546171664]}, {\"categories\": [\"0\", \"1\", \"2\", \"3\", \"4\", \"5\", \"6\", \"7\", \"8\", \"9\", \"10\", \"11\", \"12\", \"13\", \"14\", \"15\", \"16\", \"17\", \"18\", \"19\", \"20\", \"21\"], \"mode\": \"lines\", \"name\": \"AUC_weighted_max\", \"stepped\": true, \"type\": \"scatter\", \"data\": [0.9941196075391576, 0.9951618163320495, 0.9951618163320495, 0.9951618163320495, 0.9951618163320495, 0.9951618163320495, 0.9951618163320495, 0.9951618163320495, 0.9951618163320495, 0.9951618163320495, 0.9951618163320495, 0.9951618163320495, 0.9951618163320495, 0.9951618163320495, 0.9951618163320495, 0.9951618163320495, 0.9951618163320495, 0.9951618163320495, 0.9951618163320495, 0.9951618163320495, 0.9951670853977258, 0.9951670853977258]}], \"recall_score_weighted\": [{\"categories\": [\"0\", \"1\", \"2\", \"3\", \"4\", \"5\", \"6\", \"7\", \"8\", \"9\", \"10\", \"11\", \"12\", \"13\", \"14\", \"15\", \"16\", \"17\", \"18\", \"19\", \"20\", \"21\"], \"mode\": \"markers\", \"name\": \"recall_score_weighted\", \"stepped\": false, \"type\": \"scatter\", \"data\": [0.9923916229377561, 0.9928821378331101, 0.9911162902693592, 0.9911162902693592, 0.6796930547455101, 0.8730990804800799, 0.9911162902693592, 0.9920319114204253, 0.9911162902693592, 0.991650408072934, 0.9911162902693592, 0.9911162902693592, 0.9927513326728737, 0.9910072894147738, 0.9911162902693592, 0.9911162902693592, 0.9911162902693592, 0.9911162902693592, 0.9911162902693592, 0.9911162902693592, 0.9930565423371412, 0.9928385349248895]}, {\"categories\": [\"0\", \"1\", \"2\", \"3\", \"4\", \"5\", \"6\", \"7\", \"8\", \"9\", \"10\", \"11\", \"12\", \"13\", \"14\", \"15\", \"16\", \"17\", \"18\", \"19\", \"20\", \"21\"], \"mode\": \"lines\", \"name\": \"recall_score_weighted_max\", \"stepped\": true, \"type\": \"scatter\", \"data\": [0.9923916229377561, 0.9928821378331101, 0.9928821378331101, 0.9928821378331101, 0.9928821378331101, 0.9928821378331101, 0.9928821378331101, 0.9928821378331101, 0.9928821378331101, 0.9928821378331101, 0.9928821378331101, 0.9928821378331101, 0.9928821378331101, 0.9928821378331101, 0.9928821378331101, 0.9928821378331101, 0.9928821378331101, 0.9928821378331101, 0.9928821378331101, 0.9928821378331101, 0.9930565423371412, 0.9930565423371412]}], \"log_loss\": [{\"categories\": [\"0\", \"1\", \"2\", \"3\", \"4\", \"5\", \"6\", \"7\", \"8\", \"9\", \"10\", \"11\", \"12\", \"13\", \"14\", \"15\", \"16\", \"17\", \"18\", \"19\", \"20\", \"21\"], \"mode\": \"markers\", \"name\": \"log_loss\", \"stepped\": false, \"type\": \"scatter\", \"data\": [0.019420681517549523, 0.015266572661832964, 0.0392901779998196, 0.04993794032671067, 0.6597501453736715, 0.5545480190587702, 0.04235774018302358, 0.2083116924900188, 0.046992713991160395, 0.019242948286966464, 0.04327785821803487, 0.04281725677792612, 0.019048975770928057, 0.021168450965454878, 0.0478306469622758, 0.04685114651496244, 0.04769412165519974, 0.04205916122011406, 0.020387544217516457, 0.04824966050548959, 0.22420653087174172, 0.020045866123095165]}, {\"categories\": [\"0\", \"1\", \"2\", \"3\", \"4\", \"5\", \"6\", \"7\", \"8\", \"9\", \"10\", \"11\", \"12\", \"13\", \"14\", \"15\", \"16\", \"17\", \"18\", \"19\", \"20\", \"21\"], \"mode\": \"lines\", \"name\": \"log_loss_min\", \"stepped\": true, \"type\": \"scatter\", \"data\": [0.019420681517549523, 0.015266572661832964, 0.015266572661832964, 0.015266572661832964, 0.015266572661832964, 0.015266572661832964, 0.015266572661832964, 0.015266572661832964, 0.015266572661832964, 0.015266572661832964, 0.015266572661832964, 0.015266572661832964, 0.015266572661832964, 0.015266572661832964, 0.015266572661832964, 0.015266572661832964, 0.015266572661832964, 0.015266572661832964, 0.015266572661832964, 0.015266572661832964, 0.015266572661832964, 0.015266572661832964]}], \"precision_score_micro\": [{\"categories\": [\"0\", \"1\", \"2\", \"3\", \"4\", \"5\", \"6\", \"7\", \"8\", \"9\", \"10\", \"11\", \"12\", \"13\", \"14\", \"15\", \"16\", \"17\", \"18\", \"19\", \"20\", \"21\"], \"mode\": \"markers\", \"name\": \"precision_score_micro\", \"stepped\": false, \"type\": \"scatter\", \"data\": [0.9923916229377561, 0.9928821378331101, 0.9911162902693592, 0.9911162902693592, 0.6796930547455101, 0.8730990804800799, 0.9911162902693592, 0.9920319114204253, 0.9911162902693592, 0.991650408072934, 0.9911162902693592, 0.9911162902693592, 0.9927513326728737, 0.9910072894147738, 0.9911162902693592, 0.9911162902693592, 0.9911162902693592, 0.9911162902693592, 0.9911162902693592, 0.9911162902693592, 0.9930565423371412, 0.9928385349248895]}, {\"categories\": [\"0\", \"1\", \"2\", \"3\", \"4\", \"5\", \"6\", \"7\", \"8\", \"9\", \"10\", \"11\", \"12\", \"13\", \"14\", \"15\", \"16\", \"17\", \"18\", \"19\", \"20\", \"21\"], \"mode\": \"lines\", \"name\": \"precision_score_micro_max\", \"stepped\": true, \"type\": \"scatter\", \"data\": [0.9923916229377561, 0.9928821378331101, 0.9928821378331101, 0.9928821378331101, 0.9928821378331101, 0.9928821378331101, 0.9928821378331101, 0.9928821378331101, 0.9928821378331101, 0.9928821378331101, 0.9928821378331101, 0.9928821378331101, 0.9928821378331101, 0.9928821378331101, 0.9928821378331101, 0.9928821378331101, 0.9928821378331101, 0.9928821378331101, 0.9928821378331101, 0.9928821378331101, 0.9930565423371412, 0.9930565423371412]}], \"balanced_accuracy\": [{\"categories\": [\"0\", \"1\", \"2\", \"3\", \"4\", \"5\", \"6\", \"7\", \"8\", \"9\", \"10\", \"11\", \"12\", \"13\", \"14\", \"15\", \"16\", \"17\", \"18\", \"19\", \"20\", \"21\"], \"mode\": \"markers\", \"name\": \"balanced_accuracy\", \"stepped\": false, \"type\": \"scatter\", \"data\": [0.7452291805656396, 0.7221714510074877, 0.5, 0.5, 0.7784672091456807, 0.8703707012215683, 0.5, 0.6773800763982404, 0.5, 0.5402504921263894, 0.5, 0.5, 0.7163086082583096, 0.5134410563155689, 0.5, 0.5, 0.5, 0.5, 0.5, 0.5, 0.7248329234702887, 0.7225164162805107]}, {\"categories\": [\"0\", \"1\", \"2\", \"3\", \"4\", \"5\", \"6\", \"7\", \"8\", \"9\", \"10\", \"11\", \"12\", \"13\", \"14\", \"15\", \"16\", \"17\", \"18\", \"19\", \"20\", \"21\"], \"mode\": \"lines\", \"name\": \"balanced_accuracy_max\", \"stepped\": true, \"type\": \"scatter\", \"data\": [0.7452291805656396, 0.7452291805656396, 0.7452291805656396, 0.7452291805656396, 0.7784672091456807, 0.8703707012215683, 0.8703707012215683, 0.8703707012215683, 0.8703707012215683, 0.8703707012215683, 0.8703707012215683, 0.8703707012215683, 0.8703707012215683, 0.8703707012215683, 0.8703707012215683, 0.8703707012215683, 0.8703707012215683, 0.8703707012215683, 0.8703707012215683, 0.8703707012215683, 0.8703707012215683, 0.8703707012215683]}], \"norm_macro_recall\": [{\"categories\": [\"0\", \"1\", \"2\", \"3\", \"4\", \"5\", \"6\", \"7\", \"8\", \"9\", \"10\", \"11\", \"12\", \"13\", \"14\", \"15\", \"16\", \"17\", \"18\", \"19\", \"20\", \"21\"], \"mode\": \"markers\", \"name\": \"norm_macro_recall\", \"stepped\": false, \"type\": \"scatter\", \"data\": [0.49045836113127944, 0.44434290201497534, 0.0, 0.0, 0.556934418291361, 0.7407414024431368, 0.0, 0.35476015279648054, 0.0, 0.08050098425277878, 0.0, 0.0, 0.4326172165166189, 0.02688211263113775, 0.0, 0.0, 0.0, 0.0, 0.0, 0.0, 0.4496658469405774, 0.4450328325610213]}, {\"categories\": [\"0\", \"1\", \"2\", \"3\", \"4\", \"5\", \"6\", \"7\", \"8\", \"9\", \"10\", \"11\", \"12\", \"13\", \"14\", \"15\", \"16\", \"17\", \"18\", \"19\", \"20\", \"21\"], \"mode\": \"lines\", \"name\": \"norm_macro_recall_max\", \"stepped\": true, \"type\": \"scatter\", \"data\": [0.49045836113127944, 0.49045836113127944, 0.49045836113127944, 0.49045836113127944, 0.556934418291361, 0.7407414024431368, 0.7407414024431368, 0.7407414024431368, 0.7407414024431368, 0.7407414024431368, 0.7407414024431368, 0.7407414024431368, 0.7407414024431368, 0.7407414024431368, 0.7407414024431368, 0.7407414024431368, 0.7407414024431368, 0.7407414024431368, 0.7407414024431368, 0.7407414024431368, 0.7407414024431368, 0.7407414024431368]}], \"f1_score_macro\": [{\"categories\": [\"0\", \"1\", \"2\", \"3\", \"4\", \"5\", \"6\", \"7\", \"8\", \"9\", \"10\", \"11\", \"12\", \"13\", \"14\", \"15\", \"16\", \"17\", \"18\", \"19\", \"20\", \"21\"], \"mode\": \"markers\", \"name\": \"f1_score_macro\", \"stepped\": false, \"type\": \"scatter\", \"data\": [0.7655837132716242, 0.7616308457010988, 0.4977691436053952, 0.4977691436053952, 0.4503663464587911, 0.5204943346500691, 0.4977691436053952, 0.7167848218282772, 0.4977691436053952, 0.5680162753910581, 0.4977691436053952, 0.4977691436053952, 0.7561376680091422, 0.522950974114739, 0.4977691436053952, 0.4977691436053952, 0.4977691436053952, 0.4977691436053952, 0.4977691436053952, 0.4977691436053952, 0.765877320244781, 0.7600340861942606]}, {\"categories\": [\"0\", \"1\", \"2\", \"3\", \"4\", \"5\", \"6\", \"7\", \"8\", \"9\", \"10\", \"11\", \"12\", \"13\", \"14\", \"15\", \"16\", \"17\", \"18\", \"19\", \"20\", \"21\"], \"mode\": \"lines\", \"name\": \"f1_score_macro_max\", \"stepped\": true, \"type\": \"scatter\", \"data\": [0.7655837132716242, 0.7655837132716242, 0.7655837132716242, 0.7655837132716242, 0.7655837132716242, 0.7655837132716242, 0.7655837132716242, 0.7655837132716242, 0.7655837132716242, 0.7655837132716242, 0.7655837132716242, 0.7655837132716242, 0.7655837132716242, 0.7655837132716242, 0.7655837132716242, 0.7655837132716242, 0.7655837132716242, 0.7655837132716242, 0.7655837132716242, 0.7655837132716242, 0.765877320244781, 0.765877320244781]}], \"f1_score_weighted\": [{\"categories\": [\"0\", \"1\", \"2\", \"3\", \"4\", \"5\", \"6\", \"7\", \"8\", \"9\", \"10\", \"11\", \"12\", \"13\", \"14\", \"15\", \"16\", \"17\", \"18\", \"19\", \"20\", \"21\"], \"mode\": \"markers\", \"name\": \"f1_score_weighted\", \"stepped\": false, \"type\": \"scatter\", \"data\": [0.9920743833149747, 0.9922483804836527, 0.9866942933279278, 0.9866942933279278, 0.7727762556396355, 0.9243315992351301, 0.9866942933279278, 0.9910017014646316, 0.9866942933279278, 0.9882279920495688, 0.9866942933279278, 0.9866942933279278, 0.9920787842668081, 0.9870832166676733, 0.9866942933279278, 0.9866942933279278, 0.9866942933279278, 0.9866942933279278, 0.9866942933279278, 0.9866942933279278, 0.9924085536738451, 0.9921921143668123]}, {\"categories\": [\"0\", \"1\", \"2\", \"3\", \"4\", \"5\", \"6\", \"7\", \"8\", \"9\", \"10\", \"11\", \"12\", \"13\", \"14\", \"15\", \"16\", \"17\", \"18\", \"19\", \"20\", \"21\"], \"mode\": \"lines\", \"name\": \"f1_score_weighted_max\", \"stepped\": true, \"type\": \"scatter\", \"data\": [0.9920743833149747, 0.9922483804836527, 0.9922483804836527, 0.9922483804836527, 0.9922483804836527, 0.9922483804836527, 0.9922483804836527, 0.9922483804836527, 0.9922483804836527, 0.9922483804836527, 0.9922483804836527, 0.9922483804836527, 0.9922483804836527, 0.9922483804836527, 0.9922483804836527, 0.9922483804836527, 0.9922483804836527, 0.9922483804836527, 0.9922483804836527, 0.9922483804836527, 0.9924085536738451, 0.9924085536738451]}], \"AUC_macro\": [{\"categories\": [\"0\", \"1\", \"2\", \"3\", \"4\", \"5\", \"6\", \"7\", \"8\", \"9\", \"10\", \"11\", \"12\", \"13\", \"14\", \"15\", \"16\", \"17\", \"18\", \"19\", \"20\", \"21\"], \"mode\": \"markers\", \"name\": \"AUC_macro\", \"stepped\": false, \"type\": \"scatter\", \"data\": [0.9941196075391575, 0.9951618163320495, 0.9201811447499745, 0.7147638960676067, 0.8151757834667043, 0.9510046963560951, 0.847754445691001, 0.9945155354563001, 0.7897862862549226, 0.9942663977778722, 0.8383697913370742, 0.841157701716781, 0.9950464397376934, 0.988408678372147, 0.7821445686236123, 0.7944952390106721, 0.8063795600635828, 0.8514410328826535, 0.9876108985315546, 0.8307926918386205, 0.9951670853977257, 0.995086546171664]}, {\"categories\": [\"0\", \"1\", \"2\", \"3\", \"4\", \"5\", \"6\", \"7\", \"8\", \"9\", \"10\", \"11\", \"12\", \"13\", \"14\", \"15\", \"16\", \"17\", \"18\", \"19\", \"20\", \"21\"], \"mode\": \"lines\", \"name\": \"AUC_macro_max\", \"stepped\": true, \"type\": \"scatter\", \"data\": [0.9941196075391575, 0.9951618163320495, 0.9951618163320495, 0.9951618163320495, 0.9951618163320495, 0.9951618163320495, 0.9951618163320495, 0.9951618163320495, 0.9951618163320495, 0.9951618163320495, 0.9951618163320495, 0.9951618163320495, 0.9951618163320495, 0.9951618163320495, 0.9951618163320495, 0.9951618163320495, 0.9951618163320495, 0.9951618163320495, 0.9951618163320495, 0.9951618163320495, 0.9951670853977257, 0.9951670853977257]}], \"f1_score_micro\": [{\"categories\": [\"0\", \"1\", \"2\", \"3\", \"4\", \"5\", \"6\", \"7\", \"8\", \"9\", \"10\", \"11\", \"12\", \"13\", \"14\", \"15\", \"16\", \"17\", \"18\", \"19\", \"20\", \"21\"], \"mode\": \"markers\", \"name\": \"f1_score_micro\", \"stepped\": false, \"type\": \"scatter\", \"data\": [0.9923916229377561, 0.9928821378331101, 0.9911162902693592, 0.9911162902693592, 0.6796930547455101, 0.8730990804800799, 0.9911162902693592, 0.9920319114204253, 0.9911162902693592, 0.991650408072934, 0.9911162902693592, 0.9911162902693592, 0.9927513326728737, 0.9910072894147738, 0.9911162902693592, 0.9911162902693592, 0.9911162902693592, 0.9911162902693592, 0.9911162902693592, 0.9911162902693592, 0.9930565423371412, 0.9928385349248895]}, {\"categories\": [\"0\", \"1\", \"2\", \"3\", \"4\", \"5\", \"6\", \"7\", \"8\", \"9\", \"10\", \"11\", \"12\", \"13\", \"14\", \"15\", \"16\", \"17\", \"18\", \"19\", \"20\", \"21\"], \"mode\": \"lines\", \"name\": \"f1_score_micro_max\", \"stepped\": true, \"type\": \"scatter\", \"data\": [0.9923916229377561, 0.9928821378331101, 0.9928821378331101, 0.9928821378331101, 0.9928821378331101, 0.9928821378331101, 0.9928821378331101, 0.9928821378331101, 0.9928821378331101, 0.9928821378331101, 0.9928821378331101, 0.9928821378331101, 0.9928821378331101, 0.9928821378331101, 0.9928821378331101, 0.9928821378331101, 0.9928821378331101, 0.9928821378331101, 0.9928821378331101, 0.9928821378331101, 0.9930565423371412, 0.9930565423371412]}], \"recall_score_macro\": [{\"categories\": [\"0\", \"1\", \"2\", \"3\", \"4\", \"5\", \"6\", \"7\", \"8\", \"9\", \"10\", \"11\", \"12\", \"13\", \"14\", \"15\", \"16\", \"17\", \"18\", \"19\", \"20\", \"21\"], \"mode\": \"markers\", \"name\": \"recall_score_macro\", \"stepped\": false, \"type\": \"scatter\", \"data\": [0.7452291805656396, 0.7221714510074877, 0.5, 0.5, 0.7784672091456807, 0.8703707012215683, 0.5, 0.6773800763982404, 0.5, 0.5402504921263894, 0.5, 0.5, 0.7163086082583096, 0.5134410563155689, 0.5, 0.5, 0.5, 0.5, 0.5, 0.5, 0.7248329234702887, 0.7225164162805107]}, {\"categories\": [\"0\", \"1\", \"2\", \"3\", \"4\", \"5\", \"6\", \"7\", \"8\", \"9\", \"10\", \"11\", \"12\", \"13\", \"14\", \"15\", \"16\", \"17\", \"18\", \"19\", \"20\", \"21\"], \"mode\": \"lines\", \"name\": \"recall_score_macro_max\", \"stepped\": true, \"type\": \"scatter\", \"data\": [0.7452291805656396, 0.7452291805656396, 0.7452291805656396, 0.7452291805656396, 0.7784672091456807, 0.8703707012215683, 0.8703707012215683, 0.8703707012215683, 0.8703707012215683, 0.8703707012215683, 0.8703707012215683, 0.8703707012215683, 0.8703707012215683, 0.8703707012215683, 0.8703707012215683, 0.8703707012215683, 0.8703707012215683, 0.8703707012215683, 0.8703707012215683, 0.8703707012215683, 0.8703707012215683, 0.8703707012215683]}], \"average_precision_score_micro\": [{\"categories\": [\"0\", \"1\", \"2\", \"3\", \"4\", \"5\", \"6\", \"7\", \"8\", \"9\", \"10\", \"11\", \"12\", \"13\", \"14\", \"15\", \"16\", \"17\", \"18\", \"19\", \"20\", \"21\"], \"mode\": \"markers\", \"name\": \"average_precision_score_micro\", \"stepped\": false, \"type\": \"scatter\", \"data\": [0.9998202884952411, 0.9998536140311888, 0.9983875001269489, 0.9938352328421519, 0.7941649231486383, 0.9435332202193353, 0.9970999928697131, 0.9998281588997312, 0.9960757958861195, 0.9998235489489401, 0.9969439312488925, 0.9969874852497792, 0.9998498534092439, 0.9997184560492339, 0.9959428457301822, 0.9960846693682995, 0.9963386639051593, 0.997196237881845, 0.9997048650837109, 0.9968381229225867, 0.999853918725674, 0.9998519615136137]}, {\"categories\": [\"0\", \"1\", \"2\", \"3\", \"4\", \"5\", \"6\", \"7\", \"8\", \"9\", \"10\", \"11\", \"12\", \"13\", \"14\", \"15\", \"16\", \"17\", \"18\", \"19\", \"20\", \"21\"], \"mode\": \"lines\", \"name\": \"average_precision_score_micro_max\", \"stepped\": true, \"type\": \"scatter\", \"data\": [0.9998202884952411, 0.9998536140311888, 0.9998536140311888, 0.9998536140311888, 0.9998536140311888, 0.9998536140311888, 0.9998536140311888, 0.9998536140311888, 0.9998536140311888, 0.9998536140311888, 0.9998536140311888, 0.9998536140311888, 0.9998536140311888, 0.9998536140311888, 0.9998536140311888, 0.9998536140311888, 0.9998536140311888, 0.9998536140311888, 0.9998536140311888, 0.9998536140311888, 0.999853918725674, 0.999853918725674]}]}, \"metricName\": null, \"primaryMetricName\": \"accuracy\", \"showLegend\": false}, \"run_metrics\": [{\"name\": \"average_precision_score_macro\", \"run_id\": \"AutoML_9cd16b49-bdbb-4146-b318-16de190d5c6f\", \"categories\": [0], \"series\": [{\"data\": [0.8031529586373184]}]}, {\"name\": \"matthews_correlation\", \"run_id\": \"AutoML_9cd16b49-bdbb-4146-b318-16de190d5c6f\", \"categories\": [0], \"series\": [{\"data\": [0.5422756541158053]}]}, {\"name\": \"recall_score_micro\", \"run_id\": \"AutoML_9cd16b49-bdbb-4146-b318-16de190d5c6f\", \"categories\": [0], \"series\": [{\"data\": [0.9930565423371412]}]}, {\"name\": \"AUC_micro\", \"run_id\": \"AutoML_9cd16b49-bdbb-4146-b318-16de190d5c6f\", \"categories\": [0], \"series\": [{\"data\": [0.9998530267179725]}]}, {\"name\": \"balanced_accuracy\", \"run_id\": \"AutoML_9cd16b49-bdbb-4146-b318-16de190d5c6f\", \"categories\": [0], \"series\": [{\"data\": [0.7248329234702887]}]}, {\"name\": \"AUC_macro\", \"run_id\": \"AutoML_9cd16b49-bdbb-4146-b318-16de190d5c6f\", \"categories\": [0], \"series\": [{\"data\": [0.9951670853977257]}]}, {\"name\": \"f1_score_micro\", \"run_id\": \"AutoML_9cd16b49-bdbb-4146-b318-16de190d5c6f\", \"categories\": [0], \"series\": [{\"data\": [0.9930565423371412]}]}, {\"name\": \"average_precision_score_micro\", \"run_id\": \"AutoML_9cd16b49-bdbb-4146-b318-16de190d5c6f\", \"categories\": [0], \"series\": [{\"data\": [0.999853918725674]}]}, {\"name\": \"precision_score_weighted\", \"run_id\": \"AutoML_9cd16b49-bdbb-4146-b318-16de190d5c6f\", \"categories\": [0], \"series\": [{\"data\": [0.9921426132656436]}]}, {\"name\": \"norm_macro_recall\", \"run_id\": \"AutoML_9cd16b49-bdbb-4146-b318-16de190d5c6f\", \"categories\": [0], \"series\": [{\"data\": [0.4496658469405774]}]}, {\"name\": \"f1_score_weighted\", \"run_id\": \"AutoML_9cd16b49-bdbb-4146-b318-16de190d5c6f\", \"categories\": [0], \"series\": [{\"data\": [0.9924085536738451]}]}, {\"name\": \"weighted_accuracy\", \"run_id\": \"AutoML_9cd16b49-bdbb-4146-b318-16de190d5c6f\", \"categories\": [0], \"series\": [{\"data\": [0.9978665125624678]}]}, {\"name\": \"recall_score_macro\", \"run_id\": \"AutoML_9cd16b49-bdbb-4146-b318-16de190d5c6f\", \"categories\": [0], \"series\": [{\"data\": [0.7248329234702887]}]}, {\"name\": \"f1_score_macro\", \"run_id\": \"AutoML_9cd16b49-bdbb-4146-b318-16de190d5c6f\", \"categories\": [0], \"series\": [{\"data\": [0.765877320244781]}]}, {\"name\": \"precision_score_macro\", \"run_id\": \"AutoML_9cd16b49-bdbb-4146-b318-16de190d5c6f\", \"categories\": [0], \"series\": [{\"data\": [0.8277757282327668]}]}, {\"name\": \"average_precision_score_weighted\", \"run_id\": \"AutoML_9cd16b49-bdbb-4146-b318-16de190d5c6f\", \"categories\": [0], \"series\": [{\"data\": [0.9964667129974561]}]}, {\"name\": \"accuracy\", \"run_id\": \"AutoML_9cd16b49-bdbb-4146-b318-16de190d5c6f\", \"categories\": [0], \"series\": [{\"data\": [0.9930565423371412]}]}, {\"name\": \"precision_score_micro\", \"run_id\": \"AutoML_9cd16b49-bdbb-4146-b318-16de190d5c6f\", \"categories\": [0], \"series\": [{\"data\": [0.9930565423371412]}]}, {\"name\": \"AUC_weighted\", \"run_id\": \"AutoML_9cd16b49-bdbb-4146-b318-16de190d5c6f\", \"categories\": [0], \"series\": [{\"data\": [0.9951670853977258]}]}, {\"name\": \"log_loss\", \"run_id\": \"AutoML_9cd16b49-bdbb-4146-b318-16de190d5c6f\", \"categories\": [0], \"series\": [{\"data\": [0.22420653087174172]}]}, {\"name\": \"recall_score_weighted\", \"run_id\": \"AutoML_9cd16b49-bdbb-4146-b318-16de190d5c6f\", \"categories\": [0], \"series\": [{\"data\": [0.9930565423371412]}]}], \"run_logs\": \"\\nRun is completed.\", \"graph\": {}, \"widget_settings\": {\"childWidgetDisplay\": \"popup\", \"send_telemetry\": false, \"log_level\": \"INFO\", \"sdk_version\": \"1.19.0\"}, \"loading\": false}"
          },
          "metadata": {}
        }
      ],
      "execution_count": 5,
      "metadata": {
        "gather": {
          "logged": 1611962869579
        },
        "jupyter": {
          "outputs_hidden": false,
          "source_hidden": false
        },
        "nteract": {
          "transient": {
            "deleting": false
          }
        }
      }
    },
    {
      "cell_type": "code",
      "source": [
        "experiment_run.wait_for_completion(show_output=True)"
      ],
      "outputs": [
        {
          "output_type": "stream",
          "name": "stdout",
          "text": [
            "\n",
            "\n",
            "****************************************************************************************************\n",
            "DATA GUARDRAILS: \n",
            "\n",
            "TYPE:         Class balancing detection\n",
            "STATUS:       ALERTED\n",
            "DESCRIPTION:  To decrease model bias, please cancel the current run and fix balancing problem.\n",
            "              Learn more about imbalanced data: https://aka.ms/AutomatedMLImbalancedData\n",
            "DETAILS:      Imbalanced data can lead to a falsely perceived positive effect of a model's accuracy because the input data has bias towards one class.\n",
            "+---------------------------------+---------------------------------+--------------------------------------+\n",
            "|Size of the smallest class       |Name/Label of the smallest class |Number of samples in the training data|\n",
            "+=================================+=================================+======================================+\n",
            "|815                              |TRUE                             |91741                                 |\n",
            "+---------------------------------+---------------------------------+--------------------------------------+\n",
            "\n",
            "****************************************************************************************************\n",
            "\n",
            "TYPE:         Missing feature values imputation\n",
            "STATUS:       PASSED\n",
            "DESCRIPTION:  No feature missing values were detected in the training data.\n",
            "              Learn more about missing value imputation: https://aka.ms/AutomatedMLFeaturization\n",
            "\n",
            "****************************************************************************************************\n",
            "\n",
            "TYPE:         High cardinality feature detection\n",
            "STATUS:       DONE\n",
            "DESCRIPTION:  High cardinality features were detected in your inputs and handled.\n",
            "              Learn more about high cardinality feature handling: https://aka.ms/AutomatedMLFeaturization\n",
            "DETAILS:      High cardinality features refer to columns that contain a large percentage of unique values.\n",
            "+---------------------------------+---------------------------------+\n",
            "|Column name                      |Column Content Type              |\n",
            "+=================================+=================================+\n",
            "|stop_time                        |categorical_hash                 |\n",
            "+---------------------------------+---------------------------------+\n",
            "\n",
            "****************************************************************************************************\n",
            "\n",
            "****************************************************************************************************\n",
            "ITERATION: The iteration being evaluated.\n",
            "PIPELINE: A summary description of the pipeline being evaluated.\n",
            "DURATION: Time taken for the current iteration.\n",
            "METRIC: The result of computing score on the fitted pipeline.\n",
            "BEST: The best observed score thus far.\n",
            "****************************************************************************************************\n",
            "\n",
            " ITERATION   PIPELINE                                       DURATION      METRIC      BEST\n",
            "         0   MaxAbsScaler LightGBM                          0:00:34       0.9924    0.9924\n",
            "         1   MaxAbsScaler XGBoostClassifier                 0:00:45       0.9929    0.9929\n",
            "         2   MaxAbsScaler RandomForest                      0:00:49       0.9911    0.9929\n",
            "         3   MaxAbsScaler RandomForest                      0:00:31       0.9911    0.9929\n",
            "         4   MaxAbsScaler RandomForest                      0:00:33       0.6797    0.9929\n",
            "         5   MaxAbsScaler RandomForest                      0:00:30       0.8731    0.9929\n",
            "         6   StandardScalerWrapper LightGBM                 0:01:05       0.9911    0.9929\n",
            "         7   SparseNormalizer XGBoostClassifier             0:00:50       0.9920    0.9929\n",
            "        10   MaxAbsScaler LightGBM                          0:00:43       0.9911    0.9929\n",
            "        11   StandardScalerWrapper LightGBM                 0:00:44       0.9911    0.9929\n",
            "        12   SparseNormalizer XGBoostClassifier             0:00:48       0.9928    0.9929\n",
            "        13   SparseNormalizer LightGBM                      0:00:35       0.9910    0.9929\n",
            "        14   StandardScalerWrapper LightGBM                 0:00:42       0.9911    0.9929\n",
            "        15   MaxAbsScaler GradientBoosting                  0:00:45       0.9911    0.9929\n",
            "         8   StandardScalerWrapper LightGBM                 0:00:29       0.9911    0.9929\n",
            "         9   SparseNormalizer LightGBM                      0:00:31       0.9917    0.9929\n",
            "        16   MaxAbsScaler LightGBM                          0:00:29       0.9911    0.9929\n",
            "        17   MaxAbsScaler LightGBM                          0:00:43       0.9911    0.9929\n",
            "        18   SparseNormalizer LightGBM                      0:00:49       0.9911    0.9929\n",
            "        19   MaxAbsScaler RandomForest                      0:00:46       0.9911    0.9929\n",
            "        20    VotingEnsemble                                0:00:56       0.9931    0.9931\n",
            "        21    StackEnsemble                                 0:01:29       0.9928    0.9931\n"
          ]
        },
        {
          "output_type": "execute_result",
          "execution_count": 6,
          "data": {
            "text/plain": "{'runId': 'AutoML_9cd16b49-bdbb-4146-b318-16de190d5c6f',\n 'target': 'local',\n 'status': 'Completed',\n 'startTimeUtc': '2021-01-29T23:09:11.526864Z',\n 'endTimeUtc': '2021-01-29T23:26:55.514798Z',\n 'properties': {'num_iterations': '30',\n  'training_type': 'TrainFull',\n  'acquisition_function': 'EI',\n  'primary_metric': 'accuracy',\n  'train_split': '0',\n  'acquisition_parameter': '0',\n  'num_cross_validation': '3',\n  'target': 'local',\n  'AMLSettingsJsonString': '{\"path\":null,\"name\":\"automlExperiment\",\"subscription_id\":\"091ee12e-98ac-4172-b48e-fa981b519954\",\"resource_group\":\"MiyachiGroup\",\"workspace_name\":\"Udacity\",\"region\":\"westus\",\"compute_target\":\"local\",\"spark_service\":null,\"azure_service\":\"Microsoft.AzureNotebookVM\",\"many_models\":false,\"pipeline_fetch_max_batch_size\":1,\"iterations\":30,\"primary_metric\":\"accuracy\",\"task_type\":\"classification\",\"data_script\":null,\"validation_size\":0.0,\"n_cross_validations\":3,\"y_min\":null,\"y_max\":null,\"num_classes\":2,\"featurization\":\"auto\",\"_ignore_package_version_incompatibilities\":false,\"is_timeseries\":false,\"max_cores_per_iteration\":-1,\"max_concurrent_iterations\":8,\"iteration_timeout_minutes\":null,\"mem_in_mb\":null,\"enforce_time_on_windows\":false,\"experiment_timeout_minutes\":15,\"experiment_exit_score\":null,\"whitelist_models\":null,\"blacklist_algos\":[\"TensorFlowLinearClassifier\",\"TensorFlowDNN\"],\"supported_models\":[\"GradientBoosting\",\"LinearSVM\",\"XGBoostClassifier\",\"KNN\",\"RandomForest\",\"LogisticRegression\",\"TensorFlowLinearClassifier\",\"DecisionTree\",\"ExtremeRandomTrees\",\"SGD\",\"AveragedPerceptronClassifier\",\"LightGBM\",\"TensorFlowDNN\",\"MultinomialNaiveBayes\",\"SVM\",\"BernoulliNaiveBayes\"],\"auto_blacklist\":true,\"blacklist_samples_reached\":false,\"exclude_nan_labels\":true,\"verbosity\":20,\"_debug_log\":\"automl_errors.log\",\"show_warnings\":false,\"model_explainability\":true,\"service_url\":null,\"sdk_url\":null,\"sdk_packages\":null,\"enable_onnx_compatible_models\":false,\"enable_split_onnx_featurizer_estimator_models\":false,\"vm_type\":null,\"telemetry_verbosity\":20,\"send_telemetry\":true,\"enable_dnn\":false,\"scenario\":\"SDK-1.13.0\",\"environment_label\":null,\"force_text_dnn\":false,\"enable_feature_sweeping\":true,\"enable_early_stopping\":false,\"early_stopping_n_iters\":10,\"metrics\":null,\"enable_ensembling\":true,\"enable_stack_ensembling\":true,\"ensemble_iterations\":15,\"enable_tf\":false,\"enable_subsampling\":false,\"subsample_seed\":null,\"enable_nimbusml\":false,\"enable_streaming\":false,\"force_streaming\":false,\"track_child_runs\":true,\"allowed_private_models\":[],\"label_column_name\":\"drugs_related_stop\",\"weight_column_name\":null,\"cv_split_column_names\":null,\"enable_local_managed\":false,\"_local_managed_run_id\":null,\"cost_mode\":1,\"lag_length\":0,\"metric_operation\":\"maximize\",\"preprocess\":true}',\n  'DataPrepJsonString': '{\\\\\"training_data\\\\\": \\\\\"{\\\\\\\\\\\\\"blocks\\\\\\\\\\\\\": [{\\\\\\\\\\\\\"id\\\\\\\\\\\\\": \\\\\\\\\\\\\"8b387421-b719-47a1-9db3-1d032eb60021\\\\\\\\\\\\\", \\\\\\\\\\\\\"type\\\\\\\\\\\\\": \\\\\\\\\\\\\"Microsoft.DPrep.GetDatastoreFilesBlock\\\\\\\\\\\\\", \\\\\\\\\\\\\"arguments\\\\\\\\\\\\\": {\\\\\\\\\\\\\"datastores\\\\\\\\\\\\\": [{\\\\\\\\\\\\\"datastoreName\\\\\\\\\\\\\": \\\\\\\\\\\\\"workspaceblobstore\\\\\\\\\\\\\", \\\\\\\\\\\\\"path\\\\\\\\\\\\\": \\\\\\\\\\\\\"UI/01-24-2021_104423_UTC/police_project.csv\\\\\\\\\\\\\", \\\\\\\\\\\\\"resourceGroup\\\\\\\\\\\\\": \\\\\\\\\\\\\"MiyachiGroup\\\\\\\\\\\\\", \\\\\\\\\\\\\"subscription\\\\\\\\\\\\\": \\\\\\\\\\\\\"091ee12e-98ac-4172-b48e-fa981b519954\\\\\\\\\\\\\", \\\\\\\\\\\\\"workspaceName\\\\\\\\\\\\\": \\\\\\\\\\\\\"Udacity\\\\\\\\\\\\\"}]}, \\\\\\\\\\\\\"localData\\\\\\\\\\\\\": {}, \\\\\\\\\\\\\"isEnabled\\\\\\\\\\\\\": true, \\\\\\\\\\\\\"name\\\\\\\\\\\\\": null, \\\\\\\\\\\\\"annotation\\\\\\\\\\\\\": null}, {\\\\\\\\\\\\\"id\\\\\\\\\\\\\": \\\\\\\\\\\\\"aa3be5c6-5c1b-4015-a8b9-cbf079326915\\\\\\\\\\\\\", \\\\\\\\\\\\\"type\\\\\\\\\\\\\": \\\\\\\\\\\\\"Microsoft.DPrep.ParseDelimitedBlock\\\\\\\\\\\\\", \\\\\\\\\\\\\"arguments\\\\\\\\\\\\\": {\\\\\\\\\\\\\"columnHeadersMode\\\\\\\\\\\\\": 1, \\\\\\\\\\\\\"fileEncoding\\\\\\\\\\\\\": 0, \\\\\\\\\\\\\"handleQuotedLineBreaks\\\\\\\\\\\\\": false, \\\\\\\\\\\\\"preview\\\\\\\\\\\\\": false, \\\\\\\\\\\\\"separator\\\\\\\\\\\\\": \\\\\\\\\\\\\",\\\\\\\\\\\\\", \\\\\\\\\\\\\"skipRows\\\\\\\\\\\\\": 0, \\\\\\\\\\\\\"skipRowsMode\\\\\\\\\\\\\": 0}, \\\\\\\\\\\\\"localData\\\\\\\\\\\\\": {}, \\\\\\\\\\\\\"isEnabled\\\\\\\\\\\\\": true, \\\\\\\\\\\\\"name\\\\\\\\\\\\\": null, \\\\\\\\\\\\\"annotation\\\\\\\\\\\\\": null}, {\\\\\\\\\\\\\"id\\\\\\\\\\\\\": \\\\\\\\\\\\\"96501f31-e034-4116-9474-1c1bd6b6c4d7\\\\\\\\\\\\\", \\\\\\\\\\\\\"type\\\\\\\\\\\\\": \\\\\\\\\\\\\"Microsoft.DPrep.DropColumnsBlock\\\\\\\\\\\\\", \\\\\\\\\\\\\"arguments\\\\\\\\\\\\\": {\\\\\\\\\\\\\"columns\\\\\\\\\\\\\": {\\\\\\\\\\\\\"type\\\\\\\\\\\\\": 0, \\\\\\\\\\\\\"details\\\\\\\\\\\\\": {\\\\\\\\\\\\\"selectedColumns\\\\\\\\\\\\\": [\\\\\\\\\\\\\"Path\\\\\\\\\\\\\"]}}}, \\\\\\\\\\\\\"localData\\\\\\\\\\\\\": {}, \\\\\\\\\\\\\"isEnabled\\\\\\\\\\\\\": true, \\\\\\\\\\\\\"name\\\\\\\\\\\\\": null, \\\\\\\\\\\\\"annotation\\\\\\\\\\\\\": null}, {\\\\\\\\\\\\\"id\\\\\\\\\\\\\": \\\\\\\\\\\\\"d0883fba-66aa-43f7-bc76-14d2cd008171\\\\\\\\\\\\\", \\\\\\\\\\\\\"type\\\\\\\\\\\\\": \\\\\\\\\\\\\"Microsoft.DPrep.SetColumnTypesBlock\\\\\\\\\\\\\", \\\\\\\\\\\\\"arguments\\\\\\\\\\\\\": {\\\\\\\\\\\\\"columnConversion\\\\\\\\\\\\\": [{\\\\\\\\\\\\\"column\\\\\\\\\\\\\": {\\\\\\\\\\\\\"type\\\\\\\\\\\\\": 2, \\\\\\\\\\\\\"details\\\\\\\\\\\\\": {\\\\\\\\\\\\\"selectedColumn\\\\\\\\\\\\\": \\\\\\\\\\\\\"Path\\\\\\\\\\\\\"}}, \\\\\\\\\\\\\"typeProperty\\\\\\\\\\\\\": 0}, {\\\\\\\\\\\\\"column\\\\\\\\\\\\\": {\\\\\\\\\\\\\"type\\\\\\\\\\\\\": 2, \\\\\\\\\\\\\"details\\\\\\\\\\\\\": {\\\\\\\\\\\\\"selectedColumn\\\\\\\\\\\\\": \\\\\\\\\\\\\"stop_date\\\\\\\\\\\\\"}}, \\\\\\\\\\\\\"typeArguments\\\\\\\\\\\\\": {\\\\\\\\\\\\\"dateTimeFormats\\\\\\\\\\\\\": [\\\\\\\\\\\\\"%m/%d/%Y\\\\\\\\\\\\\"]}, \\\\\\\\\\\\\"typeProperty\\\\\\\\\\\\\": 0}, {\\\\\\\\\\\\\"column\\\\\\\\\\\\\": {\\\\\\\\\\\\\"type\\\\\\\\\\\\\": 2, \\\\\\\\\\\\\"details\\\\\\\\\\\\\": {\\\\\\\\\\\\\"selectedColumn\\\\\\\\\\\\\": \\\\\\\\\\\\\"stop_time\\\\\\\\\\\\\"}}, \\\\\\\\\\\\\"typeProperty\\\\\\\\\\\\\": 0}, {\\\\\\\\\\\\\"column\\\\\\\\\\\\\": {\\\\\\\\\\\\\"type\\\\\\\\\\\\\": 2, \\\\\\\\\\\\\"details\\\\\\\\\\\\\": {\\\\\\\\\\\\\"selectedColumn\\\\\\\\\\\\\": \\\\\\\\\\\\\"county_name\\\\\\\\\\\\\"}}, \\\\\\\\\\\\\"typeProperty\\\\\\\\\\\\\": 0}, {\\\\\\\\\\\\\"column\\\\\\\\\\\\\": {\\\\\\\\\\\\\"type\\\\\\\\\\\\\": 2, \\\\\\\\\\\\\"details\\\\\\\\\\\\\": {\\\\\\\\\\\\\"selectedColumn\\\\\\\\\\\\\": \\\\\\\\\\\\\"driver_gender\\\\\\\\\\\\\"}}, \\\\\\\\\\\\\"typeProperty\\\\\\\\\\\\\": 0}, {\\\\\\\\\\\\\"column\\\\\\\\\\\\\": {\\\\\\\\\\\\\"type\\\\\\\\\\\\\": 2, \\\\\\\\\\\\\"details\\\\\\\\\\\\\": {\\\\\\\\\\\\\"selectedColumn\\\\\\\\\\\\\": \\\\\\\\\\\\\"driver_age\\\\\\\\\\\\\"}}, \\\\\\\\\\\\\"typeProperty\\\\\\\\\\\\\": 0}, {\\\\\\\\\\\\\"column\\\\\\\\\\\\\": {\\\\\\\\\\\\\"type\\\\\\\\\\\\\": 2, \\\\\\\\\\\\\"details\\\\\\\\\\\\\": {\\\\\\\\\\\\\"selectedColumn\\\\\\\\\\\\\": \\\\\\\\\\\\\"driver_race\\\\\\\\\\\\\"}}, \\\\\\\\\\\\\"typeProperty\\\\\\\\\\\\\": 0}, {\\\\\\\\\\\\\"column\\\\\\\\\\\\\": {\\\\\\\\\\\\\"type\\\\\\\\\\\\\": 2, \\\\\\\\\\\\\"details\\\\\\\\\\\\\": {\\\\\\\\\\\\\"selectedColumn\\\\\\\\\\\\\": \\\\\\\\\\\\\"violation\\\\\\\\\\\\\"}}, \\\\\\\\\\\\\"typeProperty\\\\\\\\\\\\\": 0}, {\\\\\\\\\\\\\"column\\\\\\\\\\\\\": {\\\\\\\\\\\\\"type\\\\\\\\\\\\\": 2, \\\\\\\\\\\\\"details\\\\\\\\\\\\\": {\\\\\\\\\\\\\"selectedColumn\\\\\\\\\\\\\": \\\\\\\\\\\\\"search_conducted\\\\\\\\\\\\\"}}, \\\\\\\\\\\\\"typeProperty\\\\\\\\\\\\\": 0}, {\\\\\\\\\\\\\"column\\\\\\\\\\\\\": {\\\\\\\\\\\\\"type\\\\\\\\\\\\\": 2, \\\\\\\\\\\\\"details\\\\\\\\\\\\\": {\\\\\\\\\\\\\"selectedColumn\\\\\\\\\\\\\": \\\\\\\\\\\\\"search_type\\\\\\\\\\\\\"}}, \\\\\\\\\\\\\"typeProperty\\\\\\\\\\\\\": 0}, {\\\\\\\\\\\\\"column\\\\\\\\\\\\\": {\\\\\\\\\\\\\"type\\\\\\\\\\\\\": 2, \\\\\\\\\\\\\"details\\\\\\\\\\\\\": {\\\\\\\\\\\\\"selectedColumn\\\\\\\\\\\\\": \\\\\\\\\\\\\"stop_outcome\\\\\\\\\\\\\"}}, \\\\\\\\\\\\\"typeProperty\\\\\\\\\\\\\": 0}, {\\\\\\\\\\\\\"column\\\\\\\\\\\\\": {\\\\\\\\\\\\\"type\\\\\\\\\\\\\": 2, \\\\\\\\\\\\\"details\\\\\\\\\\\\\": {\\\\\\\\\\\\\"selectedColumn\\\\\\\\\\\\\": \\\\\\\\\\\\\"is_arrested\\\\\\\\\\\\\"}}, \\\\\\\\\\\\\"typeProperty\\\\\\\\\\\\\": 0}, {\\\\\\\\\\\\\"column\\\\\\\\\\\\\": {\\\\\\\\\\\\\"type\\\\\\\\\\\\\": 2, \\\\\\\\\\\\\"details\\\\\\\\\\\\\": {\\\\\\\\\\\\\"selectedColumn\\\\\\\\\\\\\": \\\\\\\\\\\\\"stop_duration\\\\\\\\\\\\\"}}, \\\\\\\\\\\\\"typeProperty\\\\\\\\\\\\\": 0}, {\\\\\\\\\\\\\"column\\\\\\\\\\\\\": {\\\\\\\\\\\\\"type\\\\\\\\\\\\\": 2, \\\\\\\\\\\\\"details\\\\\\\\\\\\\": {\\\\\\\\\\\\\"selectedColumn\\\\\\\\\\\\\": \\\\\\\\\\\\\"drugs_related_stop\\\\\\\\\\\\\"}}, \\\\\\\\\\\\\"typeProperty\\\\\\\\\\\\\": 0}]}, \\\\\\\\\\\\\"localData\\\\\\\\\\\\\": {}, \\\\\\\\\\\\\"isEnabled\\\\\\\\\\\\\": true, \\\\\\\\\\\\\"name\\\\\\\\\\\\\": null, \\\\\\\\\\\\\"annotation\\\\\\\\\\\\\": null}], \\\\\\\\\\\\\"inspectors\\\\\\\\\\\\\": [], \\\\\\\\\\\\\"meta\\\\\\\\\\\\\": {\\\\\\\\\\\\\"savedDatasetId\\\\\\\\\\\\\": \\\\\\\\\\\\\"808c3472-312e-4bc6-b6ac-8c2d4aa8138c\\\\\\\\\\\\\", \\\\\\\\\\\\\"datasetType\\\\\\\\\\\\\": \\\\\\\\\\\\\"tabular\\\\\\\\\\\\\", \\\\\\\\\\\\\"subscriptionId\\\\\\\\\\\\\": \\\\\\\\\\\\\"091ee12e-98ac-4172-b48e-fa981b519954\\\\\\\\\\\\\", \\\\\\\\\\\\\"workspaceId\\\\\\\\\\\\\": \\\\\\\\\\\\\"65306132-fd37-4877-abc5-b72f016b9ce3\\\\\\\\\\\\\", \\\\\\\\\\\\\"workspaceLocation\\\\\\\\\\\\\": \\\\\\\\\\\\\"westus\\\\\\\\\\\\\"}}\\\\\", \\\\\"activities\\\\\": 0}',\n  'EnableSubsampling': 'False',\n  'runTemplate': 'AutoML',\n  'azureml.runsource': 'automl',\n  'display_task_type': 'classification',\n  'dependencies_versions': '{\"azureml-widgets\": \"1.19.0\", \"azureml-train\": \"1.19.0\", \"azureml-train-restclients-hyperdrive\": \"1.19.0\", \"azureml-train-core\": \"1.19.0\", \"azureml-train-automl\": \"1.19.0\", \"azureml-train-automl-runtime\": \"1.19.0\", \"azureml-train-automl-client\": \"1.19.0\", \"azureml-tensorboard\": \"1.19.0\", \"azureml-telemetry\": \"1.19.0\", \"azureml-sdk\": \"1.19.0\", \"azureml-samples\": \"0+unknown\", \"azureml-pipeline\": \"1.19.0\", \"azureml-pipeline-steps\": \"1.19.0\", \"azureml-pipeline-core\": \"1.19.0\", \"azureml-opendatasets\": \"1.19.0\", \"azureml-model-management-sdk\": \"1.0.1b6.post1\", \"azureml-mlflow\": \"1.19.0\", \"azureml-interpret\": \"1.19.0\", \"azureml-explain-model\": \"1.19.0\", \"azureml-defaults\": \"1.19.0\", \"azureml-dataset-runtime\": \"1.19.0.post1\", \"azureml-dataprep\": \"2.6.1\", \"azureml-dataprep-rslex\": \"1.4.0\", \"azureml-dataprep-native\": \"26.0.0\", \"azureml-datadrift\": \"1.19.0\", \"azureml-core\": \"1.19.0\", \"azureml-contrib-services\": \"1.19.0\", \"azureml-contrib-server\": \"1.19.0\", \"azureml-contrib-reinforcementlearning\": \"1.19.0\", \"azureml-contrib-pipeline-steps\": \"1.19.0\", \"azureml-contrib-notebook\": \"1.19.0\", \"azureml-contrib-interpret\": \"1.19.0\", \"azureml-contrib-gbdt\": \"1.19.0\", \"azureml-contrib-fairness\": \"1.19.0\", \"azureml-contrib-dataset\": \"1.19.0\", \"azureml-cli-common\": \"1.19.0\", \"azureml-automl-runtime\": \"1.19.0\", \"azureml-automl-core\": \"1.19.0\", \"azureml-accel-models\": \"1.19.0\"}',\n  '_aml_system_scenario_identification': 'Local.Parent',\n  'ClientSdkVersion': '1.19.0',\n  'ClientType': 'SDK',\n  'environment_cpu_name': 'AzureML-AutoML',\n  'environment_cpu_label': 'prod',\n  'environment_gpu_name': 'AzureML-AutoML-GPU',\n  'environment_gpu_label': 'prod',\n  'root_attribution': 'automl',\n  'attribution': 'AutoML',\n  'Orchestrator': 'AutoML',\n  '_azureml.ComputeTargetType': 'local',\n  'ProblemInfoJsonString': '{\"dataset_num_categorical\": 0, \"is_sparse\": true, \"subsampling\": false, \"dataset_classes\": 2, \"dataset_features\": 1171, \"dataset_samples\": 91741, \"single_frequency_class_detected\": false}',\n  'feature_skus': 'automatedml_sdk_guardrails'},\n 'inputDatasets': [{'dataset': {'id': '808c3472-312e-4bc6-b6ac-8c2d4aa8138c'}, 'consumptionDetails': {'type': 'RunInput', 'inputName': 'training_data', 'mechanism': 'Direct'}}],\n 'outputDatasets': [],\n 'logFiles': {}}"
          },
          "metadata": {}
        }
      ],
      "execution_count": 6,
      "metadata": {
        "collapsed": true,
        "jupyter": {
          "source_hidden": false,
          "outputs_hidden": false
        },
        "nteract": {
          "transient": {
            "deleting": false
          }
        },
        "gather": {
          "logged": 1611962955862
        }
      }
    },
    {
      "cell_type": "code",
      "source": [
        "RunDetails(experiment_run).show()\r\n"
      ],
      "outputs": [
        {
          "output_type": "display_data",
          "data": {
            "text/plain": "_AutoMLWidget(widget_settings={'childWidgetDisplay': 'popup', 'send_telemetry': False, 'log_level': 'INFO', 's…",
            "application/vnd.jupyter.widget-view+json": {
              "version_major": 2,
              "version_minor": 0,
              "model_id": "81b80dce25964ebdbec04eeee2f4ab5a"
            }
          },
          "metadata": {}
        },
        {
          "output_type": "display_data",
          "data": {
            "application/aml.mini.widget.v1": "{\"status\": \"Completed\", \"workbench_run_details_uri\": \"https://ml.azure.com/experiments/automlExperiment/runs/AutoML_801646f4-b90e-4143-8665-de9e8eed94f6?wsid=/subscriptions/091ee12e-98ac-4172-b48e-fa981b519954/resourcegroups/MiyachiGroup/workspaces/Udacity\", \"run_id\": \"AutoML_801646f4-b90e-4143-8665-de9e8eed94f6\", \"run_properties\": {\"run_id\": \"AutoML_801646f4-b90e-4143-8665-de9e8eed94f6\", \"created_utc\": \"2021-01-28T20:45:22.558735Z\", \"properties\": {\"num_iterations\": \"30\", \"training_type\": \"TrainFull\", \"acquisition_function\": \"EI\", \"primary_metric\": \"accuracy\", \"train_split\": \"0\", \"acquisition_parameter\": \"0\", \"num_cross_validation\": \"3\", \"target\": \"local\", \"AMLSettingsJsonString\": \"{\\\"path\\\":null,\\\"name\\\":\\\"automlExperiment\\\",\\\"subscription_id\\\":\\\"091ee12e-98ac-4172-b48e-fa981b519954\\\",\\\"resource_group\\\":\\\"MiyachiGroup\\\",\\\"workspace_name\\\":\\\"Udacity\\\",\\\"region\\\":\\\"westus\\\",\\\"compute_target\\\":\\\"local\\\",\\\"spark_service\\\":null,\\\"azure_service\\\":\\\"Microsoft.AzureNotebookVM\\\",\\\"many_models\\\":false,\\\"pipeline_fetch_max_batch_size\\\":1,\\\"iterations\\\":30,\\\"primary_metric\\\":\\\"accuracy\\\",\\\"task_type\\\":\\\"classification\\\",\\\"data_script\\\":null,\\\"validation_size\\\":0.0,\\\"n_cross_validations\\\":3,\\\"y_min\\\":null,\\\"y_max\\\":null,\\\"num_classes\\\":2,\\\"featurization\\\":\\\"auto\\\",\\\"_ignore_package_version_incompatibilities\\\":false,\\\"is_timeseries\\\":false,\\\"max_cores_per_iteration\\\":-1,\\\"max_concurrent_iterations\\\":8,\\\"iteration_timeout_minutes\\\":null,\\\"mem_in_mb\\\":null,\\\"enforce_time_on_windows\\\":false,\\\"experiment_timeout_minutes\\\":15,\\\"experiment_exit_score\\\":null,\\\"whitelist_models\\\":null,\\\"blacklist_algos\\\":[\\\"TensorFlowLinearClassifier\\\",\\\"TensorFlowDNN\\\"],\\\"supported_models\\\":[\\\"LinearSVM\\\",\\\"LightGBM\\\",\\\"RandomForest\\\",\\\"LogisticRegression\\\",\\\"KNN\\\",\\\"BernoulliNaiveBayes\\\",\\\"TensorFlowDNN\\\",\\\"ExtremeRandomTrees\\\",\\\"TensorFlowLinearClassifier\\\",\\\"SGD\\\",\\\"XGBoostClassifier\\\",\\\"GradientBoosting\\\",\\\"AveragedPerceptronClassifier\\\",\\\"MultinomialNaiveBayes\\\",\\\"DecisionTree\\\",\\\"SVM\\\"],\\\"auto_blacklist\\\":true,\\\"blacklist_samples_reached\\\":false,\\\"exclude_nan_labels\\\":true,\\\"verbosity\\\":20,\\\"_debug_log\\\":\\\"automl_errors.log\\\",\\\"show_warnings\\\":false,\\\"model_explainability\\\":true,\\\"service_url\\\":null,\\\"sdk_url\\\":null,\\\"sdk_packages\\\":null,\\\"enable_onnx_compatible_models\\\":false,\\\"enable_split_onnx_featurizer_estimator_models\\\":false,\\\"vm_type\\\":null,\\\"telemetry_verbosity\\\":20,\\\"send_telemetry\\\":true,\\\"enable_dnn\\\":false,\\\"scenario\\\":\\\"SDK-1.13.0\\\",\\\"environment_label\\\":null,\\\"force_text_dnn\\\":false,\\\"enable_feature_sweeping\\\":true,\\\"enable_early_stopping\\\":false,\\\"early_stopping_n_iters\\\":10,\\\"metrics\\\":null,\\\"enable_ensembling\\\":true,\\\"enable_stack_ensembling\\\":true,\\\"ensemble_iterations\\\":15,\\\"enable_tf\\\":false,\\\"enable_subsampling\\\":false,\\\"subsample_seed\\\":null,\\\"enable_nimbusml\\\":false,\\\"enable_streaming\\\":false,\\\"force_streaming\\\":false,\\\"track_child_runs\\\":true,\\\"allowed_private_models\\\":[],\\\"label_column_name\\\":\\\"drugs_related_stop\\\",\\\"weight_column_name\\\":null,\\\"cv_split_column_names\\\":null,\\\"enable_local_managed\\\":false,\\\"_local_managed_run_id\\\":null,\\\"cost_mode\\\":1,\\\"lag_length\\\":0,\\\"metric_operation\\\":\\\"maximize\\\",\\\"preprocess\\\":true}\", \"DataPrepJsonString\": \"{\\\\\\\"training_data\\\\\\\": \\\\\\\"{\\\\\\\\\\\\\\\"blocks\\\\\\\\\\\\\\\": [{\\\\\\\\\\\\\\\"id\\\\\\\\\\\\\\\": \\\\\\\\\\\\\\\"8b387421-b719-47a1-9db3-1d032eb60021\\\\\\\\\\\\\\\", \\\\\\\\\\\\\\\"type\\\\\\\\\\\\\\\": \\\\\\\\\\\\\\\"Microsoft.DPrep.GetDatastoreFilesBlock\\\\\\\\\\\\\\\", \\\\\\\\\\\\\\\"arguments\\\\\\\\\\\\\\\": {\\\\\\\\\\\\\\\"datastores\\\\\\\\\\\\\\\": [{\\\\\\\\\\\\\\\"datastoreName\\\\\\\\\\\\\\\": \\\\\\\\\\\\\\\"workspaceblobstore\\\\\\\\\\\\\\\", \\\\\\\\\\\\\\\"path\\\\\\\\\\\\\\\": \\\\\\\\\\\\\\\"UI/01-24-2021_104423_UTC/police_project.csv\\\\\\\\\\\\\\\", \\\\\\\\\\\\\\\"resourceGroup\\\\\\\\\\\\\\\": \\\\\\\\\\\\\\\"MiyachiGroup\\\\\\\\\\\\\\\", \\\\\\\\\\\\\\\"subscription\\\\\\\\\\\\\\\": \\\\\\\\\\\\\\\"091ee12e-98ac-4172-b48e-fa981b519954\\\\\\\\\\\\\\\", \\\\\\\\\\\\\\\"workspaceName\\\\\\\\\\\\\\\": \\\\\\\\\\\\\\\"Udacity\\\\\\\\\\\\\\\"}]}, \\\\\\\\\\\\\\\"localData\\\\\\\\\\\\\\\": {}, \\\\\\\\\\\\\\\"isEnabled\\\\\\\\\\\\\\\": true, \\\\\\\\\\\\\\\"name\\\\\\\\\\\\\\\": null, \\\\\\\\\\\\\\\"annotation\\\\\\\\\\\\\\\": null}, {\\\\\\\\\\\\\\\"id\\\\\\\\\\\\\\\": \\\\\\\\\\\\\\\"aa3be5c6-5c1b-4015-a8b9-cbf079326915\\\\\\\\\\\\\\\", \\\\\\\\\\\\\\\"type\\\\\\\\\\\\\\\": \\\\\\\\\\\\\\\"Microsoft.DPrep.ParseDelimitedBlock\\\\\\\\\\\\\\\", \\\\\\\\\\\\\\\"arguments\\\\\\\\\\\\\\\": {\\\\\\\\\\\\\\\"columnHeadersMode\\\\\\\\\\\\\\\": 1, \\\\\\\\\\\\\\\"fileEncoding\\\\\\\\\\\\\\\": 0, \\\\\\\\\\\\\\\"handleQuotedLineBreaks\\\\\\\\\\\\\\\": false, \\\\\\\\\\\\\\\"preview\\\\\\\\\\\\\\\": false, \\\\\\\\\\\\\\\"separator\\\\\\\\\\\\\\\": \\\\\\\\\\\\\\\",\\\\\\\\\\\\\\\", \\\\\\\\\\\\\\\"skipRows\\\\\\\\\\\\\\\": 0, \\\\\\\\\\\\\\\"skipRowsMode\\\\\\\\\\\\\\\": 0}, \\\\\\\\\\\\\\\"localData\\\\\\\\\\\\\\\": {}, \\\\\\\\\\\\\\\"isEnabled\\\\\\\\\\\\\\\": true, \\\\\\\\\\\\\\\"name\\\\\\\\\\\\\\\": null, \\\\\\\\\\\\\\\"annotation\\\\\\\\\\\\\\\": null}, {\\\\\\\\\\\\\\\"id\\\\\\\\\\\\\\\": \\\\\\\\\\\\\\\"96501f31-e034-4116-9474-1c1bd6b6c4d7\\\\\\\\\\\\\\\", \\\\\\\\\\\\\\\"type\\\\\\\\\\\\\\\": \\\\\\\\\\\\\\\"Microsoft.DPrep.DropColumnsBlock\\\\\\\\\\\\\\\", \\\\\\\\\\\\\\\"arguments\\\\\\\\\\\\\\\": {\\\\\\\\\\\\\\\"columns\\\\\\\\\\\\\\\": {\\\\\\\\\\\\\\\"type\\\\\\\\\\\\\\\": 0, \\\\\\\\\\\\\\\"details\\\\\\\\\\\\\\\": {\\\\\\\\\\\\\\\"selectedColumns\\\\\\\\\\\\\\\": [\\\\\\\\\\\\\\\"Path\\\\\\\\\\\\\\\"]}}}, \\\\\\\\\\\\\\\"localData\\\\\\\\\\\\\\\": {}, \\\\\\\\\\\\\\\"isEnabled\\\\\\\\\\\\\\\": true, \\\\\\\\\\\\\\\"name\\\\\\\\\\\\\\\": null, \\\\\\\\\\\\\\\"annotation\\\\\\\\\\\\\\\": null}, {\\\\\\\\\\\\\\\"id\\\\\\\\\\\\\\\": \\\\\\\\\\\\\\\"d0883fba-66aa-43f7-bc76-14d2cd008171\\\\\\\\\\\\\\\", \\\\\\\\\\\\\\\"type\\\\\\\\\\\\\\\": \\\\\\\\\\\\\\\"Microsoft.DPrep.SetColumnTypesBlock\\\\\\\\\\\\\\\", \\\\\\\\\\\\\\\"arguments\\\\\\\\\\\\\\\": {\\\\\\\\\\\\\\\"columnConversion\\\\\\\\\\\\\\\": [{\\\\\\\\\\\\\\\"column\\\\\\\\\\\\\\\": {\\\\\\\\\\\\\\\"type\\\\\\\\\\\\\\\": 2, \\\\\\\\\\\\\\\"details\\\\\\\\\\\\\\\": {\\\\\\\\\\\\\\\"selectedColumn\\\\\\\\\\\\\\\": \\\\\\\\\\\\\\\"Path\\\\\\\\\\\\\\\"}}, \\\\\\\\\\\\\\\"typeProperty\\\\\\\\\\\\\\\": 0}, {\\\\\\\\\\\\\\\"column\\\\\\\\\\\\\\\": {\\\\\\\\\\\\\\\"type\\\\\\\\\\\\\\\": 2, \\\\\\\\\\\\\\\"details\\\\\\\\\\\\\\\": {\\\\\\\\\\\\\\\"selectedColumn\\\\\\\\\\\\\\\": \\\\\\\\\\\\\\\"stop_date\\\\\\\\\\\\\\\"}}, \\\\\\\\\\\\\\\"typeArguments\\\\\\\\\\\\\\\": {\\\\\\\\\\\\\\\"dateTimeFormats\\\\\\\\\\\\\\\": [\\\\\\\\\\\\\\\"%m/%d/%Y\\\\\\\\\\\\\\\"]}, \\\\\\\\\\\\\\\"typeProperty\\\\\\\\\\\\\\\": 0}, {\\\\\\\\\\\\\\\"column\\\\\\\\\\\\\\\": {\\\\\\\\\\\\\\\"type\\\\\\\\\\\\\\\": 2, \\\\\\\\\\\\\\\"details\\\\\\\\\\\\\\\": {\\\\\\\\\\\\\\\"selectedColumn\\\\\\\\\\\\\\\": \\\\\\\\\\\\\\\"stop_time\\\\\\\\\\\\\\\"}}, \\\\\\\\\\\\\\\"typeProperty\\\\\\\\\\\\\\\": 0}, {\\\\\\\\\\\\\\\"column\\\\\\\\\\\\\\\": {\\\\\\\\\\\\\\\"type\\\\\\\\\\\\\\\": 2, \\\\\\\\\\\\\\\"details\\\\\\\\\\\\\\\": {\\\\\\\\\\\\\\\"selectedColumn\\\\\\\\\\\\\\\": \\\\\\\\\\\\\\\"county_name\\\\\\\\\\\\\\\"}}, \\\\\\\\\\\\\\\"typeProperty\\\\\\\\\\\\\\\": 0}, {\\\\\\\\\\\\\\\"column\\\\\\\\\\\\\\\": {\\\\\\\\\\\\\\\"type\\\\\\\\\\\\\\\": 2, \\\\\\\\\\\\\\\"details\\\\\\\\\\\\\\\": {\\\\\\\\\\\\\\\"selectedColumn\\\\\\\\\\\\\\\": \\\\\\\\\\\\\\\"driver_gender\\\\\\\\\\\\\\\"}}, \\\\\\\\\\\\\\\"typeProperty\\\\\\\\\\\\\\\": 0}, {\\\\\\\\\\\\\\\"column\\\\\\\\\\\\\\\": {\\\\\\\\\\\\\\\"type\\\\\\\\\\\\\\\": 2, \\\\\\\\\\\\\\\"details\\\\\\\\\\\\\\\": {\\\\\\\\\\\\\\\"selectedColumn\\\\\\\\\\\\\\\": \\\\\\\\\\\\\\\"driver_age\\\\\\\\\\\\\\\"}}, \\\\\\\\\\\\\\\"typeProperty\\\\\\\\\\\\\\\": 0}, {\\\\\\\\\\\\\\\"column\\\\\\\\\\\\\\\": {\\\\\\\\\\\\\\\"type\\\\\\\\\\\\\\\": 2, \\\\\\\\\\\\\\\"details\\\\\\\\\\\\\\\": {\\\\\\\\\\\\\\\"selectedColumn\\\\\\\\\\\\\\\": \\\\\\\\\\\\\\\"driver_race\\\\\\\\\\\\\\\"}}, \\\\\\\\\\\\\\\"typeProperty\\\\\\\\\\\\\\\": 0}, {\\\\\\\\\\\\\\\"column\\\\\\\\\\\\\\\": {\\\\\\\\\\\\\\\"type\\\\\\\\\\\\\\\": 2, \\\\\\\\\\\\\\\"details\\\\\\\\\\\\\\\": {\\\\\\\\\\\\\\\"selectedColumn\\\\\\\\\\\\\\\": \\\\\\\\\\\\\\\"violation\\\\\\\\\\\\\\\"}}, \\\\\\\\\\\\\\\"typeProperty\\\\\\\\\\\\\\\": 0}, {\\\\\\\\\\\\\\\"column\\\\\\\\\\\\\\\": {\\\\\\\\\\\\\\\"type\\\\\\\\\\\\\\\": 2, \\\\\\\\\\\\\\\"details\\\\\\\\\\\\\\\": {\\\\\\\\\\\\\\\"selectedColumn\\\\\\\\\\\\\\\": \\\\\\\\\\\\\\\"search_conducted\\\\\\\\\\\\\\\"}}, \\\\\\\\\\\\\\\"typeProperty\\\\\\\\\\\\\\\": 0}, {\\\\\\\\\\\\\\\"column\\\\\\\\\\\\\\\": {\\\\\\\\\\\\\\\"type\\\\\\\\\\\\\\\": 2, \\\\\\\\\\\\\\\"details\\\\\\\\\\\\\\\": {\\\\\\\\\\\\\\\"selectedColumn\\\\\\\\\\\\\\\": \\\\\\\\\\\\\\\"search_type\\\\\\\\\\\\\\\"}}, \\\\\\\\\\\\\\\"typeProperty\\\\\\\\\\\\\\\": 0}, {\\\\\\\\\\\\\\\"column\\\\\\\\\\\\\\\": {\\\\\\\\\\\\\\\"type\\\\\\\\\\\\\\\": 2, \\\\\\\\\\\\\\\"details\\\\\\\\\\\\\\\": {\\\\\\\\\\\\\\\"selectedColumn\\\\\\\\\\\\\\\": \\\\\\\\\\\\\\\"stop_outcome\\\\\\\\\\\\\\\"}}, \\\\\\\\\\\\\\\"typeProperty\\\\\\\\\\\\\\\": 0}, {\\\\\\\\\\\\\\\"column\\\\\\\\\\\\\\\": {\\\\\\\\\\\\\\\"type\\\\\\\\\\\\\\\": 2, \\\\\\\\\\\\\\\"details\\\\\\\\\\\\\\\": {\\\\\\\\\\\\\\\"selectedColumn\\\\\\\\\\\\\\\": \\\\\\\\\\\\\\\"is_arrested\\\\\\\\\\\\\\\"}}, \\\\\\\\\\\\\\\"typeProperty\\\\\\\\\\\\\\\": 0}, {\\\\\\\\\\\\\\\"column\\\\\\\\\\\\\\\": {\\\\\\\\\\\\\\\"type\\\\\\\\\\\\\\\": 2, \\\\\\\\\\\\\\\"details\\\\\\\\\\\\\\\": {\\\\\\\\\\\\\\\"selectedColumn\\\\\\\\\\\\\\\": \\\\\\\\\\\\\\\"stop_duration\\\\\\\\\\\\\\\"}}, \\\\\\\\\\\\\\\"typeProperty\\\\\\\\\\\\\\\": 0}, {\\\\\\\\\\\\\\\"column\\\\\\\\\\\\\\\": {\\\\\\\\\\\\\\\"type\\\\\\\\\\\\\\\": 2, \\\\\\\\\\\\\\\"details\\\\\\\\\\\\\\\": {\\\\\\\\\\\\\\\"selectedColumn\\\\\\\\\\\\\\\": \\\\\\\\\\\\\\\"drugs_related_stop\\\\\\\\\\\\\\\"}}, \\\\\\\\\\\\\\\"typeProperty\\\\\\\\\\\\\\\": 0}]}, \\\\\\\\\\\\\\\"localData\\\\\\\\\\\\\\\": {}, \\\\\\\\\\\\\\\"isEnabled\\\\\\\\\\\\\\\": true, \\\\\\\\\\\\\\\"name\\\\\\\\\\\\\\\": null, \\\\\\\\\\\\\\\"annotation\\\\\\\\\\\\\\\": null}], \\\\\\\\\\\\\\\"inspectors\\\\\\\\\\\\\\\": [], \\\\\\\\\\\\\\\"meta\\\\\\\\\\\\\\\": {\\\\\\\\\\\\\\\"savedDatasetId\\\\\\\\\\\\\\\": \\\\\\\\\\\\\\\"808c3472-312e-4bc6-b6ac-8c2d4aa8138c\\\\\\\\\\\\\\\", \\\\\\\\\\\\\\\"datasetType\\\\\\\\\\\\\\\": \\\\\\\\\\\\\\\"tabular\\\\\\\\\\\\\\\", \\\\\\\\\\\\\\\"subscriptionId\\\\\\\\\\\\\\\": \\\\\\\\\\\\\\\"091ee12e-98ac-4172-b48e-fa981b519954\\\\\\\\\\\\\\\", \\\\\\\\\\\\\\\"workspaceId\\\\\\\\\\\\\\\": \\\\\\\\\\\\\\\"65306132-fd37-4877-abc5-b72f016b9ce3\\\\\\\\\\\\\\\", \\\\\\\\\\\\\\\"workspaceLocation\\\\\\\\\\\\\\\": \\\\\\\\\\\\\\\"westus\\\\\\\\\\\\\\\"}}\\\\\\\", \\\\\\\"activities\\\\\\\": 0}\", \"EnableSubsampling\": \"False\", \"runTemplate\": \"AutoML\", \"azureml.runsource\": \"automl\", \"display_task_type\": \"classification\", \"dependencies_versions\": \"{\\\"azureml-widgets\\\": \\\"1.19.0\\\", \\\"azureml-train\\\": \\\"1.19.0\\\", \\\"azureml-train-restclients-hyperdrive\\\": \\\"1.19.0\\\", \\\"azureml-train-core\\\": \\\"1.19.0\\\", \\\"azureml-train-automl\\\": \\\"1.19.0\\\", \\\"azureml-train-automl-runtime\\\": \\\"1.19.0\\\", \\\"azureml-train-automl-client\\\": \\\"1.19.0\\\", \\\"azureml-tensorboard\\\": \\\"1.19.0\\\", \\\"azureml-telemetry\\\": \\\"1.19.0\\\", \\\"azureml-sdk\\\": \\\"1.19.0\\\", \\\"azureml-samples\\\": \\\"0+unknown\\\", \\\"azureml-pipeline\\\": \\\"1.19.0\\\", \\\"azureml-pipeline-steps\\\": \\\"1.19.0\\\", \\\"azureml-pipeline-core\\\": \\\"1.19.0\\\", \\\"azureml-opendatasets\\\": \\\"1.19.0\\\", \\\"azureml-model-management-sdk\\\": \\\"1.0.1b6.post1\\\", \\\"azureml-mlflow\\\": \\\"1.19.0\\\", \\\"azureml-interpret\\\": \\\"1.19.0\\\", \\\"azureml-explain-model\\\": \\\"1.19.0\\\", \\\"azureml-defaults\\\": \\\"1.19.0\\\", \\\"azureml-dataset-runtime\\\": \\\"1.19.0.post1\\\", \\\"azureml-dataprep\\\": \\\"2.6.1\\\", \\\"azureml-dataprep-rslex\\\": \\\"1.4.0\\\", \\\"azureml-dataprep-native\\\": \\\"26.0.0\\\", \\\"azureml-datadrift\\\": \\\"1.19.0\\\", \\\"azureml-core\\\": \\\"1.19.0\\\", \\\"azureml-contrib-services\\\": \\\"1.19.0\\\", \\\"azureml-contrib-server\\\": \\\"1.19.0\\\", \\\"azureml-contrib-reinforcementlearning\\\": \\\"1.19.0\\\", \\\"azureml-contrib-pipeline-steps\\\": \\\"1.19.0\\\", \\\"azureml-contrib-notebook\\\": \\\"1.19.0\\\", \\\"azureml-contrib-interpret\\\": \\\"1.19.0\\\", \\\"azureml-contrib-gbdt\\\": \\\"1.19.0\\\", \\\"azureml-contrib-fairness\\\": \\\"1.19.0\\\", \\\"azureml-contrib-dataset\\\": \\\"1.19.0\\\", \\\"azureml-cli-common\\\": \\\"1.19.0\\\", \\\"azureml-automl-runtime\\\": \\\"1.19.0\\\", \\\"azureml-automl-core\\\": \\\"1.19.0\\\", \\\"azureml-accel-models\\\": \\\"1.19.0\\\"}\", \"_aml_system_scenario_identification\": \"Local.Parent\", \"ClientSdkVersion\": \"1.19.0\", \"ClientType\": \"SDK\", \"environment_cpu_name\": \"AzureML-AutoML\", \"environment_cpu_label\": \"prod\", \"environment_gpu_name\": \"AzureML-AutoML-GPU\", \"environment_gpu_label\": \"prod\", \"root_attribution\": \"automl\", \"attribution\": \"AutoML\", \"Orchestrator\": \"AutoML\", \"_azureml.ComputeTargetType\": \"local\", \"ProblemInfoJsonString\": \"{\\\"dataset_num_categorical\\\": 0, \\\"is_sparse\\\": true, \\\"subsampling\\\": false, \\\"dataset_classes\\\": 2, \\\"dataset_features\\\": 1171, \\\"dataset_samples\\\": 91741, \\\"single_frequency_class_detected\\\": false}\", \"feature_skus\": \"automatedml_sdk_guardrails\"}, \"tags\": {\"model_explain_run\": \"best_run\", \"best_score\": \"0.9930129401418059\", \"best_pipeline\": \"VotingEnsemble\", \"automl_best_child_run_id\": \"AutoML_801646f4-b90e-4143-8665-de9e8eed94f6_21\", \"model_explain_best_run_child_id\": \"AutoML_801646f4-b90e-4143-8665-de9e8eed94f6_21\"}, \"end_time_utc\": \"2021-01-28T21:04:35.836313Z\", \"status\": \"Completed\", \"log_files\": {}, \"log_groups\": [], \"run_duration\": \"0:19:13\"}, \"child_runs\": [{\"run_id\": \"AutoML_801646f4-b90e-4143-8665-de9e8eed94f6_0\", \"run_number\": 25, \"metric\": null, \"status\": \"Completed\", \"run_type\": null, \"training_percent\": \"100\", \"start_time\": \"2021-01-28T20:46:17.132717Z\", \"end_time\": \"2021-01-28T20:46:57.407943Z\", \"created_time\": \"2021-01-28T20:46:17.047767Z\", \"created_time_dt\": \"2021-01-28T20:46:17.047767Z\", \"duration\": \"0:00:40\", \"iteration\": \"0\", \"goal\": \"accuracy_max\", \"run_name\": \"MaxAbsScaler, LightGBM\", \"run_properties\": \"copy=True\", \"primary_metric\": 0.99239162, \"best_metric\": 0.99239162}, {\"run_id\": \"AutoML_801646f4-b90e-4143-8665-de9e8eed94f6_1\", \"run_number\": 26, \"metric\": null, \"status\": \"Completed\", \"run_type\": null, \"training_percent\": \"100\", \"start_time\": \"2021-01-28T20:46:57.702197Z\", \"end_time\": \"2021-01-28T20:47:45.699062Z\", \"created_time\": \"2021-01-28T20:46:57.609012Z\", \"created_time_dt\": \"2021-01-28T20:46:57.609012Z\", \"duration\": \"0:00:48\", \"iteration\": \"1\", \"goal\": \"accuracy_max\", \"run_name\": \"MaxAbsScaler, XGBoostClassifier\", \"run_properties\": \"copy=True\", \"primary_metric\": 0.99288214, \"best_metric\": 0.99288214}, {\"run_id\": \"AutoML_801646f4-b90e-4143-8665-de9e8eed94f6_2\", \"run_number\": 27, \"metric\": null, \"status\": \"Completed\", \"run_type\": null, \"training_percent\": \"100\", \"start_time\": \"2021-01-28T20:47:46.44136Z\", \"end_time\": \"2021-01-28T20:48:27.358068Z\", \"created_time\": \"2021-01-28T20:47:46.334414Z\", \"created_time_dt\": \"2021-01-28T20:47:46.334414Z\", \"duration\": \"0:00:41\", \"iteration\": \"2\", \"goal\": \"accuracy_max\", \"run_name\": \"MaxAbsScaler, RandomForest\", \"run_properties\": \"copy=True\", \"primary_metric\": 0.99111629, \"best_metric\": 0.99288214}, {\"run_id\": \"AutoML_801646f4-b90e-4143-8665-de9e8eed94f6_3\", \"run_number\": 28, \"metric\": null, \"status\": \"Completed\", \"run_type\": null, \"training_percent\": \"100\", \"start_time\": \"2021-01-28T20:48:29.993819Z\", \"end_time\": \"2021-01-28T20:49:02.133115Z\", \"created_time\": \"2021-01-28T20:48:29.900045Z\", \"created_time_dt\": \"2021-01-28T20:48:29.900045Z\", \"duration\": \"0:00:32\", \"iteration\": \"3\", \"goal\": \"accuracy_max\", \"run_name\": \"MaxAbsScaler, RandomForest\", \"run_properties\": \"copy=True\", \"primary_metric\": 0.99111629, \"best_metric\": 0.99288214}, {\"run_id\": \"AutoML_801646f4-b90e-4143-8665-de9e8eed94f6_4\", \"run_number\": 29, \"metric\": null, \"status\": \"Completed\", \"run_type\": null, \"training_percent\": \"100\", \"start_time\": \"2021-01-28T20:49:03.556349Z\", \"end_time\": \"2021-01-28T20:49:46.547526Z\", \"created_time\": \"2021-01-28T20:49:03.464567Z\", \"created_time_dt\": \"2021-01-28T20:49:03.464567Z\", \"duration\": \"0:00:43\", \"iteration\": \"4\", \"goal\": \"accuracy_max\", \"run_name\": \"MaxAbsScaler, RandomForest\", \"run_properties\": \"copy=True\", \"primary_metric\": 0.91703936, \"best_metric\": 0.99288214}, {\"run_id\": \"AutoML_801646f4-b90e-4143-8665-de9e8eed94f6_5\", \"run_number\": 30, \"metric\": null, \"status\": \"Completed\", \"run_type\": null, \"training_percent\": \"100\", \"start_time\": \"2021-01-28T20:49:47.870555Z\", \"end_time\": \"2021-01-28T20:50:29.827989Z\", \"created_time\": \"2021-01-28T20:49:47.767891Z\", \"created_time_dt\": \"2021-01-28T20:49:47.767891Z\", \"duration\": \"0:00:42\", \"iteration\": \"5\", \"goal\": \"accuracy_max\", \"run_name\": \"MaxAbsScaler, RandomForest\", \"run_properties\": \"copy=True\", \"primary_metric\": 0.82918215, \"best_metric\": 0.99288214}, {\"run_id\": \"AutoML_801646f4-b90e-4143-8665-de9e8eed94f6_6\", \"run_number\": 31, \"metric\": null, \"status\": \"Completed\", \"run_type\": null, \"training_percent\": \"100\", \"start_time\": \"2021-01-28T20:50:31.356471Z\", \"end_time\": \"2021-01-28T20:51:08.925702Z\", \"created_time\": \"2021-01-28T20:50:31.265373Z\", \"created_time_dt\": \"2021-01-28T20:50:31.265373Z\", \"duration\": \"0:00:37\", \"iteration\": \"6\", \"goal\": \"accuracy_max\", \"run_name\": \"StandardScalerWrapper, LightGBM\", \"run_properties\": \"<azureml.automl.runtime.shared.model_wrappers.StandardScalerWrapper object at 0x7fec6bab4128\", \"primary_metric\": 0.99111629, \"best_metric\": 0.99288214}, {\"run_id\": \"AutoML_801646f4-b90e-4143-8665-de9e8eed94f6_7\", \"run_number\": 32, \"metric\": null, \"status\": \"Completed\", \"run_type\": null, \"training_percent\": \"100\", \"start_time\": \"2021-01-28T20:51:10.226326Z\", \"end_time\": \"2021-01-28T20:51:47.67837Z\", \"created_time\": \"2021-01-28T20:51:10.112787Z\", \"created_time_dt\": \"2021-01-28T20:51:10.112787Z\", \"duration\": \"0:00:37\", \"iteration\": \"7\", \"goal\": \"accuracy_max\", \"run_name\": \"SparseNormalizer, XGBoostClassifier\", \"run_properties\": \"<azureml.automl.runtime.shared.model_wrappers.SparseNormalizer object at 0x7fed3e17c518\", \"primary_metric\": 0.99203191, \"best_metric\": 0.99288214}, {\"run_id\": \"AutoML_801646f4-b90e-4143-8665-de9e8eed94f6_8\", \"run_number\": 33, \"metric\": null, \"status\": \"Completed\", \"run_type\": null, \"training_percent\": \"100\", \"start_time\": \"2021-01-28T20:51:49.016099Z\", \"end_time\": \"2021-01-28T20:52:19.393835Z\", \"created_time\": \"2021-01-28T20:51:48.925015Z\", \"created_time_dt\": \"2021-01-28T20:51:48.925015Z\", \"duration\": \"0:00:30\", \"iteration\": \"8\", \"goal\": \"accuracy_max\", \"run_name\": \"StandardScalerWrapper, LightGBM\", \"run_properties\": \"<azureml.automl.runtime.shared.model_wrappers.StandardScalerWrapper object at 0x7fec6bad9198\", \"primary_metric\": 0.99111629, \"best_metric\": 0.99288214}, {\"run_id\": \"AutoML_801646f4-b90e-4143-8665-de9e8eed94f6_9\", \"run_number\": 34, \"metric\": null, \"status\": \"Completed\", \"run_type\": null, \"training_percent\": \"100\", \"start_time\": \"2021-01-28T20:52:20.503189Z\", \"end_time\": \"2021-01-28T20:53:00.193793Z\", \"created_time\": \"2021-01-28T20:52:20.401839Z\", \"created_time_dt\": \"2021-01-28T20:52:20.401839Z\", \"duration\": \"0:00:39\", \"iteration\": \"9\", \"goal\": \"accuracy_max\", \"run_name\": \"MaxAbsScaler, LightGBM\", \"run_properties\": \"copy=True\", \"primary_metric\": 0.99111629, \"best_metric\": 0.99288214}, {\"run_id\": \"AutoML_801646f4-b90e-4143-8665-de9e8eed94f6_10\", \"run_number\": 35, \"metric\": null, \"status\": \"Completed\", \"run_type\": null, \"training_percent\": \"100\", \"start_time\": \"2021-01-28T20:53:01.359344Z\", \"end_time\": \"2021-01-28T20:53:31.795797Z\", \"created_time\": \"2021-01-28T20:53:01.27056Z\", \"created_time_dt\": \"2021-01-28T20:53:01.27056Z\", \"duration\": \"0:00:30\", \"iteration\": \"10\", \"goal\": \"accuracy_max\", \"run_name\": \"MaxAbsScaler, LightGBM\", \"run_properties\": \"copy=True\", \"primary_metric\": 0.99111629, \"best_metric\": 0.99288214}, {\"run_id\": \"AutoML_801646f4-b90e-4143-8665-de9e8eed94f6_11\", \"run_number\": 36, \"metric\": null, \"status\": \"Completed\", \"run_type\": null, \"training_percent\": \"100\", \"start_time\": \"2021-01-28T20:53:32.889604Z\", \"end_time\": \"2021-01-28T20:54:15.365188Z\", \"created_time\": \"2021-01-28T20:53:32.797597Z\", \"created_time_dt\": \"2021-01-28T20:53:32.797597Z\", \"duration\": \"0:00:42\", \"iteration\": \"11\", \"goal\": \"accuracy_max\", \"run_name\": \"MaxAbsScaler, LightGBM\", \"run_properties\": \"copy=True\", \"primary_metric\": 0.99111629, \"best_metric\": 0.99288214}, {\"run_id\": \"AutoML_801646f4-b90e-4143-8665-de9e8eed94f6_12\", \"run_number\": 37, \"metric\": null, \"status\": \"Completed\", \"run_type\": null, \"training_percent\": \"100\", \"start_time\": \"2021-01-28T20:54:17.133739Z\", \"end_time\": \"2021-01-28T20:54:49.398904Z\", \"created_time\": \"2021-01-28T20:54:17.042669Z\", \"created_time_dt\": \"2021-01-28T20:54:17.042669Z\", \"duration\": \"0:00:32\", \"iteration\": \"12\", \"goal\": \"accuracy_max\", \"run_name\": \"MaxAbsScaler, LightGBM\", \"run_properties\": \"copy=True\", \"primary_metric\": 0.99111629, \"best_metric\": 0.99288214}, {\"run_id\": \"AutoML_801646f4-b90e-4143-8665-de9e8eed94f6_13\", \"run_number\": 38, \"metric\": null, \"status\": \"Completed\", \"run_type\": null, \"training_percent\": \"100\", \"start_time\": \"2021-01-28T20:54:50.579526Z\", \"end_time\": \"2021-01-28T20:55:38.033536Z\", \"created_time\": \"2021-01-28T20:54:50.481685Z\", \"created_time_dt\": \"2021-01-28T20:54:50.481685Z\", \"duration\": \"0:00:47\", \"iteration\": \"13\", \"goal\": \"accuracy_max\", \"run_name\": \"SparseNormalizer, XGBoostClassifier\", \"run_properties\": \"<azureml.automl.runtime.shared.model_wrappers.SparseNormalizer object at 0x7fed3e9b57f0\", \"primary_metric\": 0.99208641, \"best_metric\": 0.99288214}, {\"run_id\": \"AutoML_801646f4-b90e-4143-8665-de9e8eed94f6_14\", \"run_number\": 39, \"metric\": null, \"status\": \"Completed\", \"run_type\": null, \"training_percent\": \"100\", \"start_time\": \"2021-01-28T20:55:39.305579Z\", \"end_time\": \"2021-01-28T20:56:22.298784Z\", \"created_time\": \"2021-01-28T20:55:39.216068Z\", \"created_time_dt\": \"2021-01-28T20:55:39.216068Z\", \"duration\": \"0:00:43\", \"iteration\": \"14\", \"goal\": \"accuracy_max\", \"run_name\": \"MaxAbsScaler, LightGBM\", \"run_properties\": \"copy=True\", \"primary_metric\": 0.99111629, \"best_metric\": 0.99288214}, {\"run_id\": \"AutoML_801646f4-b90e-4143-8665-de9e8eed94f6_15\", \"run_number\": 40, \"metric\": null, \"status\": \"Completed\", \"run_type\": null, \"training_percent\": \"100\", \"start_time\": \"2021-01-28T20:56:23.353022Z\", \"end_time\": \"2021-01-28T20:57:09.347569Z\", \"created_time\": \"2021-01-28T20:56:23.254764Z\", \"created_time_dt\": \"2021-01-28T20:56:23.254764Z\", \"duration\": \"0:00:46\", \"iteration\": \"15\", \"goal\": \"accuracy_max\", \"run_name\": \"SparseNormalizer, RandomForest\", \"run_properties\": \"<azureml.automl.runtime.shared.model_wrappers.SparseNormalizer object at 0x7fed3e99c6a0\", \"primary_metric\": 0.99111629, \"best_metric\": 0.99288214}, {\"run_id\": \"AutoML_801646f4-b90e-4143-8665-de9e8eed94f6_16\", \"run_number\": 41, \"metric\": null, \"status\": \"Completed\", \"run_type\": null, \"training_percent\": \"100\", \"start_time\": \"2021-01-28T20:57:10.485825Z\", \"end_time\": \"2021-01-28T20:57:42.522065Z\", \"created_time\": \"2021-01-28T20:57:10.401943Z\", \"created_time_dt\": \"2021-01-28T20:57:10.401943Z\", \"duration\": \"0:00:32\", \"iteration\": \"16\", \"goal\": \"accuracy_max\", \"run_name\": \"SparseNormalizer, XGBoostClassifier\", \"run_properties\": \"<azureml.automl.runtime.shared.model_wrappers.SparseNormalizer object at 0x7fed3e6eac88\", \"primary_metric\": 0.99159589, \"best_metric\": 0.99288214}, {\"run_id\": \"AutoML_801646f4-b90e-4143-8665-de9e8eed94f6_17\", \"run_number\": 42, \"metric\": null, \"status\": \"Completed\", \"run_type\": null, \"training_percent\": \"100\", \"start_time\": \"2021-01-28T20:57:43.786794Z\", \"end_time\": \"2021-01-28T20:58:28.318537Z\", \"created_time\": \"2021-01-28T20:57:43.67059Z\", \"created_time_dt\": \"2021-01-28T20:57:43.67059Z\", \"duration\": \"0:00:44\", \"iteration\": \"17\", \"goal\": \"accuracy_max\", \"run_name\": \"MaxAbsScaler, LightGBM\", \"run_properties\": \"copy=True\", \"primary_metric\": 0.99111629, \"best_metric\": 0.99288214}, {\"run_id\": \"AutoML_801646f4-b90e-4143-8665-de9e8eed94f6_18\", \"run_number\": 43, \"metric\": null, \"status\": \"Completed\", \"run_type\": null, \"training_percent\": \"100\", \"start_time\": \"2021-01-28T20:58:29.536024Z\", \"end_time\": \"2021-01-28T20:59:12.745591Z\", \"created_time\": \"2021-01-28T20:58:29.416597Z\", \"created_time_dt\": \"2021-01-28T20:58:29.416597Z\", \"duration\": \"0:00:43\", \"iteration\": \"18\", \"goal\": \"accuracy_max\", \"run_name\": \"SparseNormalizer, LightGBM\", \"run_properties\": \"<azureml.automl.runtime.shared.model_wrappers.SparseNormalizer object at 0x7fed3e722780\", \"primary_metric\": 0.99281674, \"best_metric\": 0.99288214}, {\"run_id\": \"AutoML_801646f4-b90e-4143-8665-de9e8eed94f6_19\", \"run_number\": 44, \"metric\": null, \"status\": \"Completed\", \"run_type\": null, \"training_percent\": \"100\", \"start_time\": \"2021-01-28T20:59:17.071228Z\", \"end_time\": \"2021-01-28T21:00:12.766618Z\", \"created_time\": \"2021-01-28T20:59:15.848012Z\", \"created_time_dt\": \"2021-01-28T20:59:15.848012Z\", \"duration\": \"0:00:56\", \"iteration\": \"19\", \"goal\": \"accuracy_max\", \"run_name\": \"StandardScalerWrapper, LightGBM\", \"run_properties\": \"<azureml.automl.runtime.shared.model_wrappers.StandardScalerWrapper object at 0x7fed3e8b8f28\", \"primary_metric\": 0.99111629, \"best_metric\": 0.99288214}, {\"run_id\": \"AutoML_801646f4-b90e-4143-8665-de9e8eed94f6_20\", \"run_number\": 45, \"metric\": null, \"status\": \"Completed\", \"run_type\": null, \"training_percent\": \"100\", \"start_time\": \"2021-01-28T21:00:16.144661Z\", \"end_time\": \"2021-01-28T21:01:32.641318Z\", \"created_time\": \"2021-01-28T21:00:15.326533Z\", \"created_time_dt\": \"2021-01-28T21:00:15.326533Z\", \"duration\": \"0:01:17\", \"iteration\": \"20\", \"goal\": \"accuracy_max\", \"run_name\": \"SparseNormalizer, XGBoostClassifier\", \"run_properties\": \"<azureml.automl.runtime.shared.model_wrappers.SparseNormalizer object at 0x7fed3e70b9e8\", \"primary_metric\": 0.99220632, \"best_metric\": 0.99288214}, {\"run_id\": \"AutoML_801646f4-b90e-4143-8665-de9e8eed94f6_21\", \"run_number\": 46, \"metric\": null, \"status\": \"Completed\", \"run_type\": null, \"training_percent\": \"100\", \"start_time\": \"2021-01-28T21:01:33.060459Z\", \"end_time\": \"2021-01-28T21:02:44.288121Z\", \"created_time\": \"2021-01-28T21:01:32.966043Z\", \"created_time_dt\": \"2021-01-28T21:01:32.966043Z\", \"duration\": \"0:01:11\", \"iteration\": \"21\", \"goal\": \"accuracy_max\", \"run_name\": \"VotingEnsemble\", \"run_properties\": \"classification_labels=None,\\n                              estimators=[('1',\\n                                           Pipeline(memory=None,\\n                                                    steps=[('maxabsscaler',\\n                                                            MaxAbsScaler(copy=True\", \"primary_metric\": 0.99301294, \"best_metric\": 0.99301294}, {\"run_id\": \"AutoML_801646f4-b90e-4143-8665-de9e8eed94f6_22\", \"run_number\": 47, \"metric\": null, \"status\": \"Completed\", \"run_type\": null, \"training_percent\": \"100\", \"start_time\": \"2021-01-28T21:02:44.55363Z\", \"end_time\": \"2021-01-28T21:04:24.321817Z\", \"created_time\": \"2021-01-28T21:02:44.470246Z\", \"created_time_dt\": \"2021-01-28T21:02:44.470246Z\", \"duration\": \"0:01:39\", \"iteration\": \"22\", \"goal\": \"accuracy_max\", \"run_name\": \"StackEnsemble\", \"run_properties\": \"base_learners=[('1',\\n                                        Pipeline(memory=None,\\n                                                 steps=[('maxabsscaler',\\n                                                         MaxAbsScaler(copy=True\", \"primary_metric\": 0.99277313, \"best_metric\": 0.99301294}], \"children_metrics\": {\"categories\": [0], \"series\": {\"accuracy\": [{\"categories\": [\"0\", \"1\", \"2\", \"3\", \"4\", \"5\", \"6\", \"7\", \"8\", \"9\", \"10\", \"11\", \"12\", \"13\", \"14\", \"15\", \"16\", \"17\", \"18\", \"19\", \"20\", \"21\", \"22\"], \"mode\": \"markers\", \"name\": \"accuracy\", \"stepped\": false, \"type\": \"scatter\", \"data\": [0.9923916229377561, 0.9928821378331101, 0.9911162902693592, 0.9911162902693592, 0.9170393580406356, 0.8291821459878035, 0.9911162902693592, 0.9920319114204253, 0.9911162902693592, 0.9911162902693592, 0.9911162902693592, 0.9911162902693592, 0.9911162902693592, 0.9920864143428161, 0.9911162902693592, 0.9911162902693592, 0.9915958926750529, 0.9911162902693592, 0.992816735965877, 0.9911162902693592, 0.9922063162808992, 0.9930129401418059, 0.9927731337705415]}, {\"categories\": [\"0\", \"1\", \"2\", \"3\", \"4\", \"5\", \"6\", \"7\", \"8\", \"9\", \"10\", \"11\", \"12\", \"13\", \"14\", \"15\", \"16\", \"17\", \"18\", \"19\", \"20\", \"21\", \"22\"], \"mode\": \"lines\", \"name\": \"accuracy_max\", \"stepped\": true, \"type\": \"scatter\", \"data\": [0.9923916229377561, 0.9928821378331101, 0.9928821378331101, 0.9928821378331101, 0.9928821378331101, 0.9928821378331101, 0.9928821378331101, 0.9928821378331101, 0.9928821378331101, 0.9928821378331101, 0.9928821378331101, 0.9928821378331101, 0.9928821378331101, 0.9928821378331101, 0.9928821378331101, 0.9928821378331101, 0.9928821378331101, 0.9928821378331101, 0.9928821378331101, 0.9928821378331101, 0.9928821378331101, 0.9930129401418059, 0.9930129401418059]}], \"precision_score_micro\": [{\"categories\": [\"0\", \"1\", \"2\", \"3\", \"4\", \"5\", \"6\", \"7\", \"8\", \"9\", \"10\", \"11\", \"12\", \"13\", \"14\", \"15\", \"16\", \"17\", \"18\", \"19\", \"20\", \"21\", \"22\"], \"mode\": \"markers\", \"name\": \"precision_score_micro\", \"stepped\": false, \"type\": \"scatter\", \"data\": [0.9923916229377561, 0.9928821378331101, 0.9911162902693592, 0.9911162902693592, 0.9170393580406356, 0.8291821459878035, 0.9911162902693592, 0.9920319114204253, 0.9911162902693592, 0.9911162902693592, 0.9911162902693592, 0.9911162902693592, 0.9911162902693592, 0.9920864143428161, 0.9911162902693592, 0.9911162902693592, 0.9915958926750529, 0.9911162902693592, 0.992816735965877, 0.9911162902693592, 0.9922063162808992, 0.9930129401418059, 0.9927731337705415]}, {\"categories\": [\"0\", \"1\", \"2\", \"3\", \"4\", \"5\", \"6\", \"7\", \"8\", \"9\", \"10\", \"11\", \"12\", \"13\", \"14\", \"15\", \"16\", \"17\", \"18\", \"19\", \"20\", \"21\", \"22\"], \"mode\": \"lines\", \"name\": \"precision_score_micro_max\", \"stepped\": true, \"type\": \"scatter\", \"data\": [0.9923916229377561, 0.9928821378331101, 0.9928821378331101, 0.9928821378331101, 0.9928821378331101, 0.9928821378331101, 0.9928821378331101, 0.9928821378331101, 0.9928821378331101, 0.9928821378331101, 0.9928821378331101, 0.9928821378331101, 0.9928821378331101, 0.9928821378331101, 0.9928821378331101, 0.9928821378331101, 0.9928821378331101, 0.9928821378331101, 0.9928821378331101, 0.9928821378331101, 0.9928821378331101, 0.9930129401418059, 0.9930129401418059]}], \"weighted_accuracy\": [{\"categories\": [\"0\", \"1\", \"2\", \"3\", \"4\", \"5\", \"6\", \"7\", \"8\", \"9\", \"10\", \"11\", \"12\", \"13\", \"14\", \"15\", \"16\", \"17\", \"18\", \"19\", \"20\", \"21\", \"22\"], \"mode\": \"markers\", \"name\": \"weighted_accuracy\", \"stepped\": false, \"type\": \"scatter\", \"data\": [0.9968141814157542, 0.9977341677562478, 0.999919499302111, 0.999919499302111, 0.9171530271370846, 0.8294542951325491, 0.999919499302111, 0.997704448248279, 0.999919499302111, 0.999919499302111, 0.999919499302111, 0.999919499302111, 0.999919499302111, 0.9971382528404608, 0.999919499302111, 0.999919499302111, 0.9987357178018591, 0.999919499302111, 0.997788064086167, 0.999919499302111, 0.9972700929522995, 0.9976590031577244, 0.9976022768653515]}, {\"categories\": [\"0\", \"1\", \"2\", \"3\", \"4\", \"5\", \"6\", \"7\", \"8\", \"9\", \"10\", \"11\", \"12\", \"13\", \"14\", \"15\", \"16\", \"17\", \"18\", \"19\", \"20\", \"21\", \"22\"], \"mode\": \"lines\", \"name\": \"weighted_accuracy_max\", \"stepped\": true, \"type\": \"scatter\", \"data\": [0.9968141814157542, 0.9977341677562478, 0.999919499302111, 0.999919499302111, 0.999919499302111, 0.999919499302111, 0.999919499302111, 0.999919499302111, 0.999919499302111, 0.999919499302111, 0.999919499302111, 0.999919499302111, 0.999919499302111, 0.999919499302111, 0.999919499302111, 0.999919499302111, 0.999919499302111, 0.999919499302111, 0.999919499302111, 0.999919499302111, 0.999919499302111, 0.999919499302111, 0.999919499302111]}], \"log_loss\": [{\"categories\": [\"0\", \"1\", \"2\", \"3\", \"4\", \"5\", \"6\", \"7\", \"8\", \"9\", \"10\", \"11\", \"12\", \"13\", \"14\", \"15\", \"16\", \"17\", \"18\", \"19\", \"20\", \"21\", \"22\"], \"mode\": \"markers\", \"name\": \"log_loss\", \"stepped\": false, \"type\": \"scatter\", \"data\": [0.019420681517549523, 0.015266572661832964, 0.03483275744467945, 0.05014302359927399, 0.6343736704760462, 0.5785479368750751, 0.04235774018302358, 0.2083116924900188, 0.04568500344679841, 0.046747467869334314, 0.04755540512745191, 0.042804534844080505, 0.032050527830535074, 0.01626114332904047, 0.0420939560116268, 0.020049336492547823, 0.20927927442404604, 0.04293376986347206, 0.015642058583128077, 0.04282932265979803, 0.01917710558019626, 0.0614171235561208, 0.02160148335388667]}, {\"categories\": [\"0\", \"1\", \"2\", \"3\", \"4\", \"5\", \"6\", \"7\", \"8\", \"9\", \"10\", \"11\", \"12\", \"13\", \"14\", \"15\", \"16\", \"17\", \"18\", \"19\", \"20\", \"21\", \"22\"], \"mode\": \"lines\", \"name\": \"log_loss_min\", \"stepped\": true, \"type\": \"scatter\", \"data\": [0.019420681517549523, 0.015266572661832964, 0.015266572661832964, 0.015266572661832964, 0.015266572661832964, 0.015266572661832964, 0.015266572661832964, 0.015266572661832964, 0.015266572661832964, 0.015266572661832964, 0.015266572661832964, 0.015266572661832964, 0.015266572661832964, 0.015266572661832964, 0.015266572661832964, 0.015266572661832964, 0.015266572661832964, 0.015266572661832964, 0.015266572661832964, 0.015266572661832964, 0.015266572661832964, 0.015266572661832964, 0.015266572661832964]}], \"matthews_correlation\": [{\"categories\": [\"0\", \"1\", \"2\", \"3\", \"4\", \"5\", \"6\", \"7\", \"8\", \"9\", \"10\", \"11\", \"12\", \"13\", \"14\", \"15\", \"16\", \"17\", \"18\", \"19\", \"20\", \"21\", \"22\"], \"mode\": \"markers\", \"name\": \"matthews_correlation\", \"stepped\": false, \"type\": \"scatter\", \"data\": [0.5331260509652268, 0.5325272848770641, 0.0, 0.0, 0.3600014614279104, 0.15886790090758518, 0.0, 0.45063553059888223, 0.0, 0.0, 0.0, 0.0, 0.0, 0.4892799993898365, 0.0, 0.0, 0.23937489811929788, 0.0, 0.5234388178073778, 0.0, 0.49362686791007987, 0.5481299290435967, 0.5295447328823212]}, {\"categories\": [\"0\", \"1\", \"2\", \"3\", \"4\", \"5\", \"6\", \"7\", \"8\", \"9\", \"10\", \"11\", \"12\", \"13\", \"14\", \"15\", \"16\", \"17\", \"18\", \"19\", \"20\", \"21\", \"22\"], \"mode\": \"lines\", \"name\": \"matthews_correlation_max\", \"stepped\": true, \"type\": \"scatter\", \"data\": [0.5331260509652268, 0.5331260509652268, 0.5331260509652268, 0.5331260509652268, 0.5331260509652268, 0.5331260509652268, 0.5331260509652268, 0.5331260509652268, 0.5331260509652268, 0.5331260509652268, 0.5331260509652268, 0.5331260509652268, 0.5331260509652268, 0.5331260509652268, 0.5331260509652268, 0.5331260509652268, 0.5331260509652268, 0.5331260509652268, 0.5331260509652268, 0.5331260509652268, 0.5331260509652268, 0.5481299290435967, 0.5481299290435967]}], \"recall_score_weighted\": [{\"categories\": [\"0\", \"1\", \"2\", \"3\", \"4\", \"5\", \"6\", \"7\", \"8\", \"9\", \"10\", \"11\", \"12\", \"13\", \"14\", \"15\", \"16\", \"17\", \"18\", \"19\", \"20\", \"21\", \"22\"], \"mode\": \"markers\", \"name\": \"recall_score_weighted\", \"stepped\": false, \"type\": \"scatter\", \"data\": [0.9923916229377561, 0.9928821378331101, 0.9911162902693592, 0.9911162902693592, 0.9170393580406356, 0.8291821459878035, 0.9911162902693592, 0.9920319114204253, 0.9911162902693592, 0.9911162902693592, 0.9911162902693592, 0.9911162902693592, 0.9911162902693592, 0.9920864143428161, 0.9911162902693592, 0.9911162902693592, 0.9915958926750529, 0.9911162902693592, 0.992816735965877, 0.9911162902693592, 0.9922063162808992, 0.9930129401418059, 0.9927731337705415]}, {\"categories\": [\"0\", \"1\", \"2\", \"3\", \"4\", \"5\", \"6\", \"7\", \"8\", \"9\", \"10\", \"11\", \"12\", \"13\", \"14\", \"15\", \"16\", \"17\", \"18\", \"19\", \"20\", \"21\", \"22\"], \"mode\": \"lines\", \"name\": \"recall_score_weighted_max\", \"stepped\": true, \"type\": \"scatter\", \"data\": [0.9923916229377561, 0.9928821378331101, 0.9928821378331101, 0.9928821378331101, 0.9928821378331101, 0.9928821378331101, 0.9928821378331101, 0.9928821378331101, 0.9928821378331101, 0.9928821378331101, 0.9928821378331101, 0.9928821378331101, 0.9928821378331101, 0.9928821378331101, 0.9928821378331101, 0.9928821378331101, 0.9928821378331101, 0.9928821378331101, 0.9928821378331101, 0.9928821378331101, 0.9928821378331101, 0.9930129401418059, 0.9930129401418059]}], \"balanced_accuracy\": [{\"categories\": [\"0\", \"1\", \"2\", \"3\", \"4\", \"5\", \"6\", \"7\", \"8\", \"9\", \"10\", \"11\", \"12\", \"13\", \"14\", \"15\", \"16\", \"17\", \"18\", \"19\", \"20\", \"21\", \"22\"], \"mode\": \"markers\", \"name\": \"balanced_accuracy\", \"stepped\": false, \"type\": \"scatter\", \"data\": [0.7452291805656396, 0.7221714510074877, 0.5, 0.5, 0.9097573135500795, 0.8151386969990547, 0.5, 0.6773800763982404, 0.5, 0.5, 0.5, 0.5, 0.5, 0.7106846851198364, 0.5, 0.5, 0.5976403634788072, 0.5, 0.7153580080215401, 0.5, 0.7101504130475215, 0.7340137634467557, 0.7243643106628758]}, {\"categories\": [\"0\", \"1\", \"2\", \"3\", \"4\", \"5\", \"6\", \"7\", \"8\", \"9\", \"10\", \"11\", \"12\", \"13\", \"14\", \"15\", \"16\", \"17\", \"18\", \"19\", \"20\", \"21\", \"22\"], \"mode\": \"lines\", \"name\": \"balanced_accuracy_max\", \"stepped\": true, \"type\": \"scatter\", \"data\": [0.7452291805656396, 0.7452291805656396, 0.7452291805656396, 0.7452291805656396, 0.9097573135500795, 0.9097573135500795, 0.9097573135500795, 0.9097573135500795, 0.9097573135500795, 0.9097573135500795, 0.9097573135500795, 0.9097573135500795, 0.9097573135500795, 0.9097573135500795, 0.9097573135500795, 0.9097573135500795, 0.9097573135500795, 0.9097573135500795, 0.9097573135500795, 0.9097573135500795, 0.9097573135500795, 0.9097573135500795, 0.9097573135500795]}], \"precision_score_macro\": [{\"categories\": [\"0\", \"1\", \"2\", \"3\", \"4\", \"5\", \"6\", \"7\", \"8\", \"9\", \"10\", \"11\", \"12\", \"13\", \"14\", \"15\", \"16\", \"17\", \"18\", \"19\", \"20\", \"21\", \"22\"], \"mode\": \"markers\", \"name\": \"precision_score_macro\", \"stepped\": false, \"type\": \"scatter\", \"data\": [0.7897727551754313, 0.8194024570628283, 0.4955581451346796, 0.4955581451346796, 0.5838737254858662, 0.5200948275007975, 0.4955581451346796, 0.7907819021383125, 0.4955581451346796, 0.4955581451346796, 0.4955581451346796, 0.4955581451346796, 0.4955581451346796, 0.7842794418310697, 0.4955581451346796, 0.4955581451346796, 0.7039884992969001, 0.4955581451346796, 0.8184457514892428, 0.4955581451346796, 0.7899701625245391, 0.8213068094341806, 0.814239398424108]}, {\"categories\": [\"0\", \"1\", \"2\", \"3\", \"4\", \"5\", \"6\", \"7\", \"8\", \"9\", \"10\", \"11\", \"12\", \"13\", \"14\", \"15\", \"16\", \"17\", \"18\", \"19\", \"20\", \"21\", \"22\"], \"mode\": \"lines\", \"name\": \"precision_score_macro_max\", \"stepped\": true, \"type\": \"scatter\", \"data\": [0.7897727551754313, 0.8194024570628283, 0.8194024570628283, 0.8194024570628283, 0.8194024570628283, 0.8194024570628283, 0.8194024570628283, 0.8194024570628283, 0.8194024570628283, 0.8194024570628283, 0.8194024570628283, 0.8194024570628283, 0.8194024570628283, 0.8194024570628283, 0.8194024570628283, 0.8194024570628283, 0.8194024570628283, 0.8194024570628283, 0.8194024570628283, 0.8194024570628283, 0.8194024570628283, 0.8213068094341806, 0.8213068094341806]}], \"AUC_micro\": [{\"categories\": [\"0\", \"1\", \"2\", \"3\", \"4\", \"5\", \"6\", \"7\", \"8\", \"9\", \"10\", \"11\", \"12\", \"13\", \"14\", \"15\", \"16\", \"17\", \"18\", \"19\", \"20\", \"21\", \"22\"], \"mode\": \"markers\", \"name\": \"AUC_micro\", \"stepped\": false, \"type\": \"scatter\", \"data\": [0.9998190892343543, 0.9998528146739512, 0.9993752526495591, 0.994910401246496, 0.9345610373554273, 0.9012332581812084, 0.9972338596725298, 0.9998334608688787, 0.9964069514161041, 0.9965587736948397, 0.9964795380110661, 0.9971263099476193, 0.9997785876308343, 0.9998358441415224, 0.9973213273012962, 0.9996912045931352, 0.9998180302874599, 0.997073791295628, 0.9998522824371167, 0.9972142095112472, 0.9998425735032948, 0.9998541524140716, 0.9998529939336706]}, {\"categories\": [\"0\", \"1\", \"2\", \"3\", \"4\", \"5\", \"6\", \"7\", \"8\", \"9\", \"10\", \"11\", \"12\", \"13\", \"14\", \"15\", \"16\", \"17\", \"18\", \"19\", \"20\", \"21\", \"22\"], \"mode\": \"lines\", \"name\": \"AUC_micro_max\", \"stepped\": true, \"type\": \"scatter\", \"data\": [0.9998190892343543, 0.9998528146739512, 0.9998528146739512, 0.9998528146739512, 0.9998528146739512, 0.9998528146739512, 0.9998528146739512, 0.9998528146739512, 0.9998528146739512, 0.9998528146739512, 0.9998528146739512, 0.9998528146739512, 0.9998528146739512, 0.9998528146739512, 0.9998528146739512, 0.9998528146739512, 0.9998528146739512, 0.9998528146739512, 0.9998528146739512, 0.9998528146739512, 0.9998528146739512, 0.9998541524140716, 0.9998541524140716]}], \"f1_score_macro\": [{\"categories\": [\"0\", \"1\", \"2\", \"3\", \"4\", \"5\", \"6\", \"7\", \"8\", \"9\", \"10\", \"11\", \"12\", \"13\", \"14\", \"15\", \"16\", \"17\", \"18\", \"19\", \"20\", \"21\", \"22\"], \"mode\": \"markers\", \"name\": \"f1_score_macro\", \"stepped\": false, \"type\": \"scatter\", \"data\": [0.7655837132716242, 0.7616308457010988, 0.4977691436053952, 0.4977691436053952, 0.6151804116023863, 0.49302381348782043, 0.4977691436053952, 0.7167848218282772, 0.4977691436053952, 0.4977691436053952, 0.4977691436053952, 0.4977691436053952, 0.4977691436053952, 0.7416996078799963, 0.4977691436053952, 0.4977691436053952, 0.6038683886876555, 0.4977691436053952, 0.7564291011459398, 0.4977691436053952, 0.7434593979813714, 0.7703684717081535, 0.760181409384299]}, {\"categories\": [\"0\", \"1\", \"2\", \"3\", \"4\", \"5\", \"6\", \"7\", \"8\", \"9\", \"10\", \"11\", \"12\", \"13\", \"14\", \"15\", \"16\", \"17\", \"18\", \"19\", \"20\", \"21\", \"22\"], \"mode\": \"lines\", \"name\": \"f1_score_macro_max\", \"stepped\": true, \"type\": \"scatter\", \"data\": [0.7655837132716242, 0.7655837132716242, 0.7655837132716242, 0.7655837132716242, 0.7655837132716242, 0.7655837132716242, 0.7655837132716242, 0.7655837132716242, 0.7655837132716242, 0.7655837132716242, 0.7655837132716242, 0.7655837132716242, 0.7655837132716242, 0.7655837132716242, 0.7655837132716242, 0.7655837132716242, 0.7655837132716242, 0.7655837132716242, 0.7655837132716242, 0.7655837132716242, 0.7655837132716242, 0.7703684717081535, 0.7703684717081535]}], \"f1_score_weighted\": [{\"categories\": [\"0\", \"1\", \"2\", \"3\", \"4\", \"5\", \"6\", \"7\", \"8\", \"9\", \"10\", \"11\", \"12\", \"13\", \"14\", \"15\", \"16\", \"17\", \"18\", \"19\", \"20\", \"21\", \"22\"], \"mode\": \"markers\", \"name\": \"f1_score_weighted\", \"stepped\": false, \"type\": \"scatter\", \"data\": [0.9920743833149747, 0.9922483804836527, 0.9866942933279278, 0.9866942933279278, 0.9486998380383299, 0.8982255802445319, 0.9866942933279278, 0.9910017014646316, 0.9866942933279278, 0.9866942933279278, 0.9866942933279278, 0.9866942933279278, 0.9866942933279278, 0.9914887118906387, 0.9866942933279278, 0.9866942933279278, 0.988729976852133, 0.9866942933279278, 0.9921248498680438, 0.9866942933279278, 0.9915785665114435, 0.9924637463360414, 0.9921537497069436]}, {\"categories\": [\"0\", \"1\", \"2\", \"3\", \"4\", \"5\", \"6\", \"7\", \"8\", \"9\", \"10\", \"11\", \"12\", \"13\", \"14\", \"15\", \"16\", \"17\", \"18\", \"19\", \"20\", \"21\", \"22\"], \"mode\": \"lines\", \"name\": \"f1_score_weighted_max\", \"stepped\": true, \"type\": \"scatter\", \"data\": [0.9920743833149747, 0.9922483804836527, 0.9922483804836527, 0.9922483804836527, 0.9922483804836527, 0.9922483804836527, 0.9922483804836527, 0.9922483804836527, 0.9922483804836527, 0.9922483804836527, 0.9922483804836527, 0.9922483804836527, 0.9922483804836527, 0.9922483804836527, 0.9922483804836527, 0.9922483804836527, 0.9922483804836527, 0.9922483804836527, 0.9922483804836527, 0.9922483804836527, 0.9922483804836527, 0.9924637463360414, 0.9924637463360414]}], \"average_precision_score_micro\": [{\"categories\": [\"0\", \"1\", \"2\", \"3\", \"4\", \"5\", \"6\", \"7\", \"8\", \"9\", \"10\", \"11\", \"12\", \"13\", \"14\", \"15\", \"16\", \"17\", \"18\", \"19\", \"20\", \"21\", \"22\"], \"mode\": \"markers\", \"name\": \"average_precision_score_micro\", \"stepped\": false, \"type\": \"scatter\", \"data\": [0.9998202884952411, 0.9998536140311888, 0.9993224832584562, 0.9938739767548331, 0.9211736909525227, 0.8953220513272643, 0.9970999928697131, 0.9998281588997312, 0.9962800241329933, 0.9962833675505692, 0.9963267939167402, 0.9970065582446116, 0.9997802909716033, 0.9998368732575996, 0.9972117958206995, 0.99964549203058, 0.9997952395455302, 0.9969530115921085, 0.9998531755538922, 0.9971336040399726, 0.9998435331080057, 0.9998550280303663, 0.9998538766255001]}, {\"categories\": [\"0\", \"1\", \"2\", \"3\", \"4\", \"5\", \"6\", \"7\", \"8\", \"9\", \"10\", \"11\", \"12\", \"13\", \"14\", \"15\", \"16\", \"17\", \"18\", \"19\", \"20\", \"21\", \"22\"], \"mode\": \"lines\", \"name\": \"average_precision_score_micro_max\", \"stepped\": true, \"type\": \"scatter\", \"data\": [0.9998202884952411, 0.9998536140311888, 0.9998536140311888, 0.9998536140311888, 0.9998536140311888, 0.9998536140311888, 0.9998536140311888, 0.9998536140311888, 0.9998536140311888, 0.9998536140311888, 0.9998536140311888, 0.9998536140311888, 0.9998536140311888, 0.9998536140311888, 0.9998536140311888, 0.9998536140311888, 0.9998536140311888, 0.9998536140311888, 0.9998536140311888, 0.9998536140311888, 0.9998536140311888, 0.9998550280303663, 0.9998550280303663]}], \"precision_score_weighted\": [{\"categories\": [\"0\", \"1\", \"2\", \"3\", \"4\", \"5\", \"6\", \"7\", \"8\", \"9\", \"10\", \"11\", \"12\", \"13\", \"14\", \"15\", \"16\", \"17\", \"18\", \"19\", \"20\", \"21\", \"22\"], \"mode\": \"markers\", \"name\": \"precision_score_weighted\", \"stepped\": false, \"type\": \"scatter\", \"data\": [0.9918257461025214, 0.9919491424869197, 0.982311657991294, 0.982311657991294, 0.9916301190496722, 0.9892727326184589, 0.982311657991294, 0.9906151300433838, 0.982311657991294, 0.982311657991294, 0.982311657991294, 0.982311657991294, 0.982311657991294, 0.991101943485419, 0.982311657991294, 0.982311657991294, 0.987535592139209, 0.982311657991294, 0.991814483579981, 0.982311657991294, 0.991190536131506, 0.9921815710401516, 0.9918737835931276]}, {\"categories\": [\"0\", \"1\", \"2\", \"3\", \"4\", \"5\", \"6\", \"7\", \"8\", \"9\", \"10\", \"11\", \"12\", \"13\", \"14\", \"15\", \"16\", \"17\", \"18\", \"19\", \"20\", \"21\", \"22\"], \"mode\": \"lines\", \"name\": \"precision_score_weighted_max\", \"stepped\": true, \"type\": \"scatter\", \"data\": [0.9918257461025214, 0.9919491424869197, 0.9919491424869197, 0.9919491424869197, 0.9919491424869197, 0.9919491424869197, 0.9919491424869197, 0.9919491424869197, 0.9919491424869197, 0.9919491424869197, 0.9919491424869197, 0.9919491424869197, 0.9919491424869197, 0.9919491424869197, 0.9919491424869197, 0.9919491424869197, 0.9919491424869197, 0.9919491424869197, 0.9919491424869197, 0.9919491424869197, 0.9919491424869197, 0.9921815710401516, 0.9921815710401516]}], \"recall_score_micro\": [{\"categories\": [\"0\", \"1\", \"2\", \"3\", \"4\", \"5\", \"6\", \"7\", \"8\", \"9\", \"10\", \"11\", \"12\", \"13\", \"14\", \"15\", \"16\", \"17\", \"18\", \"19\", \"20\", \"21\", \"22\"], \"mode\": \"markers\", \"name\": \"recall_score_micro\", \"stepped\": false, \"type\": \"scatter\", \"data\": [0.9923916229377561, 0.9928821378331101, 0.9911162902693592, 0.9911162902693592, 0.9170393580406356, 0.8291821459878035, 0.9911162902693592, 0.9920319114204253, 0.9911162902693592, 0.9911162902693592, 0.9911162902693592, 0.9911162902693592, 0.9911162902693592, 0.9920864143428161, 0.9911162902693592, 0.9911162902693592, 0.9915958926750529, 0.9911162902693592, 0.992816735965877, 0.9911162902693592, 0.9922063162808992, 0.9930129401418059, 0.9927731337705415]}, {\"categories\": [\"0\", \"1\", \"2\", \"3\", \"4\", \"5\", \"6\", \"7\", \"8\", \"9\", \"10\", \"11\", \"12\", \"13\", \"14\", \"15\", \"16\", \"17\", \"18\", \"19\", \"20\", \"21\", \"22\"], \"mode\": \"lines\", \"name\": \"recall_score_micro_max\", \"stepped\": true, \"type\": \"scatter\", \"data\": [0.9923916229377561, 0.9928821378331101, 0.9928821378331101, 0.9928821378331101, 0.9928821378331101, 0.9928821378331101, 0.9928821378331101, 0.9928821378331101, 0.9928821378331101, 0.9928821378331101, 0.9928821378331101, 0.9928821378331101, 0.9928821378331101, 0.9928821378331101, 0.9928821378331101, 0.9928821378331101, 0.9928821378331101, 0.9928821378331101, 0.9928821378331101, 0.9928821378331101, 0.9928821378331101, 0.9930129401418059, 0.9930129401418059]}], \"AUC_macro\": [{\"categories\": [\"0\", \"1\", \"2\", \"3\", \"4\", \"5\", \"6\", \"7\", \"8\", \"9\", \"10\", \"11\", \"12\", \"13\", \"14\", \"15\", \"16\", \"17\", \"18\", \"19\", \"20\", \"21\", \"22\"], \"mode\": \"markers\", \"name\": \"AUC_macro\", \"stepped\": false, \"type\": \"scatter\", \"data\": [0.9941196075391575, 0.9951618163320495, 0.9688141594212244, 0.716733066448299, 0.9371565694746614, 0.8967363611656941, 0.847754445691001, 0.9945155354563001, 0.800832084776311, 0.8093162145029057, 0.8050808264916123, 0.8415119398598416, 0.991884143217043, 0.9946184668448163, 0.8527316667497908, 0.9869085478104779, 0.9939402150569006, 0.8385744332281412, 0.9951711810771554, 0.8464851127964561, 0.9948979996359434, 0.9952439214534031, 0.9952402288355975]}, {\"categories\": [\"0\", \"1\", \"2\", \"3\", \"4\", \"5\", \"6\", \"7\", \"8\", \"9\", \"10\", \"11\", \"12\", \"13\", \"14\", \"15\", \"16\", \"17\", \"18\", \"19\", \"20\", \"21\", \"22\"], \"mode\": \"lines\", \"name\": \"AUC_macro_max\", \"stepped\": true, \"type\": \"scatter\", \"data\": [0.9941196075391575, 0.9951618163320495, 0.9951618163320495, 0.9951618163320495, 0.9951618163320495, 0.9951618163320495, 0.9951618163320495, 0.9951618163320495, 0.9951618163320495, 0.9951618163320495, 0.9951618163320495, 0.9951618163320495, 0.9951618163320495, 0.9951618163320495, 0.9951618163320495, 0.9951618163320495, 0.9951618163320495, 0.9951618163320495, 0.9951711810771554, 0.9951711810771554, 0.9951711810771554, 0.9952439214534031, 0.9952439214534031]}], \"AUC_weighted\": [{\"categories\": [\"0\", \"1\", \"2\", \"3\", \"4\", \"5\", \"6\", \"7\", \"8\", \"9\", \"10\", \"11\", \"12\", \"13\", \"14\", \"15\", \"16\", \"17\", \"18\", \"19\", \"20\", \"21\", \"22\"], \"mode\": \"markers\", \"name\": \"AUC_weighted\", \"stepped\": false, \"type\": \"scatter\", \"data\": [0.9941196075391576, 0.9951618163320495, 0.9688141594212244, 0.716733066448299, 0.9371565694746614, 0.8967363611656943, 0.847754445691001, 0.9945155354563001, 0.800832084776311, 0.8093162145029057, 0.8050808264916123, 0.8415119398598416, 0.991884143217043, 0.9946184668448163, 0.8527316667497908, 0.9869085478104779, 0.9939402150569006, 0.8385744332281412, 0.9951711810771554, 0.8464851127964561, 0.9948979996359434, 0.9952439214534032, 0.9952402288355975]}, {\"categories\": [\"0\", \"1\", \"2\", \"3\", \"4\", \"5\", \"6\", \"7\", \"8\", \"9\", \"10\", \"11\", \"12\", \"13\", \"14\", \"15\", \"16\", \"17\", \"18\", \"19\", \"20\", \"21\", \"22\"], \"mode\": \"lines\", \"name\": \"AUC_weighted_max\", \"stepped\": true, \"type\": \"scatter\", \"data\": [0.9941196075391576, 0.9951618163320495, 0.9951618163320495, 0.9951618163320495, 0.9951618163320495, 0.9951618163320495, 0.9951618163320495, 0.9951618163320495, 0.9951618163320495, 0.9951618163320495, 0.9951618163320495, 0.9951618163320495, 0.9951618163320495, 0.9951618163320495, 0.9951618163320495, 0.9951618163320495, 0.9951618163320495, 0.9951618163320495, 0.9951711810771554, 0.9951711810771554, 0.9951711810771554, 0.9952439214534032, 0.9952439214534032]}], \"average_precision_score_macro\": [{\"categories\": [\"0\", \"1\", \"2\", \"3\", \"4\", \"5\", \"6\", \"7\", \"8\", \"9\", \"10\", \"11\", \"12\", \"13\", \"14\", \"15\", \"16\", \"17\", \"18\", \"19\", \"20\", \"21\", \"22\"], \"mode\": \"markers\", \"name\": \"average_precision_score_macro\", \"stepped\": false, \"type\": \"scatter\", \"data\": [0.7757420120085262, 0.8006364692012613, 0.610198061875951, 0.5086753571095607, 0.5901688630285533, 0.5552510166520189, 0.5329989738392312, 0.7673844660968111, 0.5190257016379873, 0.5209890371281396, 0.5196413921249685, 0.530872218566091, 0.7605133722724986, 0.7732541418887088, 0.5335852225293095, 0.6278900568988898, 0.7613020450331486, 0.5312490327501215, 0.8043979624345513, 0.5299503756105701, 0.778734483752956, 0.8006689150730383, 0.8006727656903844]}, {\"categories\": [\"0\", \"1\", \"2\", \"3\", \"4\", \"5\", \"6\", \"7\", \"8\", \"9\", \"10\", \"11\", \"12\", \"13\", \"14\", \"15\", \"16\", \"17\", \"18\", \"19\", \"20\", \"21\", \"22\"], \"mode\": \"lines\", \"name\": \"average_precision_score_macro_max\", \"stepped\": true, \"type\": \"scatter\", \"data\": [0.7757420120085262, 0.8006364692012613, 0.8006364692012613, 0.8006364692012613, 0.8006364692012613, 0.8006364692012613, 0.8006364692012613, 0.8006364692012613, 0.8006364692012613, 0.8006364692012613, 0.8006364692012613, 0.8006364692012613, 0.8006364692012613, 0.8006364692012613, 0.8006364692012613, 0.8006364692012613, 0.8006364692012613, 0.8006364692012613, 0.8043979624345513, 0.8043979624345513, 0.8043979624345513, 0.8043979624345513, 0.8043979624345513]}], \"norm_macro_recall\": [{\"categories\": [\"0\", \"1\", \"2\", \"3\", \"4\", \"5\", \"6\", \"7\", \"8\", \"9\", \"10\", \"11\", \"12\", \"13\", \"14\", \"15\", \"16\", \"17\", \"18\", \"19\", \"20\", \"21\", \"22\"], \"mode\": \"markers\", \"name\": \"norm_macro_recall\", \"stepped\": false, \"type\": \"scatter\", \"data\": [0.49045836113127944, 0.44434290201497534, 0.0, 0.0, 0.8195146271001589, 0.6302773939981094, 0.0, 0.35476015279648054, 0.0, 0.0, 0.0, 0.0, 0.0, 0.42136937023967297, 0.0, 0.0, 0.19528072695761453, 0.0, 0.43071601604308035, 0.0, 0.4203008260950427, 0.46802752689351146, 0.44872862132575153]}, {\"categories\": [\"0\", \"1\", \"2\", \"3\", \"4\", \"5\", \"6\", \"7\", \"8\", \"9\", \"10\", \"11\", \"12\", \"13\", \"14\", \"15\", \"16\", \"17\", \"18\", \"19\", \"20\", \"21\", \"22\"], \"mode\": \"lines\", \"name\": \"norm_macro_recall_max\", \"stepped\": true, \"type\": \"scatter\", \"data\": [0.49045836113127944, 0.49045836113127944, 0.49045836113127944, 0.49045836113127944, 0.8195146271001589, 0.8195146271001589, 0.8195146271001589, 0.8195146271001589, 0.8195146271001589, 0.8195146271001589, 0.8195146271001589, 0.8195146271001589, 0.8195146271001589, 0.8195146271001589, 0.8195146271001589, 0.8195146271001589, 0.8195146271001589, 0.8195146271001589, 0.8195146271001589, 0.8195146271001589, 0.8195146271001589, 0.8195146271001589, 0.8195146271001589]}], \"recall_score_macro\": [{\"categories\": [\"0\", \"1\", \"2\", \"3\", \"4\", \"5\", \"6\", \"7\", \"8\", \"9\", \"10\", \"11\", \"12\", \"13\", \"14\", \"15\", \"16\", \"17\", \"18\", \"19\", \"20\", \"21\", \"22\"], \"mode\": \"markers\", \"name\": \"recall_score_macro\", \"stepped\": false, \"type\": \"scatter\", \"data\": [0.7452291805656396, 0.7221714510074877, 0.5, 0.5, 0.9097573135500795, 0.8151386969990547, 0.5, 0.6773800763982404, 0.5, 0.5, 0.5, 0.5, 0.5, 0.7106846851198364, 0.5, 0.5, 0.5976403634788072, 0.5, 0.7153580080215401, 0.5, 0.7101504130475215, 0.7340137634467557, 0.7243643106628758]}, {\"categories\": [\"0\", \"1\", \"2\", \"3\", \"4\", \"5\", \"6\", \"7\", \"8\", \"9\", \"10\", \"11\", \"12\", \"13\", \"14\", \"15\", \"16\", \"17\", \"18\", \"19\", \"20\", \"21\", \"22\"], \"mode\": \"lines\", \"name\": \"recall_score_macro_max\", \"stepped\": true, \"type\": \"scatter\", \"data\": [0.7452291805656396, 0.7452291805656396, 0.7452291805656396, 0.7452291805656396, 0.9097573135500795, 0.9097573135500795, 0.9097573135500795, 0.9097573135500795, 0.9097573135500795, 0.9097573135500795, 0.9097573135500795, 0.9097573135500795, 0.9097573135500795, 0.9097573135500795, 0.9097573135500795, 0.9097573135500795, 0.9097573135500795, 0.9097573135500795, 0.9097573135500795, 0.9097573135500795, 0.9097573135500795, 0.9097573135500795, 0.9097573135500795]}], \"f1_score_micro\": [{\"categories\": [\"0\", \"1\", \"2\", \"3\", \"4\", \"5\", \"6\", \"7\", \"8\", \"9\", \"10\", \"11\", \"12\", \"13\", \"14\", \"15\", \"16\", \"17\", \"18\", \"19\", \"20\", \"21\", \"22\"], \"mode\": \"markers\", \"name\": \"f1_score_micro\", \"stepped\": false, \"type\": \"scatter\", \"data\": [0.9923916229377561, 0.9928821378331101, 0.9911162902693592, 0.9911162902693592, 0.9170393580406356, 0.8291821459878035, 0.9911162902693592, 0.9920319114204253, 0.9911162902693592, 0.9911162902693592, 0.9911162902693592, 0.9911162902693592, 0.9911162902693592, 0.9920864143428161, 0.9911162902693592, 0.9911162902693592, 0.9915958926750529, 0.9911162902693592, 0.992816735965877, 0.9911162902693592, 0.9922063162808992, 0.9930129401418059, 0.9927731337705415]}, {\"categories\": [\"0\", \"1\", \"2\", \"3\", \"4\", \"5\", \"6\", \"7\", \"8\", \"9\", \"10\", \"11\", \"12\", \"13\", \"14\", \"15\", \"16\", \"17\", \"18\", \"19\", \"20\", \"21\", \"22\"], \"mode\": \"lines\", \"name\": \"f1_score_micro_max\", \"stepped\": true, \"type\": \"scatter\", \"data\": [0.9923916229377561, 0.9928821378331101, 0.9928821378331101, 0.9928821378331101, 0.9928821378331101, 0.9928821378331101, 0.9928821378331101, 0.9928821378331101, 0.9928821378331101, 0.9928821378331101, 0.9928821378331101, 0.9928821378331101, 0.9928821378331101, 0.9928821378331101, 0.9928821378331101, 0.9928821378331101, 0.9928821378331101, 0.9928821378331101, 0.9928821378331101, 0.9928821378331101, 0.9928821378331101, 0.9930129401418059, 0.9930129401418059]}], \"average_precision_score_weighted\": [{\"categories\": [\"0\", \"1\", \"2\", \"3\", \"4\", \"5\", \"6\", \"7\", \"8\", \"9\", \"10\", \"11\", \"12\", \"13\", \"14\", \"15\", \"16\", \"17\", \"18\", \"19\", \"20\", \"21\", \"22\"], \"mode\": \"markers\", \"name\": \"average_precision_score_weighted\", \"stepped\": false, \"type\": \"scatter\", \"data\": [0.9959725820826603, 0.9964243416769394, 0.9926928716486434, 0.9871738529843715, 0.9920340846019311, 0.9909182575155694, 0.9898876678528907, 0.9958202811854703, 0.9891144365076724, 0.9891126974030199, 0.9891363712334503, 0.9897915693955316, 0.9956745044653176, 0.9959243489863296, 0.989984518237565, 0.9932598948073127, 0.9957020855720092, 0.989760983155045, 0.9964854153229515, 0.9898852912065766, 0.9960227273237932, 0.9964227616780699, 0.9964202873814241]}, {\"categories\": [\"0\", \"1\", \"2\", \"3\", \"4\", \"5\", \"6\", \"7\", \"8\", \"9\", \"10\", \"11\", \"12\", \"13\", \"14\", \"15\", \"16\", \"17\", \"18\", \"19\", \"20\", \"21\", \"22\"], \"mode\": \"lines\", \"name\": \"average_precision_score_weighted_max\", \"stepped\": true, \"type\": \"scatter\", \"data\": [0.9959725820826603, 0.9964243416769394, 0.9964243416769394, 0.9964243416769394, 0.9964243416769394, 0.9964243416769394, 0.9964243416769394, 0.9964243416769394, 0.9964243416769394, 0.9964243416769394, 0.9964243416769394, 0.9964243416769394, 0.9964243416769394, 0.9964243416769394, 0.9964243416769394, 0.9964243416769394, 0.9964243416769394, 0.9964243416769394, 0.9964854153229515, 0.9964854153229515, 0.9964854153229515, 0.9964854153229515, 0.9964854153229515]}]}, \"metricName\": null, \"primaryMetricName\": \"accuracy\", \"showLegend\": false}, \"run_metrics\": [{\"name\": \"accuracy\", \"run_id\": \"AutoML_801646f4-b90e-4143-8665-de9e8eed94f6\", \"categories\": [0], \"series\": [{\"data\": [0.9930129401418059]}]}, {\"name\": \"average_precision_score_weighted\", \"run_id\": \"AutoML_801646f4-b90e-4143-8665-de9e8eed94f6\", \"categories\": [0], \"series\": [{\"data\": [0.9964227616780699]}]}, {\"name\": \"f1_score_macro\", \"run_id\": \"AutoML_801646f4-b90e-4143-8665-de9e8eed94f6\", \"categories\": [0], \"series\": [{\"data\": [0.7703684717081535]}]}, {\"name\": \"precision_score_micro\", \"run_id\": \"AutoML_801646f4-b90e-4143-8665-de9e8eed94f6\", \"categories\": [0], \"series\": [{\"data\": [0.9930129401418059]}]}, {\"name\": \"average_precision_score_micro\", \"run_id\": \"AutoML_801646f4-b90e-4143-8665-de9e8eed94f6\", \"categories\": [0], \"series\": [{\"data\": [0.9998550280303663]}]}, {\"name\": \"f1_score_weighted\", \"run_id\": \"AutoML_801646f4-b90e-4143-8665-de9e8eed94f6\", \"categories\": [0], \"series\": [{\"data\": [0.9924637463360414]}]}, {\"name\": \"matthews_correlation\", \"run_id\": \"AutoML_801646f4-b90e-4143-8665-de9e8eed94f6\", \"categories\": [0], \"series\": [{\"data\": [0.5481299290435967]}]}, {\"name\": \"precision_score_weighted\", \"run_id\": \"AutoML_801646f4-b90e-4143-8665-de9e8eed94f6\", \"categories\": [0], \"series\": [{\"data\": [0.9921815710401516]}]}, {\"name\": \"average_precision_score_macro\", \"run_id\": \"AutoML_801646f4-b90e-4143-8665-de9e8eed94f6\", \"categories\": [0], \"series\": [{\"data\": [0.8006689150730383]}]}, {\"name\": \"recall_score_weighted\", \"run_id\": \"AutoML_801646f4-b90e-4143-8665-de9e8eed94f6\", \"categories\": [0], \"series\": [{\"data\": [0.9930129401418059]}]}, {\"name\": \"f1_score_micro\", \"run_id\": \"AutoML_801646f4-b90e-4143-8665-de9e8eed94f6\", \"categories\": [0], \"series\": [{\"data\": [0.9930129401418059]}]}, {\"name\": \"AUC_micro\", \"run_id\": \"AutoML_801646f4-b90e-4143-8665-de9e8eed94f6\", \"categories\": [0], \"series\": [{\"data\": [0.9998541524140716]}]}, {\"name\": \"recall_score_micro\", \"run_id\": \"AutoML_801646f4-b90e-4143-8665-de9e8eed94f6\", \"categories\": [0], \"series\": [{\"data\": [0.9930129401418059]}]}, {\"name\": \"recall_score_macro\", \"run_id\": \"AutoML_801646f4-b90e-4143-8665-de9e8eed94f6\", \"categories\": [0], \"series\": [{\"data\": [0.7340137634467557]}]}, {\"name\": \"balanced_accuracy\", \"run_id\": \"AutoML_801646f4-b90e-4143-8665-de9e8eed94f6\", \"categories\": [0], \"series\": [{\"data\": [0.7340137634467557]}]}, {\"name\": \"norm_macro_recall\", \"run_id\": \"AutoML_801646f4-b90e-4143-8665-de9e8eed94f6\", \"categories\": [0], \"series\": [{\"data\": [0.46802752689351146]}]}, {\"name\": \"weighted_accuracy\", \"run_id\": \"AutoML_801646f4-b90e-4143-8665-de9e8eed94f6\", \"categories\": [0], \"series\": [{\"data\": [0.9976590031577244]}]}, {\"name\": \"AUC_macro\", \"run_id\": \"AutoML_801646f4-b90e-4143-8665-de9e8eed94f6\", \"categories\": [0], \"series\": [{\"data\": [0.9952439214534031]}]}, {\"name\": \"precision_score_macro\", \"run_id\": \"AutoML_801646f4-b90e-4143-8665-de9e8eed94f6\", \"categories\": [0], \"series\": [{\"data\": [0.8213068094341806]}]}, {\"name\": \"log_loss\", \"run_id\": \"AutoML_801646f4-b90e-4143-8665-de9e8eed94f6\", \"categories\": [0], \"series\": [{\"data\": [0.0614171235561208]}]}, {\"name\": \"AUC_weighted\", \"run_id\": \"AutoML_801646f4-b90e-4143-8665-de9e8eed94f6\", \"categories\": [0], \"series\": [{\"data\": [0.9952439214534032]}]}], \"run_logs\": \"\\nRun is completed.\", \"graph\": {}, \"widget_settings\": {\"childWidgetDisplay\": \"popup\", \"send_telemetry\": false, \"log_level\": \"INFO\", \"sdk_version\": \"1.19.0\"}, \"loading\": false}"
          },
          "metadata": {}
        }
      ],
      "execution_count": 6,
      "metadata": {
        "collapsed": true,
        "jupyter": {
          "source_hidden": false,
          "outputs_hidden": false
        },
        "nteract": {
          "transient": {
            "deleting": false
          }
        },
        "gather": {
          "logged": 1611867984473
        }
      }
    },
    {
      "cell_type": "markdown",
      "source": [
        "## Best Model\n",
        "\n",
        "TODO: In the cell below, get the best model from the automl experiments and display all the properties of the model.\n",
        "\n"
      ],
      "metadata": {}
    },
    {
      "cell_type": "code",
      "source": [
        "# Retrieve and save your best automl model.\n",
        "best_automl_run, best_model = experiment_run.get_output()\n",
        "print(best_model._final_estimator)\n",
        "print(best_automl_run)\n",
        "print(best_automl_run.properties['score'])\n",
        "\n",
        "print(best_model)\n",
        "print('Best Run Id: ', best_automl_run.id)\n",
        "#print('\\n Accuracy:', best_automl_run.properties['accuracy'])"
      ],
      "outputs": [
        {
          "output_type": "stream",
          "name": "stdout",
          "text": [
            "PreFittedSoftVotingClassifier(classification_labels=None,\n",
            "                              estimators=[('1',\n",
            "                                           Pipeline(memory=None,\n",
            "                                                    steps=[('maxabsscaler',\n",
            "                                                            MaxAbsScaler(copy=True)),\n",
            "                                                           ('xgboostclassifier',\n",
            "                                                            XGBoostClassifier(base_score=0.5,\n",
            "                                                                              booster='gbtree',\n",
            "                                                                              colsample_bylevel=1,\n",
            "                                                                              colsample_bynode=1,\n",
            "                                                                              colsample_bytree=1,\n",
            "                                                                              gamma=0,\n",
            "                                                                              learning_rate=0.1,\n",
            "                                                                              max_delta_step=0,\n",
            "                                                                              max_depth=3,\n",
            "                                                                              min_child_weight=1,\n",
            "                                                                              miss...\n",
            "                                                                                   min_impurity_decrease=0.0,\n",
            "                                                                                   min_impurity_split=None,\n",
            "                                                                                   min_samples_leaf=0.01,\n",
            "                                                                                   min_samples_split=0.01,\n",
            "                                                                                   min_weight_fraction_leaf=0.0,\n",
            "                                                                                   n_estimators=25,\n",
            "                                                                                   n_jobs=-1,\n",
            "                                                                                   oob_score=True,\n",
            "                                                                                   random_state=None,\n",
            "                                                                                   verbose=0,\n",
            "                                                                                   warm_start=False))],\n",
            "                                                    verbose=False))],\n",
            "                              flatten_transform=None,\n",
            "                              weights=[0.26666666666666666, 0.06666666666666667,\n",
            "                                       0.06666666666666667, 0.06666666666666667,\n",
            "                                       0.13333333333333333, 0.2, 0.2])\n",
            "Run(Experiment: automlExperiment,\n",
            "Id: AutoML_9cd16b49-bdbb-4146-b318-16de190d5c6f_20,\n",
            "Type: None,\n",
            "Status: Completed)\n",
            "0.9930565423371412\n",
            "Pipeline(memory=None,\n",
            "         steps=[('datatransformer',\n",
            "                 DataTransformer(enable_dnn=None, enable_feature_sweeping=None,\n",
            "                                 feature_sweeping_config=None,\n",
            "                                 feature_sweeping_timeout=None,\n",
            "                                 featurization_config=None, force_text_dnn=None,\n",
            "                                 is_cross_validation=None,\n",
            "                                 is_onnx_compatible=None, logger=None,\n",
            "                                 observer=None, task=None, working_dir=None)),\n",
            "                ('prefittedsoftvotingclassifier',...\n",
            "                                                                                                    min_impurity_split=None,\n",
            "                                                                                                    min_samples_leaf=0.01,\n",
            "                                                                                                    min_samples_split=0.01,\n",
            "                                                                                                    min_weight_fraction_leaf=0.0,\n",
            "                                                                                                    n_estimators=25,\n",
            "                                                                                                    n_jobs=-1,\n",
            "                                                                                                    oob_score=True,\n",
            "                                                                                                    random_state=None,\n",
            "                                                                                                    verbose=0,\n",
            "                                                                                                    warm_start=False))],\n",
            "                                                                     verbose=False))],\n",
            "                                               flatten_transform=None,\n",
            "                                               weights=[0.26666666666666666,\n",
            "                                                        0.06666666666666667,\n",
            "                                                        0.06666666666666667,\n",
            "                                                        0.06666666666666667,\n",
            "                                                        0.13333333333333333,\n",
            "                                                        0.2, 0.2]))],\n",
            "         verbose=False)\n",
            "Y_transformer(['LabelEncoder', LabelEncoder()])\n",
            "Best Run Id:  AutoML_9cd16b49-bdbb-4146-b318-16de190d5c6f_20\n"
          ]
        }
      ],
      "execution_count": 7,
      "metadata": {
        "gather": {
          "logged": 1611963385973
        },
        "jupyter": {
          "outputs_hidden": false,
          "source_hidden": false
        },
        "nteract": {
          "transient": {
            "deleting": false
          }
        }
      }
    },
    {
      "cell_type": "code",
      "source": [
        "# Print out for project requirements\r\n",
        "print(best_automl_run)"
      ],
      "outputs": [
        {
          "output_type": "stream",
          "name": "stdout",
          "text": [
            "Run(Experiment: automlExperiment,\n",
            "Id: AutoML_9cd16b49-bdbb-4146-b318-16de190d5c6f_20,\n",
            "Type: None,\n",
            "Status: Completed)\n"
          ]
        }
      ],
      "execution_count": 8,
      "metadata": {
        "collapsed": true,
        "jupyter": {
          "source_hidden": false,
          "outputs_hidden": false
        },
        "nteract": {
          "transient": {
            "deleting": false
          }
        },
        "gather": {
          "logged": 1611963390157
        }
      }
    },
    {
      "cell_type": "markdown",
      "source": [
        "## Model Deployment\n",
        "\n",
        "Remember you have to deploy only one of the two models you trained.. Perform the steps in the rest of this notebook only if you wish to deploy this model.\n",
        "\n",
        "Register the model, create an inference config and deploy the model as a web service."
      ],
      "metadata": {}
    },
    {
      "cell_type": "code",
      "source": [
        "model = best_automl_run.register_model(model_name = \"best_run_automl.pkl\", model_path = './outputs/')\n",
        "model.download() "
      ],
      "outputs": [
        {
          "output_type": "execute_result",
          "execution_count": 10,
          "data": {
            "text/plain": "'outputs'"
          },
          "metadata": {}
        }
      ],
      "execution_count": 10,
      "metadata": {
        "gather": {
          "logged": 1611963452302
        },
        "jupyter": {
          "outputs_hidden": false,
          "source_hidden": false
        },
        "nteract": {
          "transient": {
            "deleting": false
          }
        }
      }
    },
    {
      "cell_type": "code",
      "source": [
        "aci_config = AciWebservice.deploy_configuration(cpu_cores=1, memory_gb=1)\n",
        "environment = Environment.from_conda_specification('my-automl-environment', './outputs/conda_env_v_1_0_0.yml')\n",
        "inference_config = InferenceConfig(entry_script='score.py', environment=environment)\n",
        "\n",
        "service = model.deploy(\n",
        "    workspace=ws,\n",
        "    name=\"automl-deploy-1\",\n",
        "    models=[model],\n",
        "    inference_config=inference_config,\n",
        "    deployment_config=aci_config,\n",
        "    overwrite=True\n",
        ")\n",
        "service.wait_for_deployment(show_output=True)"
      ],
      "outputs": [
        {
          "output_type": "stream",
          "name": "stdout",
          "text": [
            "Tips: You can try get_logs(): https://aka.ms/debugimage#dockerlog or local deployment: https://aka.ms/debugimage#debug-locally to debug if deployment takes longer than 10 minutes.\n",
            "Running..........................................................\n",
            "Succeeded\n",
            "ACI service creation operation finished, operation \"Succeeded\"\n"
          ]
        }
      ],
      "execution_count": 11,
      "metadata": {
        "collapsed": true,
        "jupyter": {
          "source_hidden": false,
          "outputs_hidden": false
        },
        "nteract": {
          "transient": {
            "deleting": false
          }
        },
        "gather": {
          "logged": 1611963753609
        }
      }
    },
    {
      "cell_type": "code",
      "source": [
        "service.update(enable_app_insights=True)"
      ],
      "outputs": [],
      "execution_count": 12,
      "metadata": {
        "collapsed": true,
        "jupyter": {
          "source_hidden": false,
          "outputs_hidden": false
        },
        "nteract": {
          "transient": {
            "deleting": false
          }
        },
        "gather": {
          "logged": 1611963777680
        }
      }
    },
    {
      "cell_type": "markdown",
      "source": [
        "In the cell below, send a request to the web service you deployed to test it. The field to predict is the last column.  "
      ],
      "metadata": {
        "collapsed": true,
        "gather": {
          "logged": 1598431657736
        },
        "jupyter": {
          "outputs_hidden": false,
          "source_hidden": false
        },
        "nteract": {
          "transient": {
            "deleting": false
          }
        }
      }
    },
    {
      "cell_type": "code",
      "source": [
        "ROW_ID = 0\n",
        "x = police_records.iloc[ROW_ID, :-1].to_dict()\n",
        "y = police_records.iloc[ROW_ID, -1]\n",
        "print(x)"
      ],
      "outputs": [
        {
          "output_type": "stream",
          "name": "stdout",
          "text": [
            "{'stop_date': '1/2/2005', 'stop_time': '1:55', 'county_name': 'NA', 'driver_gender': '1', 'driver_age': '20', 'driver_race': 'White', 'violation': 'Speeding', 'search_conducted': 'FALSE', 'search_type': 'NA', 'stop_outcome': 'Citation', 'is_arrested': 'FALSE', 'stop_duration': '0-15 Min'}\n"
          ]
        }
      ],
      "execution_count": 13,
      "metadata": {
        "collapsed": true,
        "jupyter": {
          "source_hidden": false,
          "outputs_hidden": false
        },
        "nteract": {
          "transient": {
            "deleting": false
          }
        },
        "gather": {
          "logged": 1611963783488
        }
      }
    },
    {
      "cell_type": "markdown",
      "source": [
        "Convert the data to JSON and then submit it to the web service deployed. "
      ],
      "metadata": {}
    },
    {
      "cell_type": "code",
      "source": [
        "import json\n",
        "import numpy as np\n",
        "input_payload = json.dumps({\n",
        "    'data': x\n",
        "})\n",
        "\n",
        "output = service.run(input_payload)\n",
        "print(f\"Predicted: {output}\\nExpected: {y}\")"
      ],
      "outputs": [
        {
          "output_type": "stream",
          "name": "stdout",
          "text": [
            "Predicted: ['FALSE']\n",
            "Expected: FALSE\n"
          ]
        }
      ],
      "execution_count": 14,
      "metadata": {
        "gather": {
          "logged": 1611963800918
        },
        "jupyter": {
          "outputs_hidden": false,
          "source_hidden": false
        },
        "nteract": {
          "transient": {
            "deleting": false
          }
        }
      }
    },
    {
      "cell_type": "code",
      "source": [
        "\r\n",
        "\r\n",
        "import requests\r\n",
        "import json\r\n",
        "scoringuri = service.scoring_uri\r\n",
        "#key=primary\r\n",
        "\r\n",
        "data={  \"data\":\r\n",
        " #{\r\n",
        "   #     'stop_date':'1/2/2005','stop_time': '1:55','county_name':'NA','driver_gender':'1','driver_age':'33','driver_race':'White','violation':'Speeding','search_conducted':'FALSE','search_type':'NA','stop_outcome':'Citation','is_arrested' :'FALSE','stop_duration':'0-15 Min'\r\n",
        "     #   },\r\n",
        "        {'stop_date':'10/1/2005','stop_time':'0:00','county_name':'NA','driver_gender':'1','driver_age':'17','driver_race':'White','violation':'Equipment','search_conducted':'TRUE','search_type':'Probable Cause','stop_outcome':'Arrest Driver','is_arrested' :'TRUE','stop_duration':'16-30 Min'}\r\n",
        "}\r\n",
        "\r\n",
        "\r\n",
        "input_data = json.dumps(data)\r\n",
        "\r\n",
        "headers = {'Content-Type': 'application/json'}\r\n",
        "# headers['Authorization'] = f'Bearer {key}'\r\n",
        "\r\n",
        "response = requests.post(scoringuri, input_data, headers = headers)\r\n",
        "print(response.text)"
      ],
      "outputs": [
        {
          "output_type": "stream",
          "name": "stdout",
          "text": [
            "[\"TRUE\"]\n"
          ]
        }
      ],
      "execution_count": 15,
      "metadata": {
        "collapsed": true,
        "jupyter": {
          "source_hidden": false,
          "outputs_hidden": false
        },
        "nteract": {
          "transient": {
            "deleting": false
          }
        },
        "gather": {
          "logged": 1611963807451
        }
      }
    },
    {
      "cell_type": "markdown",
      "source": [
        "In the cell below, print the logs of the web service and delete the service"
      ],
      "metadata": {
        "collapsed": true,
        "gather": {
          "logged": 1598432765711
        },
        "jupyter": {
          "outputs_hidden": false,
          "source_hidden": false
        },
        "nteract": {
          "transient": {
            "deleting": false
          }
        }
      }
    },
    {
      "cell_type": "code",
      "source": [
        "logs = service.get_logs()\n",
        "print(logs)\n",
        "service.delete()"
      ],
      "outputs": [
        {
          "output_type": "stream",
          "name": "stdout",
          "text": [
            "/usr/sbin/nginx: /azureml-envs/azureml_9c539d20199ae6be65c41c0382029684/lib/libcrypto.so.1.0.0: no version information available (required by /usr/sbin/nginx)\n",
            "/usr/sbin/nginx: /azureml-envs/azureml_9c539d20199ae6be65c41c0382029684/lib/libcrypto.so.1.0.0: no version information available (required by /usr/sbin/nginx)\n",
            "/usr/sbin/nginx: /azureml-envs/azureml_9c539d20199ae6be65c41c0382029684/lib/libssl.so.1.0.0: no version information available (required by /usr/sbin/nginx)\n",
            "/usr/sbin/nginx: /azureml-envs/azureml_9c539d20199ae6be65c41c0382029684/lib/libssl.so.1.0.0: no version information available (required by /usr/sbin/nginx)\n",
            "/usr/sbin/nginx: /azureml-envs/azureml_9c539d20199ae6be65c41c0382029684/lib/libssl.so.1.0.0: no version information available (required by /usr/sbin/nginx)\n",
            "2021-01-24T22:05:59,374435233+00:00 - iot-server/run \n",
            "2021-01-24T22:05:59,374747136+00:00 - gunicorn/run \n",
            "2021-01-24T22:05:59,376312853+00:00 - nginx/run \n",
            "2021-01-24T22:05:59,379499686+00:00 - rsyslog/run \n",
            "rsyslogd: /azureml-envs/azureml_9c539d20199ae6be65c41c0382029684/lib/libuuid.so.1: no version information available (required by rsyslogd)\n",
            "EdgeHubConnectionString and IOTEDGE_IOTHUBHOSTNAME are not set. Exiting...\n",
            "2021-01-24T22:05:59,523501492+00:00 - iot-server/finish 1 0\n",
            "2021-01-24T22:05:59,525949017+00:00 - Exit code 1 is normal. Not restarting iot-server.\n",
            "Starting gunicorn 19.9.0\n",
            "Listening at: http://127.0.0.1:31311 (14)\n",
            "Using worker: sync\n",
            "worker timeout is set to 300\n",
            "Booting worker with pid: 42\n",
            "SPARK_HOME not set. Skipping PySpark Initialization.\n",
            "Generating new fontManager, this may take some time...\n",
            "Initializing logger\n",
            "2021-01-24 22:06:01,603 | root | INFO | Starting up app insights client\n",
            "Starting up app insights client\n",
            "2021-01-24 22:06:01,603 | root | INFO | Starting up request id generator\n",
            "Starting up request id generator\n",
            "2021-01-24 22:06:01,603 | root | INFO | Starting up app insight hooks\n",
            "Starting up app insight hooks\n",
            "2021-01-24 22:06:01,603 | root | INFO | Invoking user's init function\n",
            "Invoking user's init function\n",
            "model initialized22:06:01\n",
            "/azureml-envs/azureml_9c539d20199ae6be65c41c0382029684/lib/python3.6/site-packages/sklearn/externals/joblib/__init__.py:15: FutureWarning: sklearn.externals.joblib is deprecated in 0.21 and will be removed in 0.23. Please import this functionality directly from joblib, which can be installed with: pip install joblib. If this warning is raised when loading pickled models, you may need to re-serialize those models with scikit-learn 0.21+.\n",
            "  warnings.warn(msg, category=FutureWarning)\n",
            "2021-01-24 22:06:02,544 | root | INFO | Users's init has completed successfully\n",
            "Users's init has completed successfully\n",
            "2021-01-24 22:06:02,622 | root | INFO | Skipping middleware: dbg_model_info as it's not enabled.\n",
            "Skipping middleware: dbg_model_info as it's not enabled.\n",
            "2021-01-24 22:06:02,622 | root | INFO | Skipping middleware: dbg_resource_usage as it's not enabled.\n",
            "Skipping middleware: dbg_resource_usage as it's not enabled.\n",
            "2021-01-24 22:06:02,624 | root | INFO | Scoring timeout is found from os.environ: 60000 ms\n",
            "Scoring timeout is found from os.environ: 60000 ms\n",
            "2021-01-24 22:06:04,085 | root | INFO | Validation Request Content-Type\n",
            "Validation Request Content-Type\n",
            "2021-01-24 22:06:04,086 | root | INFO | \tHost: localhost:5001\n",
            "\tHost: localhost:5001\n",
            "2021-01-24 22:06:04,086 | root | INFO | \tX-Real-Ip: 127.0.0.1\n",
            "\tX-Real-Ip: 127.0.0.1\n",
            "2021-01-24 22:06:04,086 | root | INFO | \tX-Forwarded-For: 127.0.0.1\n",
            "\tX-Forwarded-For: 127.0.0.1\n",
            "2021-01-24 22:06:04,086 | root | INFO | \tX-Forwarded-Proto: http\n",
            "\tX-Forwarded-Proto: http\n",
            "2021-01-24 22:06:04,086 | root | INFO | \tConnection: close\n",
            "\tConnection: close\n",
            "2021-01-24 22:06:04,086 | root | INFO | \tContent-Length: 299\n",
            "\tContent-Length: 299\n",
            "2021-01-24 22:06:04,086 | root | INFO | \tUser-Agent: python-requests/2.25.0\n",
            "\tUser-Agent: python-requests/2.25.0\n",
            "2021-01-24 22:06:04,086 | root | INFO | \tAccept: application/json\n",
            "\tAccept: application/json\n",
            "2021-01-24 22:06:04,087 | root | INFO | \tAccept-Encoding: gzip, deflate\n",
            "\tAccept-Encoding: gzip, deflate\n",
            "2021-01-24 22:06:04,087 | root | INFO | \tContent-Type: application/json\n",
            "\tContent-Type: application/json\n",
            "2021-01-24 22:06:04,087 | root | INFO | \tX-Ms-Request-Id: 3fd4d9ad-ec36-4869-8a86-7b0fd9a25b00\n",
            "\tX-Ms-Request-Id: 3fd4d9ad-ec36-4869-8a86-7b0fd9a25b00\n",
            "2021-01-24 22:06:04,087 | root | INFO | Scoring Timer is set to 60.0 seconds\n",
            "Scoring Timer is set to 60.0 seconds\n",
            "{\"input\": {\"data\": {\"stop_date\": \"1/2/2005\", \"stop_time\": \"1:55\", \"county_name\": \"NA\", \"driver_gender\": \"1\", \"driver_age\": \"20\", \"driver_race\": \"White\", \"violation\": \"Speeding\", \"search_conducted\": \"FALSE\", \"search_type\": \"NA\", \"stop_outcome\": \"Citation\", \"is_arrested\": \"FALSE\", \"stop_duration\": \"0-15 Min\"}}, \"output\": [\"FALSE\"]}\n",
            "2021-01-24 22:06:04,136 | root | INFO | 200\n",
            "200\n",
            "127.0.0.1 - - [24/Jan/2021:22:06:04 +0000] \"POST /score HTTP/1.0\" 200 9 \"-\" \"python-requests/2.25.0\"\n",
            "2021-01-24 22:06:04,820 | root | INFO | Swagger file not present\n",
            "Swagger file not present\n",
            "2021-01-24 22:06:04,820 | root | INFO | 404\n",
            "404\n",
            "127.0.0.1 - - [24/Jan/2021:22:06:04 +0000] \"GET /swagger.json HTTP/1.0\" 404 19 \"-\" \"Go-http-client/1.1\"\n",
            "\n"
          ]
        }
      ],
      "execution_count": 64,
      "metadata": {
        "jupyter": {
          "outputs_hidden": false,
          "source_hidden": false
        },
        "nteract": {
          "transient": {
            "deleting": false
          }
        },
        "gather": {
          "logged": 1611525971947
        }
      }
    }
  ],
  "metadata": {
    "kernel_info": {
      "name": "python3-azureml"
    },
    "kernelspec": {
      "name": "python3-azureml",
      "language": "python",
      "display_name": "Python 3.6 - AzureML"
    },
    "language_info": {
      "name": "python",
      "version": "3.6.9",
      "mimetype": "text/x-python",
      "codemirror_mode": {
        "name": "ipython",
        "version": 3
      },
      "pygments_lexer": "ipython3",
      "nbconvert_exporter": "python",
      "file_extension": ".py"
    },
    "nteract": {
      "version": "nteract-front-end@1.0.0"
    }
  },
  "nbformat": 4,
  "nbformat_minor": 2
}